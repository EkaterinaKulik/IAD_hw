{
 "cells": [
  {
   "cell_type": "markdown",
   "metadata": {
    "id": "Ffq6A2-ifzAA"
   },
   "source": [
    "# Интеллектуальный анализ данных – весна 2024\n",
    "# Домашнее задание 6: классификация текстов"
   ]
  },
  {
   "cell_type": "markdown",
   "metadata": {
    "id": "EPcxtekTA1Sm"
   },
   "source": [
    "Правила:\n",
    "\n",
    "\n",
    "\n",
    "*   Домашнее задание оценивается в 10 баллов.\n",
    "*   Можно использовать без доказательства любые результаты, встречавшиеся на лекциях или семинарах по курсу, если получение этих результатов не является вопросом задания.\n",
    "*  Можно использовать любые свободные источники с *обязательным* указанием ссылки на них.\n",
    "*  Плагиат не допускается. При обнаружении случаев списывания, 0 за работу выставляется всем участникам нарушения, даже если можно установить, кто у кого списал.\n",
    "*  Старайтесь сделать код как можно более оптимальным. В частности, будет штрафоваться использование циклов в тех случаях, когда операцию можно совершить при помощи инструментов библиотек, о которых рассказывалось в курсе."
   ]
  },
  {
   "cell_type": "markdown",
   "metadata": {
    "id": "itRtFtrOf0_b"
   },
   "source": [
    "В этом домашнем задании вам предстоит построить классификатор текстов.\n",
    "\n",
    "Будем предсказывать эмоциональную окраску твиттов о коронавирусе.\n",
    "\n"
   ]
  },
  {
   "cell_type": "code",
   "execution_count": 29,
   "metadata": {
    "id": "tNGRVO7_g9mz"
   },
   "outputs": [],
   "source": [
    "import numpy as np\n",
    "import pandas as pd\n",
    "from typing import  List\n",
    "import matplotlib.pyplot as plt\n",
    "import seaborn as sns\n",
    "from string import punctuation\n",
    "from nltk.tokenize import word_tokenize\n",
    "import warnings\n",
    "warnings.filterwarnings(\"ignore\")"
   ]
  },
  {
   "cell_type": "code",
   "execution_count": 30,
   "metadata": {
    "colab": {
     "base_uri": "https://localhost:8080/",
     "height": 174
    },
    "id": "zOy8iHJQg_Ss",
    "outputId": "01951c93-1976-4fd2-b432-f9ec217dbd17"
   },
   "outputs": [
    {
     "data": {
      "text/html": [
       "<div>\n",
       "<style scoped>\n",
       "    .dataframe tbody tr th:only-of-type {\n",
       "        vertical-align: middle;\n",
       "    }\n",
       "\n",
       "    .dataframe tbody tr th {\n",
       "        vertical-align: top;\n",
       "    }\n",
       "\n",
       "    .dataframe thead th {\n",
       "        text-align: right;\n",
       "    }\n",
       "</style>\n",
       "<table border=\"1\" class=\"dataframe\">\n",
       "  <thead>\n",
       "    <tr style=\"text-align: right;\">\n",
       "      <th></th>\n",
       "      <th>UserName</th>\n",
       "      <th>ScreenName</th>\n",
       "      <th>Location</th>\n",
       "      <th>TweetAt</th>\n",
       "      <th>OriginalTweet</th>\n",
       "      <th>Sentiment</th>\n",
       "    </tr>\n",
       "  </thead>\n",
       "  <tbody>\n",
       "    <tr>\n",
       "      <th>4563</th>\n",
       "      <td>9342</td>\n",
       "      <td>54294</td>\n",
       "      <td>Bradford, UK</td>\n",
       "      <td>19-03-2020</td>\n",
       "      <td>Let's appreciate how brilliant supermarket sta...</td>\n",
       "      <td>Extremely Positive</td>\n",
       "    </tr>\n",
       "    <tr>\n",
       "      <th>19429</th>\n",
       "      <td>27454</td>\n",
       "      <td>72406</td>\n",
       "      <td>New York and the World</td>\n",
       "      <td>26-03-2020</td>\n",
       "      <td>Lime and Bird are rethinking their business st...</td>\n",
       "      <td>Negative</td>\n",
       "    </tr>\n",
       "    <tr>\n",
       "      <th>18044</th>\n",
       "      <td>25756</td>\n",
       "      <td>70708</td>\n",
       "      <td>Perth, Wild West Australia</td>\n",
       "      <td>25-03-2020</td>\n",
       "      <td>good to see that after pubs and clubs are clos...</td>\n",
       "      <td>Positive</td>\n",
       "    </tr>\n",
       "    <tr>\n",
       "      <th>18494</th>\n",
       "      <td>26305</td>\n",
       "      <td>71257</td>\n",
       "      <td>one Earth one human</td>\n",
       "      <td>25-03-2020</td>\n",
       "      <td>We need Mass production of SANITIZER.. \\r\\r\\nN...</td>\n",
       "      <td>Extremely Positive</td>\n",
       "    </tr>\n",
       "  </tbody>\n",
       "</table>\n",
       "</div>"
      ],
      "text/plain": [
       "       UserName  ScreenName                    Location     TweetAt  \\\n",
       "4563       9342       54294                Bradford, UK  19-03-2020   \n",
       "19429     27454       72406      New York and the World  26-03-2020   \n",
       "18044     25756       70708  Perth, Wild West Australia  25-03-2020   \n",
       "18494     26305       71257         one Earth one human  25-03-2020   \n",
       "\n",
       "                                           OriginalTweet           Sentiment  \n",
       "4563   Let's appreciate how brilliant supermarket sta...  Extremely Positive  \n",
       "19429  Lime and Bird are rethinking their business st...            Negative  \n",
       "18044  good to see that after pubs and clubs are clos...            Positive  \n",
       "18494  We need Mass production of SANITIZER.. \\r\\r\\nN...  Extremely Positive  "
      ]
     },
     "execution_count": 30,
     "metadata": {},
     "output_type": "execute_result"
    }
   ],
   "source": [
    "df = pd.read_csv('tweets_coronavirus.csv', encoding='latin-1')\n",
    "df.sample(4)"
   ]
  },
  {
   "cell_type": "markdown",
   "metadata": {
    "id": "m2OiDog9ZBlS"
   },
   "source": [
    "Для каждого твитта указано:\n",
    "\n",
    "\n",
    "*   UserName - имя пользователя, заменено на целое число для анонимности\n",
    "*   ScreenName - отображающееся имя пользователя, заменено на целое число для анонимности\n",
    "*   Location - местоположение\n",
    "*   TweetAt - дата создания твитта\n",
    "*   OriginalTweet - текст твитта\n",
    "*   Sentiment - эмоциональная окраска твитта (целевая переменная)\n",
    "\n"
   ]
  },
  {
   "cell_type": "markdown",
   "metadata": {
    "id": "pZTMseDkhTC7"
   },
   "source": [
    "## Задание 1 Подготовка (0.5 балла)"
   ]
  },
  {
   "cell_type": "markdown",
   "metadata": {
    "id": "Xx2-odn9hdAW"
   },
   "source": [
    "Целевая переменная находится в колонке `Sentiment`.  Преобразуйте ее таким образом, чтобы она стала бинарной: 1 - если у твитта положительная эмоциональная окраска и 0 - если отрицательная."
   ]
  },
  {
   "cell_type": "code",
   "execution_count": 31,
   "metadata": {},
   "outputs": [],
   "source": [
    "df['Sentiment'] = df['Sentiment'].apply(lambda x: 1 if x == 'Positive' or x == 'Extremely Positive' else 0)"
   ]
  },
  {
   "cell_type": "markdown",
   "metadata": {
    "id": "pGq1FxJ-kBo5"
   },
   "source": [
    "Сбалансированы ли классы?"
   ]
  },
  {
   "cell_type": "code",
   "execution_count": 32,
   "metadata": {
    "id": "a7gdNtxckK5V"
   },
   "outputs": [
    {
     "data": {
      "text/plain": [
       "(18046, 6)"
      ]
     },
     "execution_count": 32,
     "metadata": {},
     "output_type": "execute_result"
    }
   ],
   "source": [
    "df[df['Sentiment'] == 1].shape"
   ]
  },
  {
   "cell_type": "code",
   "execution_count": 33,
   "metadata": {},
   "outputs": [
    {
     "data": {
      "text/plain": [
       "(15398, 6)"
      ]
     },
     "execution_count": 33,
     "metadata": {},
     "output_type": "execute_result"
    }
   ],
   "source": [
    "df[df['Sentiment'] == 0].shape"
   ]
  },
  {
   "cell_type": "markdown",
   "metadata": {
    "id": "Ng8BCelMkWb0"
   },
   "source": [
    "**Ответ:** Классы приблизительно сбалансированный, они отличаются друг от друга, но не намного"
   ]
  },
  {
   "cell_type": "markdown",
   "metadata": {
    "id": "qmSIBSsLk5Zz"
   },
   "source": [
    "Выведете на экран информацию о пропусках в данных. Если пропуски присутствуют заполните их строкой 'Unknown'."
   ]
  },
  {
   "cell_type": "code",
   "execution_count": 34,
   "metadata": {
    "id": "UhUVRkR5kxa7"
   },
   "outputs": [
    {
     "data": {
      "text/plain": [
       "UserName            0\n",
       "ScreenName          0\n",
       "Location         7049\n",
       "TweetAt             0\n",
       "OriginalTweet       0\n",
       "Sentiment           0\n",
       "dtype: int64"
      ]
     },
     "execution_count": 34,
     "metadata": {},
     "output_type": "execute_result"
    }
   ],
   "source": [
    "df.isna().sum()"
   ]
  },
  {
   "cell_type": "code",
   "execution_count": 35,
   "metadata": {},
   "outputs": [],
   "source": [
    "df['Location'] = df['Location'].fillna('Unknown')"
   ]
  },
  {
   "cell_type": "markdown",
   "metadata": {
    "id": "1tzt27tfjUpq"
   },
   "source": [
    "Разделите данные на обучающие и тестовые в соотношении 7 : 3 и `random_state=0`"
   ]
  },
  {
   "cell_type": "code",
   "execution_count": 36,
   "metadata": {},
   "outputs": [],
   "source": [
    "X = df.drop(columns = ['Sentiment'])\n",
    "y = df['Sentiment']"
   ]
  },
  {
   "cell_type": "code",
   "execution_count": 37,
   "metadata": {
    "id": "xSLOA9tIj9Z6"
   },
   "outputs": [],
   "source": [
    "from sklearn.model_selection import train_test_split\n",
    "\n",
    "X_train, X_test, y_train, y_test = train_test_split(X, y, \\\n",
    "                              test_size=0.3,\\\n",
    "                              shuffle=True,\n",
    "                              random_state=0)"
   ]
  },
  {
   "cell_type": "code",
   "execution_count": 38,
   "metadata": {},
   "outputs": [
    {
     "data": {
      "text/html": [
       "<div>\n",
       "<style scoped>\n",
       "    .dataframe tbody tr th:only-of-type {\n",
       "        vertical-align: middle;\n",
       "    }\n",
       "\n",
       "    .dataframe tbody tr th {\n",
       "        vertical-align: top;\n",
       "    }\n",
       "\n",
       "    .dataframe thead th {\n",
       "        text-align: right;\n",
       "    }\n",
       "</style>\n",
       "<table border=\"1\" class=\"dataframe\">\n",
       "  <thead>\n",
       "    <tr style=\"text-align: right;\">\n",
       "      <th></th>\n",
       "      <th>UserName</th>\n",
       "      <th>ScreenName</th>\n",
       "      <th>Location</th>\n",
       "      <th>TweetAt</th>\n",
       "      <th>OriginalTweet</th>\n",
       "    </tr>\n",
       "  </thead>\n",
       "  <tbody>\n",
       "    <tr>\n",
       "      <th>25621</th>\n",
       "      <td>35178</td>\n",
       "      <td>80130</td>\n",
       "      <td>Unknown</td>\n",
       "      <td>06-04-2020</td>\n",
       "      <td>Why we still want to buy so much stuff during ...</td>\n",
       "    </tr>\n",
       "    <tr>\n",
       "      <th>30135</th>\n",
       "      <td>40819</td>\n",
       "      <td>85771</td>\n",
       "      <td>Boston, MA HQ</td>\n",
       "      <td>10-04-2020</td>\n",
       "      <td>With driving even more usage a strong strategy...</td>\n",
       "    </tr>\n",
       "    <tr>\n",
       "      <th>28899</th>\n",
       "      <td>39249</td>\n",
       "      <td>84201</td>\n",
       "      <td>India</td>\n",
       "      <td>09-04-2020</td>\n",
       "      <td>@Canon_India I am very happy.. Great job by @C...</td>\n",
       "    </tr>\n",
       "    <tr>\n",
       "      <th>5989</th>\n",
       "      <td>11068</td>\n",
       "      <td>56020</td>\n",
       "      <td>Mayfair, London, UK</td>\n",
       "      <td>19-03-2020</td>\n",
       "      <td>The U.S national debt will likely exceed $30 T...</td>\n",
       "    </tr>\n",
       "    <tr>\n",
       "      <th>4367</th>\n",
       "      <td>9109</td>\n",
       "      <td>54061</td>\n",
       "      <td>WNC</td>\n",
       "      <td>18-03-2020</td>\n",
       "      <td>Finally got to the grocery store. Honestly, wh...</td>\n",
       "    </tr>\n",
       "    <tr>\n",
       "      <th>...</th>\n",
       "      <td>...</td>\n",
       "      <td>...</td>\n",
       "      <td>...</td>\n",
       "      <td>...</td>\n",
       "      <td>...</td>\n",
       "    </tr>\n",
       "    <tr>\n",
       "      <th>20757</th>\n",
       "      <td>29120</td>\n",
       "      <td>74072</td>\n",
       "      <td>Unknown</td>\n",
       "      <td>31-03-2020</td>\n",
       "      <td>Football is in ruins right now.When it will re...</td>\n",
       "    </tr>\n",
       "    <tr>\n",
       "      <th>32103</th>\n",
       "      <td>43291</td>\n",
       "      <td>88243</td>\n",
       "      <td>Waterville, Ireland Austin, TX</td>\n",
       "      <td>13-04-2020</td>\n",
       "      <td>Hand sanitizer made here on the Skellig Coast!...</td>\n",
       "    </tr>\n",
       "    <tr>\n",
       "      <th>30403</th>\n",
       "      <td>41159</td>\n",
       "      <td>86111</td>\n",
       "      <td>Mumbai , Delhi India</td>\n",
       "      <td>10-04-2020</td>\n",
       "      <td>An initiative  taken by our  @GOLDENINITIATI1 ...</td>\n",
       "    </tr>\n",
       "    <tr>\n",
       "      <th>21243</th>\n",
       "      <td>29702</td>\n",
       "      <td>74654</td>\n",
       "      <td>Unknown</td>\n",
       "      <td>01-04-2020</td>\n",
       "      <td>Vile premiership players demanding full wages ...</td>\n",
       "    </tr>\n",
       "    <tr>\n",
       "      <th>2732</th>\n",
       "      <td>7104</td>\n",
       "      <td>52056</td>\n",
       "      <td>Unknown</td>\n",
       "      <td>18-03-2020</td>\n",
       "      <td>Just wondering why we arenÃÂt screening at t...</td>\n",
       "    </tr>\n",
       "  </tbody>\n",
       "</table>\n",
       "<p>23410 rows × 5 columns</p>\n",
       "</div>"
      ],
      "text/plain": [
       "       UserName  ScreenName                        Location     TweetAt  \\\n",
       "25621     35178       80130                         Unknown  06-04-2020   \n",
       "30135     40819       85771                   Boston, MA HQ  10-04-2020   \n",
       "28899     39249       84201                           India  09-04-2020   \n",
       "5989      11068       56020             Mayfair, London, UK  19-03-2020   \n",
       "4367       9109       54061                             WNC  18-03-2020   \n",
       "...         ...         ...                             ...         ...   \n",
       "20757     29120       74072                         Unknown  31-03-2020   \n",
       "32103     43291       88243  Waterville, Ireland Austin, TX  13-04-2020   \n",
       "30403     41159       86111            Mumbai , Delhi India  10-04-2020   \n",
       "21243     29702       74654                         Unknown  01-04-2020   \n",
       "2732       7104       52056                         Unknown  18-03-2020   \n",
       "\n",
       "                                           OriginalTweet  \n",
       "25621  Why we still want to buy so much stuff during ...  \n",
       "30135  With driving even more usage a strong strategy...  \n",
       "28899  @Canon_India I am very happy.. Great job by @C...  \n",
       "5989   The U.S national debt will likely exceed $30 T...  \n",
       "4367   Finally got to the grocery store. Honestly, wh...  \n",
       "...                                                  ...  \n",
       "20757  Football is in ruins right now.When it will re...  \n",
       "32103  Hand sanitizer made here on the Skellig Coast!...  \n",
       "30403  An initiative  taken by our  @GOLDENINITIATI1 ...  \n",
       "21243  Vile premiership players demanding full wages ...  \n",
       "2732   Just wondering why we arenÃÂt screening at t...  \n",
       "\n",
       "[23410 rows x 5 columns]"
      ]
     },
     "execution_count": 38,
     "metadata": {},
     "output_type": "execute_result"
    }
   ],
   "source": [
    "X_train"
   ]
  },
  {
   "cell_type": "markdown",
   "metadata": {
    "id": "J9RrPUsJlL60"
   },
   "source": [
    "## Задание 2 Токенизация (3 балла)"
   ]
  },
  {
   "cell_type": "markdown",
   "metadata": {
    "id": "2Dz_b7Xopc_R"
   },
   "source": [
    "Постройте словарь на основе обучающей выборки и посчитайте количество встреч каждого токена с использованием самой простой токенизации - деления текстов по пробельным символам и приведение токенов в нижний регистр"
   ]
  },
  {
   "cell_type": "code",
   "execution_count": 39,
   "metadata": {
    "id": "SFr67WOJphny"
   },
   "outputs": [],
   "source": [
    "token_counts=dict()\n",
    "\n",
    "for tweet in X_train['OriginalTweet']:\n",
    "    tokens = tweet.lower().split()\n",
    "    for token in tokens:\n",
    "        if token in token_counts:\n",
    "            token_counts[token] += 1\n",
    "        else:\n",
    "            token_counts[token] = 1"
   ]
  },
  {
   "cell_type": "markdown",
   "metadata": {
    "id": "Pe0h2Jqkpnao"
   },
   "source": [
    "Какой размер словаря получился?"
   ]
  },
  {
   "cell_type": "code",
   "execution_count": 40,
   "metadata": {
    "id": "umyENA7EpokD"
   },
   "outputs": [
    {
     "data": {
      "text/plain": [
       "79755"
      ]
     },
     "execution_count": 40,
     "metadata": {},
     "output_type": "execute_result"
    }
   ],
   "source": [
    "len(token_counts)"
   ]
  },
  {
   "cell_type": "markdown",
   "metadata": {
    "id": "0d2G1Z-Qpqkd"
   },
   "source": [
    "Выведите 10 самых популярных токенов с количеством встреч каждого из них. Объясните, почему именно эти токены в топе"
   ]
  },
  {
   "cell_type": "code",
   "execution_count": 41,
   "metadata": {
    "id": "Impi32a_pssg"
   },
   "outputs": [
    {
     "name": "stdout",
     "output_type": "stream",
     "text": [
      "[('the', 26815), ('to', 23373), ('and', 14684), ('of', 13012), ('a', 11737), ('in', 11198), ('for', 8566), ('#coronavirus', 8223), ('is', 7383), ('are', 7050)]\n"
     ]
    }
   ],
   "source": [
    "sorted_tokens = sorted(token_counts.items(), key = lambda x: x[1], reverse = True)\n",
    "top_ten_tokens = sorted_tokens[:10]\n",
    "print(top_ten_tokens)"
   ]
  },
  {
   "cell_type": "markdown",
   "metadata": {
    "id": "ZtuJCD0ApuFd"
   },
   "source": [
    "**Ответ:** Наиболее часто встречающиеся токены это артикли и предлоги, поскольку они являются основой для построения предложения и будут употребляться намного больше, чем любые другие слова"
   ]
  },
  {
   "cell_type": "markdown",
   "metadata": {
    "id": "T7DTQDkWsVYp"
   },
   "source": [
    "Удалите стоп-слова из словаря и выведите новый топ-10 токенов (и количество встреч) по популярности.  Что можно сказать  о нем?"
   ]
  },
  {
   "cell_type": "code",
   "execution_count": 42,
   "metadata": {
    "id": "8csSAdgTsnFx"
   },
   "outputs": [
    {
     "name": "stdout",
     "output_type": "stream",
     "text": [
      "[('#coronavirus', 8223), ('prices', 3891), ('food', 3820), ('grocery', 3469), ('supermarket', 3288), ('people', 3175), ('covid-19', 3173), ('store', 3155), ('#covid19', 2471), ('&amp;', 2314)]\n"
     ]
    }
   ],
   "source": [
    "import nltk\n",
    "from nltk.corpus import stopwords\n",
    "\n",
    "stop_words = stopwords.words(\"english\")\n",
    "\n",
    "filtered_token_counts = [(key, value) for key, value in token_counts.items() if key not in stop_words]\n",
    "\n",
    "top_10_filtered_tokens = sorted(filtered_token_counts, key=lambda x: x[1], reverse=True)[:10]\n",
    "\n",
    "print(top_10_filtered_tokens)"
   ]
  },
  {
   "cell_type": "markdown",
   "metadata": {
    "id": "LZH0x2Lzs-Dh"
   },
   "source": [
    "**Ответ:**  Эти токены уже имеют какой-то содержательный смылсл, некоторые из них являются хештегами, некоторые словами из твитов"
   ]
  },
  {
   "cell_type": "markdown",
   "metadata": {
    "id": "TKSGRyI-uor0"
   },
   "source": [
    "Также выведите 20 самых непопулярных слов (если самых непопулярных слов больше выведите любые 20 из них) Почему эти токены непопулярны, требуется ли как-то дополнительно работать с ними?"
   ]
  },
  {
   "cell_type": "code",
   "execution_count": 43,
   "metadata": {
    "id": "moArbwfvun9t"
   },
   "outputs": [
    {
     "name": "stdout",
     "output_type": "stream",
     "text": [
      "[('https://t.co/1m881cwfuv', 1), ('happy..', 1), ('https://t.co/z0intks34x', 1), ('mnuchinã\\x82â\\x92s', 1), ('brink.', 1), ('https://t.co/jmobv8z0u0', 1), (\"university's\", 1), ('teaching.)', 1), ('@catholicpres', 1), ('@catholicuniv', 1), ('https://t.co/evqby035wf', 1), ('https://t.co/riqrhxxeim', 1), ('@@ballardspahrll', 1), ('#aca', 1), ('easier...take', 1), ('ã\\x82â\\x93necessaryã\\x82â\\x94', 1), ('https://t.co/0fmsmlgepm', 1), ('husted:', 1), ('irishman', 1), ('#happystpatricksday!', 1)]\n"
     ]
    }
   ],
   "source": [
    "least_popular_tokens =  sorted(filtered_token_counts, key=lambda x: x[1], reverse=False)[:20]\n",
    "print(least_popular_tokens)"
   ]
  },
  {
   "cell_type": "markdown",
   "metadata": {
    "id": "uRp3J1gQunlR"
   },
   "source": [
    "**Ответ:** В списке 20 самых непопулярных слов находятся ссылки на другие посты и других людей, что имеет смысл только в конкретном (единочном) контексте, поэтому они встречаются только один раз"
   ]
  },
  {
   "cell_type": "markdown",
   "metadata": {
    "id": "wx9LQOSPzvjV"
   },
   "source": [
    "Теперь воспользуемся токенайзером получше - TweetTokenizer из библиотеки nltk. Примените его и посмотрите на топ-10 популярных слов. Чем он отличается от топа, который получался раньше? Почему?"
   ]
  },
  {
   "cell_type": "code",
   "execution_count": 44,
   "metadata": {
    "id": "2G1UkyVxzvFY"
   },
   "outputs": [
    {
     "name": "stdout",
     "output_type": "stream",
     "text": [
      "[('the', 24337), ('.', 24118), ('to', 22933), (',', 17571), ('and', 14354), ('of', 12904), ('a', 11045), ('in', 10573), ('?', 9524), ('for', 8228)]\n"
     ]
    }
   ],
   "source": [
    "from nltk.tokenize import TweetTokenizer\n",
    "\n",
    "tweet_token_counts = dict()\n",
    "tw = TweetTokenizer()\n",
    "for tweet in X_train['OriginalTweet']:\n",
    "    tokens = tw.tokenize(tweet)\n",
    "    for token in tokens:\n",
    "        if token in tweet_token_counts:\n",
    "            tweet_token_counts[token] += 1\n",
    "        else:\n",
    "            tweet_token_counts[token] = 1\n",
    "sorted_tweet_tokens = sorted(tweet_token_counts.items(), key = lambda x: x[1], reverse = True)\n",
    "top_ten_tweet_tokens = sorted_tweet_tokens[:10]\n",
    "print(top_ten_tweet_tokens)"
   ]
  },
  {
   "cell_type": "markdown",
   "metadata": {
    "id": "50eVUnJN1Zxl"
   },
   "source": [
    "**Ответ:** С помощью токенайзера TweetTokenizer наиболее популярные токены стали также предлоги и еще пунктуация, поскольку TweetTokenizer учитывает все символы (это необходимо для фиксации смайликов)"
   ]
  },
  {
   "cell_type": "markdown",
   "metadata": {
    "id": "1gqQgiMs11bs"
   },
   "source": [
    "Удалите из словаря стоп-слова и пунктуацию, посмотрите на новый топ-10 слов с количеством встреч, есть ли теперь в нем что-то не похожее на слова?"
   ]
  },
  {
   "cell_type": "code",
   "execution_count": 45,
   "metadata": {
    "id": "0yHWdFrp0Mup"
   },
   "outputs": [
    {
     "name": "stdout",
     "output_type": "stream",
     "text": [
      "[('Â', 7415), ('\\x82', 7311), ('19', 7167), ('#coronavirus', 7143), ('I', 5235), ('\\x92', 4372), ('prices', 4281), ('COVID', 4218), ('food', 3795), ('store', 3691)]\n"
     ]
    }
   ],
   "source": [
    "from string import punctuation\n",
    "\n",
    "noise = stopwords.words(\"english\") + list(punctuation)\n",
    "\n",
    "filtered_tweet_token_counts = {key: value for key, value in tweet_token_counts.items() if key not in noise}\n",
    "\n",
    "top_10_filtered_tweet_tokens = sorted(filtered_tweet_token_counts.items(), key=lambda x: x[1], reverse=True)[:10]\n",
    "\n",
    "print(top_10_filtered_tweet_tokens)"
   ]
  },
  {
   "cell_type": "markdown",
   "metadata": {
    "id": "8ZJqXELP_Yxy"
   },
   "source": [
    "**Ответ:** Теперь в топ-10 входят отдельные буквы, цифры, слова и хештеги, однако буквы и цифры не подлежат содержательной интерпретации, поэтому необходимо доработать этот способ анализа твитов"
   ]
  },
  {
   "cell_type": "markdown",
   "metadata": {
    "id": "rzXjMsSB_kXB"
   },
   "source": [
    "Удалите из словаря токены из одного символа, с позицией в таблице Unicode 128 и более (`ord(x) >= 128`)\n",
    "\n",
    "Выведите топ-10 самых популярных и топ-20 непопулярных слов. Чем полученные топы отличаются от итоговых топов, полученных при использовании токенизации по пробелам? Что теперь лучше, а что хуже?"
   ]
  },
  {
   "cell_type": "code",
   "execution_count": 46,
   "metadata": {
    "id": "1695hlkS_1-J"
   },
   "outputs": [
    {
     "name": "stdout",
     "output_type": "stream",
     "text": [
      "Топ-10 популярных слов: [('19', 7167), ('#coronavirus', 7143), ('I', 5235), ('prices', 4281), ('COVID', 4218), ('food', 3795), ('store', 3691), ('supermarket', 3373), ('grocery', 3083), ('people', 3047)]\n",
      "\n",
      "Топ-20 непопулярных слов: [('https://t.co/1m881CwFUv', 1), ('https://t.co/Z0intkS34x', 1), ('MnuchinÃ', 1), ('https://t.co/JmoBv8z0U0', 1), (\"University's\", 1), ('@CatholicPres', 1), ('@CatholicUniv', 1), ('https://t.co/EvQby035wF', 1), ('https://t.co/rIQrhxxeIM', 1), ('@BallardSpahrLL', 1), ('#training', 1), ('#aca', 1), ('https://t.co/0FmSmlGePM', 1), ('Irishman', 1), ('#HappyStPatricksDay', 1), ('Guiness', 1), ('https://t.co/18V0PYHwb7', 1), ('https://t.co/LS0g86i8PU', 1), ('https://t.co/oFVkejfF23', 1), ('https://t.co/Xoodgd2uLx', 1)]\n"
     ]
    }
   ],
   "source": [
    "filtered_tweet_token_counts_new = {key: value for key, value in filtered_tweet_token_counts.items() if len(key) != 1 or ord(key) < 128}\n",
    "\n",
    "top_10_popular_tokens = sorted(filtered_tweet_token_counts_new.items(), key=lambda x: x[1], reverse=True)[:10]\n",
    "top_20_unpopular_tokens = sorted(filtered_tweet_token_counts_new.items(), key=lambda x: x[1])[:20]\n",
    "\n",
    "print(\"Топ-10 популярных слов:\", top_10_popular_tokens)\n",
    "\n",
    "print(\"\\nТоп-20 непопулярных слов:\", top_20_unpopular_tokens)"
   ]
  },
  {
   "cell_type": "markdown",
   "metadata": {
    "id": "KzjHAKIlDvc6"
   },
   "source": [
    "**Ответ:** Данный код убрал не все буквы и цифры, он удалил A, \\x82, однако не убрал 19 и I. Можно предположить, что цифра 19 нужна нам для интерпретации, однако однозначно местоимение I неп подлежит никакой интерпретации."
   ]
  },
  {
   "cell_type": "markdown",
   "metadata": {
    "id": "EcDf9_6HB2zm"
   },
   "source": [
    "Выведите топ-10 популярных хештегов с количеством встреч. Что можно сказать о них?"
   ]
  },
  {
   "cell_type": "code",
   "execution_count": 47,
   "metadata": {
    "id": "zk4fygCUBw3l"
   },
   "outputs": [
    {
     "name": "stdout",
     "output_type": "stream",
     "text": [
      "[('#coronavirus', 7143), ('#COVID19', 1844), ('#Covid_19', 1463), ('#Coronavirus', 1281), ('#COVID2019', 927), ('#toiletpaper', 657), ('#covid19', 568), ('#COVID', 542), ('#CoronaCrisis', 426), ('#CoronaVirus', 351)]\n"
     ]
    }
   ],
   "source": [
    "hashtags = {key: value for key, value in filtered_tweet_token_counts_new.items() if key.startswith(\"#\")}\n",
    "top_10_hashtags = sorted(hashtags.items(), key=lambda x: x[1], reverse=True)[:10]\n",
    "print(top_10_hashtags)"
   ]
  },
  {
   "cell_type": "markdown",
   "metadata": {
    "id": "-6NeNWBkDxM7"
   },
   "source": [
    "**Ответ:** Все топ-10 популярных хештегов связаны с короновирусом, написанные в разном формате"
   ]
  },
  {
   "cell_type": "markdown",
   "metadata": {
    "id": "LLYBg7caD5GA"
   },
   "source": [
    "То же самое проделайте для ссылок на сайт https://t.co Сравнима ли популярность ссылок с популярностью хештегов? Будет ли информация о ссылке на конкретную страницу полезна?"
   ]
  },
  {
   "cell_type": "code",
   "execution_count": 48,
   "metadata": {
    "id": "MXbm1oeaCK9S"
   },
   "outputs": [
    {
     "name": "stdout",
     "output_type": "stream",
     "text": [
      "[('https://t.co/oXA7SWtoNd', 5), ('https://t.co/gP3EusapL8', 4), ('https://t.co/DefTruI1PfÃ\\x82Â', 3), ('https://t.co/WrLHYzIzAA', 3), ('https://t.co/kuwIpF1KQW', 3), ('https://t.co/zjNRx6dKKN', 3), ('https://t.co/3GBBDpdjat', 3), ('https://t.co/e2ZNXajPre', 3), ('https://t.co/CATKegAyOY', 3), ('https://t.co/G63RP042HO', 3)]\n"
     ]
    }
   ],
   "source": [
    "links = {key: value for key, value in filtered_tweet_token_counts_new.items() if key.startswith(\"https://t.co\")}\n",
    "top_10_links = sorted(links.items(), key=lambda x: x[1], reverse=True)[:10]\n",
    "print(top_10_links)"
   ]
  },
  {
   "cell_type": "markdown",
   "metadata": {
    "id": "at6lRYZ8A07N"
   },
   "source": [
    "**Ответ:** Популярность ссылки не сравнима с популярностью хэштегов, популярность ссылок в разы меньше популярности хэштегов. Информация о ссылки вряд ли будет информативна, поскольку с учетом размера нашей выборки частота встречаемости ссылок нерепрезентативна и по ним нельзя сделать никаких содержательных выводов."
   ]
  },
  {
   "cell_type": "markdown",
   "metadata": {
    "id": "IOGdUU1kBU1D"
   },
   "source": [
    "Используем опыт предыдущих экспериментов и напишем собственный токенайзер, улучшив TweetTokenizer. Функция tokenize должна:\n",
    "\n",
    "\n",
    "\n",
    "*   Привести текст в нижний регистр\n",
    "*   Применить TweetTokenizer для изначального выделения токенов\n",
    "*   Удалить стоп-слова, пунктуацию, токены из одного символа, с позицией в таблице Unicode 128 и более и ссылки на t.co\n",
    "\n"
   ]
  },
  {
   "cell_type": "code",
   "execution_count": 49,
   "metadata": {
    "id": "ctEsB6xkFrrK"
   },
   "outputs": [],
   "source": [
    "def custom_tokenizer(text):\n",
    "    \n",
    "    text_to_tokenize = text.lower()\n",
    "    tw = TweetTokenizer()\n",
    "    text_to_filter = tw.tokenize(text_to_tokenize)\n",
    "    \n",
    "    noise = stopwords.words(\"english\") + list(punctuation)\n",
    "    tokens = [x for x in text_to_filter if (x not in noise) and ('https://t.co' not in x) and (all(ord(char) < 128 for char in x))]\n",
    "    \n",
    "    return tokens"
   ]
  },
  {
   "cell_type": "code",
   "execution_count": 50,
   "metadata": {
    "colab": {
     "base_uri": "https://localhost:8080/"
    },
    "id": "XwbgtYkJGYym",
    "outputId": "5808765b-3448-45e6-ccc1-7cd65f6371ef"
   },
   "outputs": [
    {
     "data": {
      "text/plain": [
       "['sample', 'text', '@sample_text', '#sampletext']"
      ]
     },
     "execution_count": 50,
     "metadata": {},
     "output_type": "execute_result"
    }
   ],
   "source": [
    "custom_tokenizer('This is sample text!!!! @Sample_text I, \\x92\\x92 https://t.co/sample  #sampletext')"
   ]
  },
  {
   "cell_type": "markdown",
   "metadata": {
    "id": "wURVABmXHk97"
   },
   "source": [
    "## Задание 3 Векторизация текстов (2 балла)"
   ]
  },
  {
   "cell_type": "markdown",
   "metadata": {
    "id": "H44iXkoHIQfN"
   },
   "source": [
    "Обучите CountVectorizer с использованием custom_tokenizer в качестве токенайзера. Как размер полученного словаря соотносится с размером изначального словаря из начала задания 2?"
   ]
  },
  {
   "cell_type": "code",
   "execution_count": 51,
   "metadata": {
    "colab": {
     "base_uri": "https://localhost:8080/"
    },
    "id": "gHn_limQl3BI",
    "outputId": "8e9c1826-319f-4376-f06e-c30c2eb82648"
   },
   "outputs": [
    {
     "name": "stdout",
     "output_type": "stream",
     "text": [
      "44130\n"
     ]
    }
   ],
   "source": [
    "from sklearn.feature_extraction.text import CountVectorizer\n",
    "\n",
    "cv = CountVectorizer(tokenizer=custom_tokenizer)\n",
    "X_cv = cv.fit_transform(X_train['OriginalTweet'])\n",
    "X_cv_test = cv.transform(X_test['OriginalTweet'])\n",
    "\n",
    "print(len(cv.vocabulary_))"
   ]
  },
  {
   "cell_type": "markdown",
   "metadata": {
    "id": "gsfmaSGoItUm"
   },
   "source": [
    "**Ответ:** При помощи  CountVectorizer полученный словарь стал меньше изначального, скоратившись практически в два раза"
   ]
  },
  {
   "cell_type": "markdown",
   "metadata": {
    "id": "lm6UHNmqKZT0"
   },
   "source": [
    "Посмотрим на какой-нибудь конкретный твитт:"
   ]
  },
  {
   "cell_type": "code",
   "execution_count": 52,
   "metadata": {
    "id": "aJVjjfqOJh8m"
   },
   "outputs": [
    {
     "data": {
      "text/plain": [
       "(\"Shop keepers taking advantage of #Coronavirus boosting prices disproportionately so the most Marginalised suffer who can't afford it #SHAMEONYOU #Wewillremember\",\n",
       " 0)"
      ]
     },
     "execution_count": 52,
     "metadata": {},
     "output_type": "execute_result"
    }
   ],
   "source": [
    "ind = 9023\n",
    "df.iloc[ind]['OriginalTweet'], df.iloc[ind]['Sentiment']"
   ]
  },
  {
   "cell_type": "markdown",
   "metadata": {
    "id": "PBMIHBI5KdaS"
   },
   "source": [
    "Автор твитта не доволен ситуацией с едой во Франции и текст имеет резко негативную окраску.\n",
    "\n",
    "Примените обученный CountVectorizer для векторизации данного текста, и попытайтесь определить самый важный токен и самый неважный токен (токен, компонента которого в векторе максимальна/минимальна, без учета 0). Хорошо ли они определились, почему?"
   ]
  },
  {
   "cell_type": "code",
   "execution_count": 53,
   "metadata": {
    "id": "7NcAllaEKsJj"
   },
   "outputs": [
    {
     "name": "stdout",
     "output_type": "stream",
     "text": [
      "Самый популярный токен: #coronavirus\n",
      "Самый непопулярный токкен: ###covid-19\n"
     ]
    }
   ],
   "source": [
    "tweet = [\"Shop keepers taking advantage of #Coronavirus boosting prices disproportionately so the most Marginalised suffer who can't afford it #SHAMEONYOU #Wewillremember\"]\n",
    "\n",
    "tweet_vectorised = cv.transform(tweet)\n",
    "\n",
    "max_index = tweet_vectorised.toarray().argmax()\n",
    "min_index = tweet_vectorised.toarray().argmin()\n",
    "\n",
    "max_token = list(cv.vocabulary_.keys())[list(cv.vocabulary_.values()).index(max_index)]\n",
    "min_token = list(cv.vocabulary_.keys())[list(cv.vocabulary_.values()).index(min_index)]\n",
    "\n",
    "print(\"Самый популярный токен:\", max_token)\n",
    "print(\"Самый непопулярный токкен:\", min_token)"
   ]
  },
  {
   "cell_type": "markdown",
   "metadata": {
    "id": "TpEsl1k_NF4T"
   },
   "source": [
    "**Ответ:** Двумя самыми важными и самыми неважными токенами являются слова, связанные с ковидом. Токены определились плохо, провести интрепретацию будет сложно, если не невозможно"
   ]
  },
  {
   "cell_type": "markdown",
   "metadata": {
    "id": "w4DsEQpLO3J6"
   },
   "source": [
    "Теперь примените TfidfVectorizer и  определите самый важный/неважный токены. Хорошо ли определились, почему?"
   ]
  },
  {
   "cell_type": "code",
   "execution_count": 54,
   "metadata": {
    "id": "uSNzdK3ENGB3"
   },
   "outputs": [],
   "source": [
    "from sklearn.feature_extraction.text import TfidfVectorizer\n",
    "vec = TfidfVectorizer(ngram_range=(1, 1), tokenizer=custom_tokenizer)\n",
    "X_vec = vec.fit_transform(X_train['OriginalTweet'])\n",
    "X_vec_test = vec.transform(X_test['OriginalTweet'])"
   ]
  },
  {
   "cell_type": "code",
   "execution_count": 55,
   "metadata": {},
   "outputs": [
    {
     "name": "stdout",
     "output_type": "stream",
     "text": [
      "Самый популярный токен: #wewillremember\n",
      "Самый непопулярный токен: ###covid-19\n"
     ]
    }
   ],
   "source": [
    "tweet_vectorised_tfid = vec.transform(tweet)\n",
    "\n",
    "max_index_tfid = tweet_vectorised_tfid.toarray().argmax()\n",
    "min_index_tfid = tweet_vectorised_tfid.toarray().argmin()\n",
    "\n",
    "max_token_tfid = list(vec.vocabulary_.keys())[list(vec.vocabulary_.values()).index(max_index_tfid)]\n",
    "min_token_tfid = list(vec.vocabulary_.keys())[list(vec.vocabulary_.values()).index(min_index_tfid)]\n",
    "\n",
    "print(\"Самый популярный токен:\", max_token_tfid)\n",
    "print(\"Самый непопулярный токен:\", min_token_tfid)"
   ]
  },
  {
   "cell_type": "markdown",
   "metadata": {
    "id": "NYao_UhqQADm"
   },
   "source": [
    "**Ответ:** Данная токенизация выглядит намного лучше, она содержит разные значения токенов и подлежит содержательной интерпретации"
   ]
  },
  {
   "cell_type": "markdown",
   "metadata": {
    "id": "LGRJPqfWSesQ"
   },
   "source": [
    "Найдите какой-нибудь положительно окрашенный твитт, где TfidfVectorizer хорошо (полезно для определения окраски) выделяет важный токен, поясните пример.\n",
    "\n",
    "*Подсказка:* явно положительные твитты можно искать при помощи положительных слов (good, great, amazing и т. д.)"
   ]
  },
  {
   "cell_type": "code",
   "execution_count": 56,
   "metadata": {
    "colab": {
     "base_uri": "https://localhost:8080/",
     "height": 53
    },
    "id": "bRbQ2CHiSuJI",
    "outputId": "c4b34a7d-1076-4e1e-ad5c-9466fd2097c2"
   },
   "outputs": [
    {
     "data": {
      "text/html": [
       "<div>\n",
       "<style scoped>\n",
       "    .dataframe tbody tr th:only-of-type {\n",
       "        vertical-align: middle;\n",
       "    }\n",
       "\n",
       "    .dataframe tbody tr th {\n",
       "        vertical-align: top;\n",
       "    }\n",
       "\n",
       "    .dataframe thead th {\n",
       "        text-align: right;\n",
       "    }\n",
       "</style>\n",
       "<table border=\"1\" class=\"dataframe\">\n",
       "  <thead>\n",
       "    <tr style=\"text-align: right;\">\n",
       "      <th></th>\n",
       "      <th>UserName</th>\n",
       "      <th>ScreenName</th>\n",
       "      <th>Location</th>\n",
       "      <th>TweetAt</th>\n",
       "      <th>OriginalTweet</th>\n",
       "      <th>Sentiment</th>\n",
       "    </tr>\n",
       "  </thead>\n",
       "  <tbody>\n",
       "    <tr>\n",
       "      <th>4</th>\n",
       "      <td>3804</td>\n",
       "      <td>48756</td>\n",
       "      <td>ÃÂT: 36.319708,-82.363649</td>\n",
       "      <td>16-03-2020</td>\n",
       "      <td>As news of the regionÃÂs first confirmed COV...</td>\n",
       "      <td>1</td>\n",
       "    </tr>\n",
       "    <tr>\n",
       "      <th>101</th>\n",
       "      <td>3920</td>\n",
       "      <td>48872</td>\n",
       "      <td>Unknown</td>\n",
       "      <td>16-03-2020</td>\n",
       "      <td>I love this ?? all grocery stores should have ...</td>\n",
       "      <td>1</td>\n",
       "    </tr>\n",
       "    <tr>\n",
       "      <th>114</th>\n",
       "      <td>3933</td>\n",
       "      <td>48885</td>\n",
       "      <td>Malaysia</td>\n",
       "      <td>16-03-2020</td>\n",
       "      <td>Good move in tackling down the Covid-19 spread...</td>\n",
       "      <td>1</td>\n",
       "    </tr>\n",
       "    <tr>\n",
       "      <th>192</th>\n",
       "      <td>4035</td>\n",
       "      <td>48987</td>\n",
       "      <td>San Diego, CA</td>\n",
       "      <td>16-03-2020</td>\n",
       "      <td>What's a good way to support grocery store, me...</td>\n",
       "      <td>1</td>\n",
       "    </tr>\n",
       "    <tr>\n",
       "      <th>372</th>\n",
       "      <td>4251</td>\n",
       "      <td>49203</td>\n",
       "      <td>New York City</td>\n",
       "      <td>16-03-2020</td>\n",
       "      <td>Covid-19 is changing consumer purchase habits ...</td>\n",
       "      <td>1</td>\n",
       "    </tr>\n",
       "    <tr>\n",
       "      <th>...</th>\n",
       "      <td>...</td>\n",
       "      <td>...</td>\n",
       "      <td>...</td>\n",
       "      <td>...</td>\n",
       "      <td>...</td>\n",
       "      <td>...</td>\n",
       "    </tr>\n",
       "    <tr>\n",
       "      <th>33291</th>\n",
       "      <td>44755</td>\n",
       "      <td>89707</td>\n",
       "      <td>New Delhi</td>\n",
       "      <td>14-04-2020</td>\n",
       "      <td>If you have high blood pressure, it's a good i...</td>\n",
       "      <td>1</td>\n",
       "    </tr>\n",
       "    <tr>\n",
       "      <th>33301</th>\n",
       "      <td>44767</td>\n",
       "      <td>89719</td>\n",
       "      <td>Canada</td>\n",
       "      <td>14-04-2020</td>\n",
       "      <td>We may be saying goodbye to paper flyers soon,...</td>\n",
       "      <td>1</td>\n",
       "    </tr>\n",
       "    <tr>\n",
       "      <th>33343</th>\n",
       "      <td>44822</td>\n",
       "      <td>89774</td>\n",
       "      <td>United States</td>\n",
       "      <td>14-04-2020</td>\n",
       "      <td>Remember back in the day when youÃÂd go to t...</td>\n",
       "      <td>1</td>\n",
       "    </tr>\n",
       "    <tr>\n",
       "      <th>33346</th>\n",
       "      <td>44826</td>\n",
       "      <td>89778</td>\n",
       "      <td>Toronto, ONT, Canada</td>\n",
       "      <td>14-04-2020</td>\n",
       "      <td>this deck by .@lukew in insanely good - great ...</td>\n",
       "      <td>1</td>\n",
       "    </tr>\n",
       "    <tr>\n",
       "      <th>33380</th>\n",
       "      <td>44871</td>\n",
       "      <td>89823</td>\n",
       "      <td>Rawalpindi, Pakistan</td>\n",
       "      <td>14-04-2020</td>\n",
       "      <td>At Mr Tasty , we aim to provide great Taste an...</td>\n",
       "      <td>1</td>\n",
       "    </tr>\n",
       "  </tbody>\n",
       "</table>\n",
       "<p>783 rows × 6 columns</p>\n",
       "</div>"
      ],
      "text/plain": [
       "       UserName  ScreenName                     Location     TweetAt  \\\n",
       "4          3804       48756  ÃÂT: 36.319708,-82.363649  16-03-2020   \n",
       "101        3920       48872                      Unknown  16-03-2020   \n",
       "114        3933       48885                     Malaysia  16-03-2020   \n",
       "192        4035       48987                San Diego, CA  16-03-2020   \n",
       "372        4251       49203                New York City  16-03-2020   \n",
       "...         ...         ...                          ...         ...   \n",
       "33291     44755       89707                    New Delhi  14-04-2020   \n",
       "33301     44767       89719                       Canada  14-04-2020   \n",
       "33343     44822       89774                United States  14-04-2020   \n",
       "33346     44826       89778         Toronto, ONT, Canada  14-04-2020   \n",
       "33380     44871       89823         Rawalpindi, Pakistan  14-04-2020   \n",
       "\n",
       "                                           OriginalTweet  Sentiment  \n",
       "4      As news of the regionÃÂs first confirmed COV...          1  \n",
       "101    I love this ?? all grocery stores should have ...          1  \n",
       "114    Good move in tackling down the Covid-19 spread...          1  \n",
       "192    What's a good way to support grocery store, me...          1  \n",
       "372    Covid-19 is changing consumer purchase habits ...          1  \n",
       "...                                                  ...        ...  \n",
       "33291  If you have high blood pressure, it's a good i...          1  \n",
       "33301  We may be saying goodbye to paper flyers soon,...          1  \n",
       "33343  Remember back in the day when youÃÂd go to t...          1  \n",
       "33346  this deck by .@lukew in insanely good - great ...          1  \n",
       "33380  At Mr Tasty , we aim to provide great Taste an...          1  \n",
       "\n",
       "[783 rows x 6 columns]"
      ]
     },
     "execution_count": 56,
     "metadata": {},
     "output_type": "execute_result"
    }
   ],
   "source": [
    "df[df['OriginalTweet'].apply(lambda x: 'good' in x) & (df['Sentiment'] == 1)]"
   ]
  },
  {
   "cell_type": "code",
   "execution_count": 57,
   "metadata": {
    "id": "jSjbKPCWk87K"
   },
   "outputs": [
    {
     "data": {
      "text/plain": [
       "('Good move in tackling down the Covid-19 spreading. \\r\\r\\n\\r\\r\\nNow please implement a new policy to restrict consumers from hoarding goods at any supermarket/grocery stores. No point creating safety measurements if some people canÃ\\x82Â\\x92t be changed from being selfish.',\n",
       " 1)"
      ]
     },
     "execution_count": 57,
     "metadata": {},
     "output_type": "execute_result"
    }
   ],
   "source": [
    "df.iloc[114]['OriginalTweet'], df.iloc[114]['Sentiment']"
   ]
  },
  {
   "cell_type": "code",
   "execution_count": 58,
   "metadata": {},
   "outputs": [
    {
     "name": "stdout",
     "output_type": "stream",
     "text": [
      "Самый популярный токен: measurements\n",
      "Самый непопулярный токен: ###covid-19\n"
     ]
    }
   ],
   "source": [
    "tweet_vectorised_tfid = vec.transform(['Good move in tackling down the Covid-19 spreading. \\r\\r\\n\\r\\r\\nNow please implement a new policy to restrict consumers from hoarding goods at any supermarket/grocery stores. No point creating safety measurements if some people canÃ\\x82Â\\x92t be changed from being selfish.'])\n",
    "\n",
    "max_index_tfid = tweet_vectorised_tfid.toarray().argmax()\n",
    "min_index_tfid = tweet_vectorised_tfid.toarray().argmin()\n",
    "\n",
    "max_token_tfid = list(vec.vocabulary_.keys())[list(vec.vocabulary_.values()).index(max_index_tfid)]\n",
    "min_token_tfid = list(vec.vocabulary_.keys())[list(vec.vocabulary_.values()).index(min_index_tfid)]\n",
    "\n",
    "print(\"Самый популярный токен:\", max_token_tfid)\n",
    "print(\"Самый непопулярный токен:\", min_token_tfid)"
   ]
  },
  {
   "cell_type": "markdown",
   "metadata": {
    "id": "JTv9ST2_U6NA"
   },
   "source": [
    "**Ответ:** В самом популярном токене выделятся то, за что человек хвалит правительство. Благодаря этому мы можем определить отношение населения к препренимаемым мерам."
   ]
  },
  {
   "cell_type": "markdown",
   "metadata": {
    "id": "JVEuZm8BHms6"
   },
   "source": [
    "## Задание 4 Обучение первых моделей (1 балл)"
   ]
  },
  {
   "cell_type": "markdown",
   "metadata": {
    "id": "JADkO3sfXdOG"
   },
   "source": [
    "Примените оба векторайзера для получения матриц с признаками текстов.  Выделите целевую переменную."
   ]
  },
  {
   "cell_type": "code",
   "execution_count": 59,
   "metadata": {
    "id": "DguoiXhCX2oN"
   },
   "outputs": [],
   "source": [
    "cv_feature_names = cv.get_feature_names_out(())\n",
    "tfid_feature_names = vec.get_feature_names_out(())"
   ]
  },
  {
   "cell_type": "code",
   "execution_count": 60,
   "metadata": {},
   "outputs": [
    {
     "data": {
      "text/html": [
       "<div>\n",
       "<style scoped>\n",
       "    .dataframe tbody tr th:only-of-type {\n",
       "        vertical-align: middle;\n",
       "    }\n",
       "\n",
       "    .dataframe tbody tr th {\n",
       "        vertical-align: top;\n",
       "    }\n",
       "\n",
       "    .dataframe thead th {\n",
       "        text-align: right;\n",
       "    }\n",
       "</style>\n",
       "<table border=\"1\" class=\"dataframe\">\n",
       "  <thead>\n",
       "    <tr style=\"text-align: right;\">\n",
       "      <th></th>\n",
       "      <th>###covid-19</th>\n",
       "      <th>##coronavirus</th>\n",
       "      <th>##covid_19</th>\n",
       "      <th>##fda</th>\n",
       "      <th>##stayhomesavelives</th>\n",
       "      <th>#01</th>\n",
       "      <th>#10</th>\n",
       "      <th>#1000</th>\n",
       "      <th>#100daysofcode</th>\n",
       "      <th>#100percent</th>\n",
       "      <th>...</th>\n",
       "      <th>zuku</th>\n",
       "      <th>zumba</th>\n",
       "      <th>zumbuehl</th>\n",
       "      <th>zumindest</th>\n",
       "      <th>zuppardo's</th>\n",
       "      <th>zur</th>\n",
       "      <th>zusendung</th>\n",
       "      <th>zwd</th>\n",
       "      <th>zwoferink</th>\n",
       "      <th>zzz</th>\n",
       "    </tr>\n",
       "  </thead>\n",
       "  <tbody>\n",
       "    <tr>\n",
       "      <th>0</th>\n",
       "      <td>0</td>\n",
       "      <td>0</td>\n",
       "      <td>0</td>\n",
       "      <td>0</td>\n",
       "      <td>0</td>\n",
       "      <td>0</td>\n",
       "      <td>0</td>\n",
       "      <td>0</td>\n",
       "      <td>0</td>\n",
       "      <td>0</td>\n",
       "      <td>...</td>\n",
       "      <td>0</td>\n",
       "      <td>0</td>\n",
       "      <td>0</td>\n",
       "      <td>0</td>\n",
       "      <td>0</td>\n",
       "      <td>0</td>\n",
       "      <td>0</td>\n",
       "      <td>0</td>\n",
       "      <td>0</td>\n",
       "      <td>0</td>\n",
       "    </tr>\n",
       "    <tr>\n",
       "      <th>1</th>\n",
       "      <td>0</td>\n",
       "      <td>0</td>\n",
       "      <td>0</td>\n",
       "      <td>0</td>\n",
       "      <td>0</td>\n",
       "      <td>0</td>\n",
       "      <td>0</td>\n",
       "      <td>0</td>\n",
       "      <td>0</td>\n",
       "      <td>0</td>\n",
       "      <td>...</td>\n",
       "      <td>0</td>\n",
       "      <td>0</td>\n",
       "      <td>0</td>\n",
       "      <td>0</td>\n",
       "      <td>0</td>\n",
       "      <td>0</td>\n",
       "      <td>0</td>\n",
       "      <td>0</td>\n",
       "      <td>0</td>\n",
       "      <td>0</td>\n",
       "    </tr>\n",
       "    <tr>\n",
       "      <th>2</th>\n",
       "      <td>0</td>\n",
       "      <td>0</td>\n",
       "      <td>0</td>\n",
       "      <td>0</td>\n",
       "      <td>0</td>\n",
       "      <td>0</td>\n",
       "      <td>0</td>\n",
       "      <td>0</td>\n",
       "      <td>0</td>\n",
       "      <td>0</td>\n",
       "      <td>...</td>\n",
       "      <td>0</td>\n",
       "      <td>0</td>\n",
       "      <td>0</td>\n",
       "      <td>0</td>\n",
       "      <td>0</td>\n",
       "      <td>0</td>\n",
       "      <td>0</td>\n",
       "      <td>0</td>\n",
       "      <td>0</td>\n",
       "      <td>0</td>\n",
       "    </tr>\n",
       "    <tr>\n",
       "      <th>3</th>\n",
       "      <td>0</td>\n",
       "      <td>0</td>\n",
       "      <td>0</td>\n",
       "      <td>0</td>\n",
       "      <td>0</td>\n",
       "      <td>0</td>\n",
       "      <td>0</td>\n",
       "      <td>0</td>\n",
       "      <td>0</td>\n",
       "      <td>0</td>\n",
       "      <td>...</td>\n",
       "      <td>0</td>\n",
       "      <td>0</td>\n",
       "      <td>0</td>\n",
       "      <td>0</td>\n",
       "      <td>0</td>\n",
       "      <td>0</td>\n",
       "      <td>0</td>\n",
       "      <td>0</td>\n",
       "      <td>0</td>\n",
       "      <td>0</td>\n",
       "    </tr>\n",
       "    <tr>\n",
       "      <th>4</th>\n",
       "      <td>0</td>\n",
       "      <td>0</td>\n",
       "      <td>0</td>\n",
       "      <td>0</td>\n",
       "      <td>0</td>\n",
       "      <td>0</td>\n",
       "      <td>0</td>\n",
       "      <td>0</td>\n",
       "      <td>0</td>\n",
       "      <td>0</td>\n",
       "      <td>...</td>\n",
       "      <td>0</td>\n",
       "      <td>0</td>\n",
       "      <td>0</td>\n",
       "      <td>0</td>\n",
       "      <td>0</td>\n",
       "      <td>0</td>\n",
       "      <td>0</td>\n",
       "      <td>0</td>\n",
       "      <td>0</td>\n",
       "      <td>0</td>\n",
       "    </tr>\n",
       "    <tr>\n",
       "      <th>...</th>\n",
       "      <td>...</td>\n",
       "      <td>...</td>\n",
       "      <td>...</td>\n",
       "      <td>...</td>\n",
       "      <td>...</td>\n",
       "      <td>...</td>\n",
       "      <td>...</td>\n",
       "      <td>...</td>\n",
       "      <td>...</td>\n",
       "      <td>...</td>\n",
       "      <td>...</td>\n",
       "      <td>...</td>\n",
       "      <td>...</td>\n",
       "      <td>...</td>\n",
       "      <td>...</td>\n",
       "      <td>...</td>\n",
       "      <td>...</td>\n",
       "      <td>...</td>\n",
       "      <td>...</td>\n",
       "      <td>...</td>\n",
       "      <td>...</td>\n",
       "    </tr>\n",
       "    <tr>\n",
       "      <th>23405</th>\n",
       "      <td>0</td>\n",
       "      <td>0</td>\n",
       "      <td>0</td>\n",
       "      <td>0</td>\n",
       "      <td>0</td>\n",
       "      <td>0</td>\n",
       "      <td>0</td>\n",
       "      <td>0</td>\n",
       "      <td>0</td>\n",
       "      <td>0</td>\n",
       "      <td>...</td>\n",
       "      <td>0</td>\n",
       "      <td>0</td>\n",
       "      <td>0</td>\n",
       "      <td>0</td>\n",
       "      <td>0</td>\n",
       "      <td>0</td>\n",
       "      <td>0</td>\n",
       "      <td>0</td>\n",
       "      <td>0</td>\n",
       "      <td>0</td>\n",
       "    </tr>\n",
       "    <tr>\n",
       "      <th>23406</th>\n",
       "      <td>0</td>\n",
       "      <td>0</td>\n",
       "      <td>0</td>\n",
       "      <td>0</td>\n",
       "      <td>0</td>\n",
       "      <td>0</td>\n",
       "      <td>0</td>\n",
       "      <td>0</td>\n",
       "      <td>0</td>\n",
       "      <td>0</td>\n",
       "      <td>...</td>\n",
       "      <td>0</td>\n",
       "      <td>0</td>\n",
       "      <td>0</td>\n",
       "      <td>0</td>\n",
       "      <td>0</td>\n",
       "      <td>0</td>\n",
       "      <td>0</td>\n",
       "      <td>0</td>\n",
       "      <td>0</td>\n",
       "      <td>0</td>\n",
       "    </tr>\n",
       "    <tr>\n",
       "      <th>23407</th>\n",
       "      <td>0</td>\n",
       "      <td>0</td>\n",
       "      <td>0</td>\n",
       "      <td>0</td>\n",
       "      <td>0</td>\n",
       "      <td>0</td>\n",
       "      <td>0</td>\n",
       "      <td>0</td>\n",
       "      <td>0</td>\n",
       "      <td>0</td>\n",
       "      <td>...</td>\n",
       "      <td>0</td>\n",
       "      <td>0</td>\n",
       "      <td>0</td>\n",
       "      <td>0</td>\n",
       "      <td>0</td>\n",
       "      <td>0</td>\n",
       "      <td>0</td>\n",
       "      <td>0</td>\n",
       "      <td>0</td>\n",
       "      <td>0</td>\n",
       "    </tr>\n",
       "    <tr>\n",
       "      <th>23408</th>\n",
       "      <td>0</td>\n",
       "      <td>0</td>\n",
       "      <td>0</td>\n",
       "      <td>0</td>\n",
       "      <td>0</td>\n",
       "      <td>0</td>\n",
       "      <td>0</td>\n",
       "      <td>0</td>\n",
       "      <td>0</td>\n",
       "      <td>0</td>\n",
       "      <td>...</td>\n",
       "      <td>0</td>\n",
       "      <td>0</td>\n",
       "      <td>0</td>\n",
       "      <td>0</td>\n",
       "      <td>0</td>\n",
       "      <td>0</td>\n",
       "      <td>0</td>\n",
       "      <td>0</td>\n",
       "      <td>0</td>\n",
       "      <td>0</td>\n",
       "    </tr>\n",
       "    <tr>\n",
       "      <th>23409</th>\n",
       "      <td>0</td>\n",
       "      <td>0</td>\n",
       "      <td>0</td>\n",
       "      <td>0</td>\n",
       "      <td>0</td>\n",
       "      <td>0</td>\n",
       "      <td>0</td>\n",
       "      <td>0</td>\n",
       "      <td>0</td>\n",
       "      <td>0</td>\n",
       "      <td>...</td>\n",
       "      <td>0</td>\n",
       "      <td>0</td>\n",
       "      <td>0</td>\n",
       "      <td>0</td>\n",
       "      <td>0</td>\n",
       "      <td>0</td>\n",
       "      <td>0</td>\n",
       "      <td>0</td>\n",
       "      <td>0</td>\n",
       "      <td>0</td>\n",
       "    </tr>\n",
       "  </tbody>\n",
       "</table>\n",
       "<p>23410 rows × 44130 columns</p>\n",
       "</div>"
      ],
      "text/plain": [
       "       ###covid-19  ##coronavirus  ##covid_19  ##fda  ##stayhomesavelives  \\\n",
       "0                0              0           0      0                    0   \n",
       "1                0              0           0      0                    0   \n",
       "2                0              0           0      0                    0   \n",
       "3                0              0           0      0                    0   \n",
       "4                0              0           0      0                    0   \n",
       "...            ...            ...         ...    ...                  ...   \n",
       "23405            0              0           0      0                    0   \n",
       "23406            0              0           0      0                    0   \n",
       "23407            0              0           0      0                    0   \n",
       "23408            0              0           0      0                    0   \n",
       "23409            0              0           0      0                    0   \n",
       "\n",
       "       #01  #10  #1000  #100daysofcode  #100percent  ...  zuku  zumba  \\\n",
       "0        0    0      0               0            0  ...     0      0   \n",
       "1        0    0      0               0            0  ...     0      0   \n",
       "2        0    0      0               0            0  ...     0      0   \n",
       "3        0    0      0               0            0  ...     0      0   \n",
       "4        0    0      0               0            0  ...     0      0   \n",
       "...    ...  ...    ...             ...          ...  ...   ...    ...   \n",
       "23405    0    0      0               0            0  ...     0      0   \n",
       "23406    0    0      0               0            0  ...     0      0   \n",
       "23407    0    0      0               0            0  ...     0      0   \n",
       "23408    0    0      0               0            0  ...     0      0   \n",
       "23409    0    0      0               0            0  ...     0      0   \n",
       "\n",
       "       zumbuehl  zumindest  zuppardo's  zur  zusendung  zwd  zwoferink  zzz  \n",
       "0             0          0           0    0          0    0          0    0  \n",
       "1             0          0           0    0          0    0          0    0  \n",
       "2             0          0           0    0          0    0          0    0  \n",
       "3             0          0           0    0          0    0          0    0  \n",
       "4             0          0           0    0          0    0          0    0  \n",
       "...         ...        ...         ...  ...        ...  ...        ...  ...  \n",
       "23405         0          0           0    0          0    0          0    0  \n",
       "23406         0          0           0    0          0    0          0    0  \n",
       "23407         0          0           0    0          0    0          0    0  \n",
       "23408         0          0           0    0          0    0          0    0  \n",
       "23409         0          0           0    0          0    0          0    0  \n",
       "\n",
       "[23410 rows x 44130 columns]"
      ]
     },
     "execution_count": 60,
     "metadata": {},
     "output_type": "execute_result"
    }
   ],
   "source": [
    "pd.DataFrame(X_cv.toarray(), columns=cv_feature_names)"
   ]
  },
  {
   "cell_type": "code",
   "execution_count": 61,
   "metadata": {},
   "outputs": [
    {
     "data": {
      "text/html": [
       "<div>\n",
       "<style scoped>\n",
       "    .dataframe tbody tr th:only-of-type {\n",
       "        vertical-align: middle;\n",
       "    }\n",
       "\n",
       "    .dataframe tbody tr th {\n",
       "        vertical-align: top;\n",
       "    }\n",
       "\n",
       "    .dataframe thead th {\n",
       "        text-align: right;\n",
       "    }\n",
       "</style>\n",
       "<table border=\"1\" class=\"dataframe\">\n",
       "  <thead>\n",
       "    <tr style=\"text-align: right;\">\n",
       "      <th></th>\n",
       "      <th>###covid-19</th>\n",
       "      <th>##coronavirus</th>\n",
       "      <th>##covid_19</th>\n",
       "      <th>##fda</th>\n",
       "      <th>##stayhomesavelives</th>\n",
       "      <th>#01</th>\n",
       "      <th>#10</th>\n",
       "      <th>#1000</th>\n",
       "      <th>#100daysofcode</th>\n",
       "      <th>#100percent</th>\n",
       "      <th>...</th>\n",
       "      <th>zuku</th>\n",
       "      <th>zumba</th>\n",
       "      <th>zumbuehl</th>\n",
       "      <th>zumindest</th>\n",
       "      <th>zuppardo's</th>\n",
       "      <th>zur</th>\n",
       "      <th>zusendung</th>\n",
       "      <th>zwd</th>\n",
       "      <th>zwoferink</th>\n",
       "      <th>zzz</th>\n",
       "    </tr>\n",
       "  </thead>\n",
       "  <tbody>\n",
       "    <tr>\n",
       "      <th>0</th>\n",
       "      <td>0.0</td>\n",
       "      <td>0.0</td>\n",
       "      <td>0.0</td>\n",
       "      <td>0.0</td>\n",
       "      <td>0.0</td>\n",
       "      <td>0.0</td>\n",
       "      <td>0.0</td>\n",
       "      <td>0.0</td>\n",
       "      <td>0.0</td>\n",
       "      <td>0.0</td>\n",
       "      <td>...</td>\n",
       "      <td>0.0</td>\n",
       "      <td>0.0</td>\n",
       "      <td>0.0</td>\n",
       "      <td>0.0</td>\n",
       "      <td>0.0</td>\n",
       "      <td>0.0</td>\n",
       "      <td>0.0</td>\n",
       "      <td>0.0</td>\n",
       "      <td>0.0</td>\n",
       "      <td>0.0</td>\n",
       "    </tr>\n",
       "    <tr>\n",
       "      <th>1</th>\n",
       "      <td>0.0</td>\n",
       "      <td>0.0</td>\n",
       "      <td>0.0</td>\n",
       "      <td>0.0</td>\n",
       "      <td>0.0</td>\n",
       "      <td>0.0</td>\n",
       "      <td>0.0</td>\n",
       "      <td>0.0</td>\n",
       "      <td>0.0</td>\n",
       "      <td>0.0</td>\n",
       "      <td>...</td>\n",
       "      <td>0.0</td>\n",
       "      <td>0.0</td>\n",
       "      <td>0.0</td>\n",
       "      <td>0.0</td>\n",
       "      <td>0.0</td>\n",
       "      <td>0.0</td>\n",
       "      <td>0.0</td>\n",
       "      <td>0.0</td>\n",
       "      <td>0.0</td>\n",
       "      <td>0.0</td>\n",
       "    </tr>\n",
       "    <tr>\n",
       "      <th>2</th>\n",
       "      <td>0.0</td>\n",
       "      <td>0.0</td>\n",
       "      <td>0.0</td>\n",
       "      <td>0.0</td>\n",
       "      <td>0.0</td>\n",
       "      <td>0.0</td>\n",
       "      <td>0.0</td>\n",
       "      <td>0.0</td>\n",
       "      <td>0.0</td>\n",
       "      <td>0.0</td>\n",
       "      <td>...</td>\n",
       "      <td>0.0</td>\n",
       "      <td>0.0</td>\n",
       "      <td>0.0</td>\n",
       "      <td>0.0</td>\n",
       "      <td>0.0</td>\n",
       "      <td>0.0</td>\n",
       "      <td>0.0</td>\n",
       "      <td>0.0</td>\n",
       "      <td>0.0</td>\n",
       "      <td>0.0</td>\n",
       "    </tr>\n",
       "    <tr>\n",
       "      <th>3</th>\n",
       "      <td>0.0</td>\n",
       "      <td>0.0</td>\n",
       "      <td>0.0</td>\n",
       "      <td>0.0</td>\n",
       "      <td>0.0</td>\n",
       "      <td>0.0</td>\n",
       "      <td>0.0</td>\n",
       "      <td>0.0</td>\n",
       "      <td>0.0</td>\n",
       "      <td>0.0</td>\n",
       "      <td>...</td>\n",
       "      <td>0.0</td>\n",
       "      <td>0.0</td>\n",
       "      <td>0.0</td>\n",
       "      <td>0.0</td>\n",
       "      <td>0.0</td>\n",
       "      <td>0.0</td>\n",
       "      <td>0.0</td>\n",
       "      <td>0.0</td>\n",
       "      <td>0.0</td>\n",
       "      <td>0.0</td>\n",
       "    </tr>\n",
       "    <tr>\n",
       "      <th>4</th>\n",
       "      <td>0.0</td>\n",
       "      <td>0.0</td>\n",
       "      <td>0.0</td>\n",
       "      <td>0.0</td>\n",
       "      <td>0.0</td>\n",
       "      <td>0.0</td>\n",
       "      <td>0.0</td>\n",
       "      <td>0.0</td>\n",
       "      <td>0.0</td>\n",
       "      <td>0.0</td>\n",
       "      <td>...</td>\n",
       "      <td>0.0</td>\n",
       "      <td>0.0</td>\n",
       "      <td>0.0</td>\n",
       "      <td>0.0</td>\n",
       "      <td>0.0</td>\n",
       "      <td>0.0</td>\n",
       "      <td>0.0</td>\n",
       "      <td>0.0</td>\n",
       "      <td>0.0</td>\n",
       "      <td>0.0</td>\n",
       "    </tr>\n",
       "    <tr>\n",
       "      <th>...</th>\n",
       "      <td>...</td>\n",
       "      <td>...</td>\n",
       "      <td>...</td>\n",
       "      <td>...</td>\n",
       "      <td>...</td>\n",
       "      <td>...</td>\n",
       "      <td>...</td>\n",
       "      <td>...</td>\n",
       "      <td>...</td>\n",
       "      <td>...</td>\n",
       "      <td>...</td>\n",
       "      <td>...</td>\n",
       "      <td>...</td>\n",
       "      <td>...</td>\n",
       "      <td>...</td>\n",
       "      <td>...</td>\n",
       "      <td>...</td>\n",
       "      <td>...</td>\n",
       "      <td>...</td>\n",
       "      <td>...</td>\n",
       "      <td>...</td>\n",
       "    </tr>\n",
       "    <tr>\n",
       "      <th>23405</th>\n",
       "      <td>0.0</td>\n",
       "      <td>0.0</td>\n",
       "      <td>0.0</td>\n",
       "      <td>0.0</td>\n",
       "      <td>0.0</td>\n",
       "      <td>0.0</td>\n",
       "      <td>0.0</td>\n",
       "      <td>0.0</td>\n",
       "      <td>0.0</td>\n",
       "      <td>0.0</td>\n",
       "      <td>...</td>\n",
       "      <td>0.0</td>\n",
       "      <td>0.0</td>\n",
       "      <td>0.0</td>\n",
       "      <td>0.0</td>\n",
       "      <td>0.0</td>\n",
       "      <td>0.0</td>\n",
       "      <td>0.0</td>\n",
       "      <td>0.0</td>\n",
       "      <td>0.0</td>\n",
       "      <td>0.0</td>\n",
       "    </tr>\n",
       "    <tr>\n",
       "      <th>23406</th>\n",
       "      <td>0.0</td>\n",
       "      <td>0.0</td>\n",
       "      <td>0.0</td>\n",
       "      <td>0.0</td>\n",
       "      <td>0.0</td>\n",
       "      <td>0.0</td>\n",
       "      <td>0.0</td>\n",
       "      <td>0.0</td>\n",
       "      <td>0.0</td>\n",
       "      <td>0.0</td>\n",
       "      <td>...</td>\n",
       "      <td>0.0</td>\n",
       "      <td>0.0</td>\n",
       "      <td>0.0</td>\n",
       "      <td>0.0</td>\n",
       "      <td>0.0</td>\n",
       "      <td>0.0</td>\n",
       "      <td>0.0</td>\n",
       "      <td>0.0</td>\n",
       "      <td>0.0</td>\n",
       "      <td>0.0</td>\n",
       "    </tr>\n",
       "    <tr>\n",
       "      <th>23407</th>\n",
       "      <td>0.0</td>\n",
       "      <td>0.0</td>\n",
       "      <td>0.0</td>\n",
       "      <td>0.0</td>\n",
       "      <td>0.0</td>\n",
       "      <td>0.0</td>\n",
       "      <td>0.0</td>\n",
       "      <td>0.0</td>\n",
       "      <td>0.0</td>\n",
       "      <td>0.0</td>\n",
       "      <td>...</td>\n",
       "      <td>0.0</td>\n",
       "      <td>0.0</td>\n",
       "      <td>0.0</td>\n",
       "      <td>0.0</td>\n",
       "      <td>0.0</td>\n",
       "      <td>0.0</td>\n",
       "      <td>0.0</td>\n",
       "      <td>0.0</td>\n",
       "      <td>0.0</td>\n",
       "      <td>0.0</td>\n",
       "    </tr>\n",
       "    <tr>\n",
       "      <th>23408</th>\n",
       "      <td>0.0</td>\n",
       "      <td>0.0</td>\n",
       "      <td>0.0</td>\n",
       "      <td>0.0</td>\n",
       "      <td>0.0</td>\n",
       "      <td>0.0</td>\n",
       "      <td>0.0</td>\n",
       "      <td>0.0</td>\n",
       "      <td>0.0</td>\n",
       "      <td>0.0</td>\n",
       "      <td>...</td>\n",
       "      <td>0.0</td>\n",
       "      <td>0.0</td>\n",
       "      <td>0.0</td>\n",
       "      <td>0.0</td>\n",
       "      <td>0.0</td>\n",
       "      <td>0.0</td>\n",
       "      <td>0.0</td>\n",
       "      <td>0.0</td>\n",
       "      <td>0.0</td>\n",
       "      <td>0.0</td>\n",
       "    </tr>\n",
       "    <tr>\n",
       "      <th>23409</th>\n",
       "      <td>0.0</td>\n",
       "      <td>0.0</td>\n",
       "      <td>0.0</td>\n",
       "      <td>0.0</td>\n",
       "      <td>0.0</td>\n",
       "      <td>0.0</td>\n",
       "      <td>0.0</td>\n",
       "      <td>0.0</td>\n",
       "      <td>0.0</td>\n",
       "      <td>0.0</td>\n",
       "      <td>...</td>\n",
       "      <td>0.0</td>\n",
       "      <td>0.0</td>\n",
       "      <td>0.0</td>\n",
       "      <td>0.0</td>\n",
       "      <td>0.0</td>\n",
       "      <td>0.0</td>\n",
       "      <td>0.0</td>\n",
       "      <td>0.0</td>\n",
       "      <td>0.0</td>\n",
       "      <td>0.0</td>\n",
       "    </tr>\n",
       "  </tbody>\n",
       "</table>\n",
       "<p>23410 rows × 44130 columns</p>\n",
       "</div>"
      ],
      "text/plain": [
       "       ###covid-19  ##coronavirus  ##covid_19  ##fda  ##stayhomesavelives  \\\n",
       "0              0.0            0.0         0.0    0.0                  0.0   \n",
       "1              0.0            0.0         0.0    0.0                  0.0   \n",
       "2              0.0            0.0         0.0    0.0                  0.0   \n",
       "3              0.0            0.0         0.0    0.0                  0.0   \n",
       "4              0.0            0.0         0.0    0.0                  0.0   \n",
       "...            ...            ...         ...    ...                  ...   \n",
       "23405          0.0            0.0         0.0    0.0                  0.0   \n",
       "23406          0.0            0.0         0.0    0.0                  0.0   \n",
       "23407          0.0            0.0         0.0    0.0                  0.0   \n",
       "23408          0.0            0.0         0.0    0.0                  0.0   \n",
       "23409          0.0            0.0         0.0    0.0                  0.0   \n",
       "\n",
       "       #01  #10  #1000  #100daysofcode  #100percent  ...  zuku  zumba  \\\n",
       "0      0.0  0.0    0.0             0.0          0.0  ...   0.0    0.0   \n",
       "1      0.0  0.0    0.0             0.0          0.0  ...   0.0    0.0   \n",
       "2      0.0  0.0    0.0             0.0          0.0  ...   0.0    0.0   \n",
       "3      0.0  0.0    0.0             0.0          0.0  ...   0.0    0.0   \n",
       "4      0.0  0.0    0.0             0.0          0.0  ...   0.0    0.0   \n",
       "...    ...  ...    ...             ...          ...  ...   ...    ...   \n",
       "23405  0.0  0.0    0.0             0.0          0.0  ...   0.0    0.0   \n",
       "23406  0.0  0.0    0.0             0.0          0.0  ...   0.0    0.0   \n",
       "23407  0.0  0.0    0.0             0.0          0.0  ...   0.0    0.0   \n",
       "23408  0.0  0.0    0.0             0.0          0.0  ...   0.0    0.0   \n",
       "23409  0.0  0.0    0.0             0.0          0.0  ...   0.0    0.0   \n",
       "\n",
       "       zumbuehl  zumindest  zuppardo's  zur  zusendung  zwd  zwoferink  zzz  \n",
       "0           0.0        0.0         0.0  0.0        0.0  0.0        0.0  0.0  \n",
       "1           0.0        0.0         0.0  0.0        0.0  0.0        0.0  0.0  \n",
       "2           0.0        0.0         0.0  0.0        0.0  0.0        0.0  0.0  \n",
       "3           0.0        0.0         0.0  0.0        0.0  0.0        0.0  0.0  \n",
       "4           0.0        0.0         0.0  0.0        0.0  0.0        0.0  0.0  \n",
       "...         ...        ...         ...  ...        ...  ...        ...  ...  \n",
       "23405       0.0        0.0         0.0  0.0        0.0  0.0        0.0  0.0  \n",
       "23406       0.0        0.0         0.0  0.0        0.0  0.0        0.0  0.0  \n",
       "23407       0.0        0.0         0.0  0.0        0.0  0.0        0.0  0.0  \n",
       "23408       0.0        0.0         0.0  0.0        0.0  0.0        0.0  0.0  \n",
       "23409       0.0        0.0         0.0  0.0        0.0  0.0        0.0  0.0  \n",
       "\n",
       "[23410 rows x 44130 columns]"
      ]
     },
     "execution_count": 61,
     "metadata": {},
     "output_type": "execute_result"
    }
   ],
   "source": [
    "pd.DataFrame(X_vec.toarray(), columns=tfid_feature_names)"
   ]
  },
  {
   "cell_type": "markdown",
   "metadata": {
    "id": "_FX1KSOfYSx4"
   },
   "source": [
    "Обучите логистическую регрессию на векторах из обоих векторайзеров. Посчитайте долю правильных ответов на обучающих и тестовых данных. Какой векторайзер показал лучший результат? Что можно сказать о моделях?"
   ]
  },
  {
   "cell_type": "code",
   "execution_count": 62,
   "metadata": {
    "id": "-Tb3eh8UXJ6v"
   },
   "outputs": [
    {
     "name": "stdout",
     "output_type": "stream",
     "text": [
      " Accuracy for Count Vectoriser: 0.8651584612318118\n",
      " Accuracy for TfidfVectorizer: 0.8525014949172812\n"
     ]
    }
   ],
   "source": [
    "from sklearn.linear_model import LogisticRegression\n",
    "from sklearn.metrics import accuracy_score\n",
    "\n",
    "clf = LogisticRegression(max_iter=200, random_state=42)\n",
    "clf.fit(X_cv, y_train)\n",
    "pred_cv = clf.predict(X_cv_test)\n",
    "print(f' Accuracy for Count Vectoriser: {accuracy_score(y_test, pred_cv)}')\n",
    "clf.fit(X_vec, y_train)\n",
    "pred_vec = clf.predict(X_vec_test)\n",
    "print(f' Accuracy for TfidfVectorizer: {accuracy_score(y_test, pred_vec)}')"
   ]
  },
  {
   "cell_type": "markdown",
   "metadata": {
    "id": "8y_wO7rCmv7K"
   },
   "source": [
    "**Ответ:** Accuracy на двух моделях примерно одинаков, где Count Vectoriser лидирует на 0.1"
   ]
  },
  {
   "cell_type": "markdown",
   "metadata": {
    "id": "rSOR1i3mjrys"
   },
   "source": [
    "## Задание 5 Стемминг (0.5 балла)"
   ]
  },
  {
   "cell_type": "markdown",
   "metadata": {
    "id": "i6ONBWNPjuq-"
   },
   "source": [
    "Для уменьшения словаря можно использовать стемминг.\n",
    "\n",
    "Модифицируйте написанный токенайзер, добавив в него стемминг с использованием SnowballStemmer. Обучите Count- и Tfidf- векторайзеры. Как изменился размер словаря?"
   ]
  },
  {
   "cell_type": "code",
   "execution_count": 63,
   "metadata": {},
   "outputs": [],
   "source": [
    "from nltk.stem.snowball import SnowballStemmer"
   ]
  },
  {
   "cell_type": "code",
   "execution_count": 64,
   "metadata": {
    "id": "oVfA2-iMkQBb"
   },
   "outputs": [],
   "source": [
    "def custom_stem_tokenizer(text):\n",
    "    text_to_tokenize = text.lower()\n",
    "    tw = TweetTokenizer()\n",
    "    text_to_filter = tw.tokenize(text_to_tokenize)\n",
    "    \n",
    "    stemmer = SnowballStemmer(\"english\")\n",
    "    text_stemmed = [stemmer.stem(w) for w in text_to_filter]\n",
    "    \n",
    "    noise = stopwords.words(\"english\") + list(punctuation)\n",
    "    tokens = [x for x in text_stemmed if (x not in noise) and ('https://t.co' not in x) and (all(ord(char) < 128 for char in x))]\n",
    "    \n",
    "    return tokens"
   ]
  },
  {
   "cell_type": "code",
   "execution_count": 65,
   "metadata": {
    "colab": {
     "base_uri": "https://localhost:8080/"
    },
    "id": "9QmrjYtqnlPd",
    "outputId": "cd91291d-9676-4611-9fc4-28afaed58963"
   },
   "outputs": [
    {
     "data": {
      "text/plain": [
       "['sampl', 'text', '@sample_text', '#sampletext', 'ad', 'word', 'check', 'stem']"
      ]
     },
     "execution_count": 65,
     "metadata": {},
     "output_type": "execute_result"
    }
   ],
   "source": [
    "custom_stem_tokenizer('This is sample text!!!! @Sample_text I, \\x92\\x92 https://t.co/sample  #sampletext adding more words to check stemming')"
   ]
  },
  {
   "cell_type": "code",
   "execution_count": 66,
   "metadata": {
    "colab": {
     "base_uri": "https://localhost:8080/"
    },
    "id": "zAvUTmaplzOS",
    "outputId": "566207fe-183b-4ed6-d333-f86f0cc9ae38"
   },
   "outputs": [
    {
     "name": "stdout",
     "output_type": "stream",
     "text": [
      "35442\n"
     ]
    }
   ],
   "source": [
    "cv = CountVectorizer(tokenizer=custom_stem_tokenizer)\n",
    "X_cv = cv.fit_transform(X_train['OriginalTweet'])\n",
    "X_cv_test = cv.transform(X_test['OriginalTweet'])\n",
    "\n",
    "print(len(cv.vocabulary_))"
   ]
  },
  {
   "cell_type": "code",
   "execution_count": 67,
   "metadata": {},
   "outputs": [],
   "source": [
    "vec = TfidfVectorizer(ngram_range=(1, 1), tokenizer=custom_stem_tokenizer)\n",
    "X_vec = vec.fit_transform(X_train['OriginalTweet'])\n",
    "X_vec_test = vec.transform(X_test['OriginalTweet'])"
   ]
  },
  {
   "cell_type": "markdown",
   "metadata": {
    "id": "Oyzs5TaAoHP6"
   },
   "source": [
    "**Ответ** Словарь сократился еще примерно на 10000"
   ]
  },
  {
   "cell_type": "markdown",
   "metadata": {
    "id": "1OkncHI8oRmd"
   },
   "source": [
    "Обучите логистическую регрессию с использованием обоих векторайзеров. Изменилось ли качество? Есть ли смысл применять стемминг?"
   ]
  },
  {
   "cell_type": "code",
   "execution_count": 68,
   "metadata": {
    "id": "ykZJPphEoZ5W"
   },
   "outputs": [
    {
     "name": "stdout",
     "output_type": "stream",
     "text": [
      " Accuracy for Count Vectoriser: 0.8657564281443093\n",
      " Accuracy for TfidfVectorizer: 0.8550926848714371\n"
     ]
    }
   ],
   "source": [
    "clf = LogisticRegression(max_iter=200, random_state=42)\n",
    "clf.fit(X_cv, y_train)\n",
    "pred_cv = clf.predict(X_cv_test)\n",
    "print(f' Accuracy for Count Vectoriser: {accuracy_score(y_test, pred_cv)}')\n",
    "clf.fit(X_vec, y_train)\n",
    "pred_vec = clf.predict(X_vec_test)\n",
    "print(f' Accuracy for TfidfVectorizer: {accuracy_score(y_test, pred_vec)}')"
   ]
  },
  {
   "cell_type": "markdown",
   "metadata": {
    "id": "bCRlrODro0h8"
   },
   "source": [
    "**Ответ:** Качество улучшилось, но незначительно. Применять стемминг есть смысл, поскольку любое улучшение качества нашей метрики уже хорошо для предсказат"
   ]
  },
  {
   "cell_type": "markdown",
   "metadata": {
    "id": "hYWGQNEDqLC-"
   },
   "source": [
    "## Задание  6 Работа с частотами (1.5 балла)"
   ]
  },
  {
   "cell_type": "markdown",
   "metadata": {
    "id": "8Hq-tl5mqUSn"
   },
   "source": [
    "Еще один способ уменьшить количество признаков - это использовать параметры min_df и max_df при построении векторайзера  эти параметры помогают ограничить требуемую частоту встречаемости токена в документах.\n",
    "\n",
    "По умолчанию берутся все токены, которые встретились хотя бы один раз.\n",
    "\n"
   ]
  },
  {
   "cell_type": "markdown",
   "metadata": {
    "id": "m1SiD4DE3WZ2"
   },
   "source": [
    "Подберите max_df такой, что размер словаря будет 36651 (на 1 меньше, чем было). Почему параметр получился такой большой/маленький?"
   ]
  },
  {
   "cell_type": "code",
   "execution_count": 69,
   "metadata": {
    "colab": {
     "base_uri": "https://localhost:8080/"
    },
    "id": "o3YLb8PViExb",
    "outputId": "b6d67654-d232-4e11-a5ca-6f2145053e98"
   },
   "outputs": [
    {
     "name": "stdout",
     "output_type": "stream",
     "text": [
      "35441\n"
     ]
    }
   ],
   "source": [
    "cv_df = CountVectorizer(tokenizer=custom_stem_tokenizer,\n",
    "                        max_df=0.3\n",
    "                        ).fit(X_train['OriginalTweet']\n",
    "                            )\n",
    "print(len(cv_df.vocabulary_))"
   ]
  },
  {
   "cell_type": "markdown",
   "metadata": {},
   "source": [
    "*Так как мой словарь со стеммингом получился 35442, то дальше я исходила из того, чтобы выполнить задание по инструкции, но только с моей длиной словаря*"
   ]
  },
  {
   "cell_type": "markdown",
   "metadata": {
    "id": "UdZYoGZR4UsA"
   },
   "source": [
    "**Ответ:** Когда max_df равен 0.3, это означает, что токен будет исключен из словаря, если он встречается в более чем 30% всех документов. Токены, которые встречаются очень часто и, вероятно, не несут много информации о содержании текста (например, слова-помощники, предлоги и т. д.), будут исключены из словаря."
   ]
  },
  {
   "cell_type": "markdown",
   "metadata": {
    "id": "_gRIUaB1u32f"
   },
   "source": [
    "Подберите min_df (используйте дефолтное значение max_df) в CountVectorizer таким образом, чтобы размер словаря был 3700 токенов (при использовании токенайзера со стеммингом), а качество осталось таким же, как и было. Что можно сказать о результатах?"
   ]
  },
  {
   "cell_type": "code",
   "execution_count": 70,
   "metadata": {
    "colab": {
     "base_uri": "https://localhost:8080/"
    },
    "id": "kSnMJkn9XmsT",
    "outputId": "e0d8eb21-e5d7-46b4-e1d1-4b1ae220e9a0"
   },
   "outputs": [
    {
     "name": "stdout",
     "output_type": "stream",
     "text": [
      "35442\n"
     ]
    }
   ],
   "source": [
    "cv_df_2 = CountVectorizer(tokenizer=custom_stem_tokenizer,\n",
    "                        min_df=0.0000000000001\n",
    "                        ).fit(\n",
    "                            X_train['OriginalTweet']\n",
    "                            )\n",
    "print(len(cv_df_2.vocabulary_))"
   ]
  },
  {
   "cell_type": "markdown",
   "metadata": {
    "id": "3fGYpUIZx0fk"
   },
   "source": [
    "**Ответ:** В обучающем наборе данных обнаружено 35442 различных слов или токенов, которые были стеммированы  кастомным токенизатором, и каждый из них встречается хотя бы один раз в текстах, но не менее указанного порога (который крайне мал)."
   ]
  },
  {
   "cell_type": "markdown",
   "metadata": {
    "id": "Gx_h_-inKbBl"
   },
   "source": [
    "В предыдущих заданиях признаки не скалировались. Отскалируйте данные (при словаре размера 3.7 тысяч, векторизованные CountVectorizer), обучите логистическую регрессию, посмотрите качество и выведите `berplot` содержащий по 10 токенов, с наибольшим по модулю положительными/отрицательными весами. Что можно сказать об этих токенах?"
   ]
  },
  {
   "cell_type": "code",
   "execution_count": 71,
   "metadata": {
    "id": "KBATXJX6LG9q"
   },
   "outputs": [
    {
     "name": "stdout",
     "output_type": "stream",
     "text": [
      " Accuracy for Count Vectoriser: 0.7790512258321706\n",
      "Топ 10 токенов с наибольшими по модулю положительными весами: ['support', 'best', 'hand', 'sanit', 'great', 'like', 'pleas', 'thank', 'free', 'help']\n",
      "Топ 10 токенов с наибольшими по модулю отрицательными весами:  ['crisi', 'panic', 'scam', 'demand', 'kill', 'forc', 'fear', 'emerg', 'shit', 'fuck']\n"
     ]
    }
   ],
   "source": [
    "from sklearn.preprocessing import StandardScaler\n",
    "\n",
    "scaler = StandardScaler(with_mean=False)\n",
    "X_train_scaled = scaler.fit_transform(X_cv)\n",
    "X_test_scaled = scaler.transform(X_cv_test)\n",
    "\n",
    "\n",
    "clf.fit(X_train_scaled, y_train)\n",
    "\n",
    "pred_cv = clf.predict(X_test_scaled)\n",
    "print(f' Accuracy for Count Vectoriser: {accuracy_score(y_test, pred_cv)}')\n",
    "\n",
    "feature_names = cv.get_feature_names_out()\n",
    "feature_weights = clf.coef_[0]\n",
    "\n",
    "top_positive_tokens = [feature_names[i] for i in np.argsort(feature_weights)[-10:]]\n",
    "top_negative_tokens = [feature_names[i] for i in np.argsort(feature_weights)[:10]]\n",
    "\n",
    "print(f\"Топ 10 токенов с наибольшими по модулю положительными весами: {top_positive_tokens}\")\n",
    "print(f\"Топ 10 токенов с наибольшими по модулю отрицательными весами:  {top_negative_tokens}\")"
   ]
  },
  {
   "cell_type": "markdown",
   "metadata": {
    "id": "ThcEfzY1LHET"
   },
   "source": [
    "**Ответ:** Данные токены с положительными весами свидетельствует о позитивной окраске, в то время как токуны с отрицательными весами говорят о негативной окраски твита. Данные токены можно использовать для предсказания окраски на тестовой выборки"
   ]
  },
  {
   "cell_type": "markdown",
   "metadata": {
    "id": "ktJVOdrIHq7B"
   },
   "source": [
    "## Задание 7 Другие признаки (1.5 балла)"
   ]
  },
  {
   "cell_type": "markdown",
   "metadata": {
    "id": "Yt3jRCZ2H0Og"
   },
   "source": [
    "Мы были сконцентрированы на работе с текстами твиттов и не использовали другие признаки - имена пользователя, дату и местоположение"
   ]
  },
  {
   "cell_type": "markdown",
   "metadata": {
    "id": "52wjewCCo_di"
   },
   "source": [
    "Изучите признаки UserName и ScreenName. полезны ли они? Если полезны, то закодируйте их, добавьте к матрице с отскалированными признаками, обучите логистическую регрессию, замерьте качество."
   ]
  },
  {
   "cell_type": "code",
   "execution_count": 72,
   "metadata": {
    "id": "63thouYZptj6"
   },
   "outputs": [
    {
     "name": "stdout",
     "output_type": "stream",
     "text": [
      "0.7813434323300777\n"
     ]
    }
   ],
   "source": [
    "from sklearn.preprocessing import LabelEncoder, OneHotEncoder\n",
    "from scipy.sparse import hstack\n",
    "\n",
    "label_encoder = LabelEncoder()\n",
    "username_encoded = label_encoder.fit_transform(df['UserName'])\n",
    "screenname_encoded = label_encoder.fit_transform(df['ScreenName'])\n",
    "\n",
    "\n",
    "hot_encoder = OneHotEncoder()\n",
    "username_onehot = hot_encoder.fit_transform(username_encoded.reshape(-1, 1))\n",
    "screenname_onehot = hot_encoder.fit_transform(screenname_encoded.reshape(-1, 1))\n",
    "\n",
    "\n",
    "username_onehot_train = username_onehot[:len(X_train)]\n",
    "username_onehot_test = username_onehot[len(X_train):]\n",
    "\n",
    "screenname_onehot_train = screenname_onehot[:len(X_train)]\n",
    "screenname_onehot_test = screenname_onehot[len(X_train):]\n",
    "\n",
    "\n",
    "X_train_combined = hstack((X_train_scaled, username_onehot_train, screenname_onehot_train))\n",
    "X_test_combined = hstack((X_test_scaled, username_onehot_test, screenname_onehot_test))\n",
    "\n",
    "\n",
    "logistic_regression_combined = LogisticRegression()\n",
    "logistic_regression_combined.fit(X_train_combined, y_train)\n",
    "\n",
    "\n",
    "accuracy_combined = logistic_regression_combined.score(X_test_combined, y_test)\n",
    "print(accuracy_combined)"
   ]
  },
  {
   "cell_type": "markdown",
   "metadata": {
    "id": "r8_qR-gnpT3a"
   },
   "source": [
    "**Ответ:** Признаки UserName и ScreenName являются содержательными признаками, поскольку определенные пользователи обычно публикуют твиты с положительной или негативной окраской, что может быть полезно для модели"
   ]
  },
  {
   "cell_type": "markdown",
   "metadata": {
    "id": "ythEcFSkt7y3"
   },
   "source": [
    "Изучите признак TweetAt в обучающей выборке: преобразуйте его к типу datetime и нарисуйте его гистограмму с разделением по цвету на оспнове целевой переменной. Полезен ли он? Если полезен, то закодируйте его, добавьте к матрице с отскалированными признаками, обучите логистическую регрессию, замерьте качество."
   ]
  },
  {
   "cell_type": "code",
   "execution_count": 73,
   "metadata": {
    "id": "Lxb_k0JLirNv"
   },
   "outputs": [
    {
     "data": {
      "image/png": "[encoded data removed]",
      "text/plain": [
       "<Figure size 1000x600 with 1 Axes>"
      ]
     },
     "metadata": {},
     "output_type": "display_data"
    }
   ],
   "source": [
    "plt.figure(figsize=(10, 6))\n",
    "plt.hist([X_train['TweetAt'][y_train == 1], X_train['TweetAt'][y_train == 0]],\n",
    "         stacked=True,\n",
    "         bins=50,\n",
    "        )\n",
    "plt.xlabel('Дата')\n",
    "plt.ylabel('Частота')\n",
    "plt.title('Распределение твитов по дате')\n",
    "plt.show()"
   ]
  },
  {
   "cell_type": "code",
   "execution_count": 74,
   "metadata": {},
   "outputs": [
    {
     "name": "stdout",
     "output_type": "stream",
     "text": [
      "0.782240382698824\n"
     ]
    }
   ],
   "source": [
    "date_encoded = label_encoder.fit_transform(df['TweetAt'])\n",
    "date_onehot = hot_encoder.fit_transform(date_encoded.reshape(-1, 1))\n",
    "\n",
    "date_onehot_train = date_onehot[:len(X_train)]\n",
    "date_onehot_test = date_onehot[len(X_train):]\n",
    "\n",
    "X_train_combined_with_date = hstack((X_train_combined, date_onehot_train))\n",
    "X_test_combined_with_date = hstack((X_test_combined, date_onehot_test))\n",
    "\n",
    "logistic_regression_combined = LogisticRegression()\n",
    "logistic_regression_combined.fit(X_train_combined_with_date, y_train)\n",
    "\n",
    "\n",
    "accuracy_combined_with_date = logistic_regression_combined.score(X_test_combined_with_date, y_test)\n",
    "print(accuracy_combined_with_date)"
   ]
  },
  {
   "cell_type": "markdown",
   "metadata": {
    "id": "4IdLBdpQxM-G"
   },
   "source": [
    "**Ответ:** По гистограмме и полученному качеству логистической регрессии мы можем заметить, что переменная TweetAt является значимой для нашей модели"
   ]
  },
  {
   "cell_type": "markdown",
   "metadata": {
    "id": "r2JtRPhNP6qx"
   },
   "source": [
    "Поработайте с признаком Location в обучающей выборке. Сколько уникальных значений?"
   ]
  },
  {
   "cell_type": "code",
   "execution_count": 75,
   "metadata": {
    "id": "xYQZQ1FRNpoe"
   },
   "outputs": [
    {
     "data": {
      "text/plain": [
       "Unknown                           4944\n",
       "London                             301\n",
       "United States                      295\n",
       "London, England                    274\n",
       "New York, NY                       223\n",
       "                                  ... \n",
       "Work: Kent and Live: Sussex          1\n",
       "Somewhere on TradingView             1\n",
       "Honolulu, Hawai?i                    1\n",
       "SFO                                  1\n",
       "Waterville, Ireland Austin, TX       1\n",
       "Name: Location, Length: 7949, dtype: int64"
      ]
     },
     "execution_count": 75,
     "metadata": {},
     "output_type": "execute_result"
    }
   ],
   "source": [
    "X_train['Location'].value_counts()"
   ]
  },
  {
   "cell_type": "code",
   "execution_count": 76,
   "metadata": {},
   "outputs": [
    {
     "data": {
      "text/plain": [
       "0"
      ]
     },
     "execution_count": 76,
     "metadata": {},
     "output_type": "execute_result"
    }
   ],
   "source": [
    "X_train['Location'].isna().sum()"
   ]
  },
  {
   "cell_type": "markdown",
   "metadata": {},
   "source": [
    "7949 уникальных значений"
   ]
  },
  {
   "cell_type": "markdown",
   "metadata": {
    "id": "6k4JwpRTQISa"
   },
   "source": [
    "Постройте гистограмму топ-10 по популярности местоположений (исключая Unknown)"
   ]
  },
  {
   "cell_type": "code",
   "execution_count": 77,
   "metadata": {
    "id": "J91YkhegJ0mz"
   },
   "outputs": [
    {
     "data": {
      "image/png": "[encoded data removed]",
      "text/plain": [
       "<Figure size 1000x600 with 1 Axes>"
      ]
     },
     "metadata": {},
     "output_type": "display_data"
    }
   ],
   "source": [
    "locations = X_train[X_train['Location'] != 'Unknown']['Location']\n",
    "top_locations = locations.value_counts().head(10)\n",
    "plt.figure(figsize=(10, 6))\n",
    "top_locations.plot(kind='bar')\n",
    "plt.xlabel('Местоположение')\n",
    "plt.ylabel('Частота')\n",
    "plt.title('Распределение твитов по местоположению')\n",
    "plt.show()"
   ]
  },
  {
   "cell_type": "markdown",
   "metadata": {
    "id": "ZOsv3lODTfYB"
   },
   "source": [
    "Видно, что многие местоположения включают в себя более точное название места, чем другие (Например, у некоторых стоит London, UK; а у некоторых просто UK или United Kingdom).\n",
    "\n",
    "Создайте новый признак WiderLocation, который содержит самое широкое местоположение (например, из London, UK должно получиться UK). Сколько уникальных категорий теперь? Постройте аналогичную гистограмму."
   ]
  },
  {
   "cell_type": "code",
   "execution_count": 78,
   "metadata": {},
   "outputs": [
    {
     "name": "stdout",
     "output_type": "stream",
     "text": [
      "Number of unique categories in WiderLocation: 5228\n"
     ]
    },
    {
     "data": {
      "image/png": "[encoded data removed]",
      "text/plain": [
       "<Figure size 1000x600 with 1 Axes>"
      ]
     },
     "metadata": {},
     "output_type": "display_data"
    }
   ],
   "source": [
    "X_train['WiderLocation'] = locations.apply(lambda x: x.split(',')[-1] if ', ' in x else x)\n",
    "X_train['WiderLocation'] = X_train['WiderLocation'].str.replace('\\$\\$','\\\\$\\\\$')\n",
    "X_train = X_train.dropna(subset=['WiderLocation'])\n",
    "\n",
    "num_unique_wider_locations = X_train['WiderLocation'].nunique()\n",
    "print(\"Number of unique categories in WiderLocation:\", num_unique_wider_locations)\n",
    "\n",
    "wider_locations = X_train['WiderLocation'].value_counts().head(10)\n",
    "\n",
    "\n",
    "\n",
    "plt.figure(figsize=(10, 6))\n",
    "wider_locations.plot(kind='bar')\n",
    "plt.xlabel('Местоположение')\n",
    "plt.ylabel('Частота')\n",
    "plt.title('Распределение по более широкому местоположению')\n",
    "plt.show()"
   ]
  },
  {
   "cell_type": "markdown",
   "metadata": {
    "id": "cgyWrD2eVfff"
   },
   "source": [
    "Закодируйте признак WiderLocation с помощью OHE таким образом, чтобы создались только столбцы для местоположений, которые встречаются более одного раза. Сколько таких значений?\n"
   ]
  },
  {
   "cell_type": "code",
   "execution_count": 79,
   "metadata": {
    "id": "SeJBfBWgPvg_"
   },
   "outputs": [
    {
     "name": "stdout",
     "output_type": "stream",
     "text": [
      "1152\n"
     ]
    }
   ],
   "source": [
    "location_counts = X_train['WiderLocation'].value_counts()\n",
    "\n",
    "frequent_locations = location_counts[location_counts > 1].index.tolist()\n",
    "\n",
    "X_train_filtered = X_train[X_train['WiderLocation'].isin(frequent_locations)]\n",
    "\n",
    "labeled_features = label_encoder.fit_transform(X_train_filtered['WiderLocation'])\n",
    "encoded_features = hot_encoder.fit_transform(labeled_features.reshape(-1,1))\n",
    "encoded_feature_names = hot_encoder.get_feature_names(['WiderLocation'])\n",
    "\n",
    "\n",
    "\n",
    "print(len(frequent_locations))"
   ]
  },
  {
   "cell_type": "code",
   "execution_count": 84,
   "metadata": {},
   "outputs": [],
   "source": [
    "locations_test = X_test[X_test['Location'] != 'Unknown']['Location']\n",
    "X_test['WiderLocation'] = locations_test.apply(lambda x: x.split(',')[-1] if ', ' in x else x)\n",
    "X_test['WiderLocation'] = X_test['WiderLocation'].str.replace('\\$\\$','\\\\$\\\\$')\n",
    "X_test = X_test.dropna(subset=['WiderLocation'])\n",
    "\n",
    "location_counts_test = X_test['WiderLocation'].value_counts()\n",
    "\n",
    "frequent_locations_test = location_counts_test[location_counts_test > 1].index.tolist()\n",
    "\n",
    "X_test_filtered = X_test[X_test['WiderLocation'].isin(frequent_locations_test)]\n",
    "\n",
    "labeled_features_test = label_encoder.transform(X_test_filtered['WiderLocation'])\n",
    "encoded_features_test = hot_encoder.transform(labeled_features_test.reshape(-1,1))"
   ]
  },
  {
   "cell_type": "markdown",
   "metadata": {
    "id": "ZyMX5kZuimPK"
   },
   "source": [
    "Добавьте этот признак к матрице отскалированных текстовых признаков, обучите логистическую регрессию, замерьте качество. Как оно изменилось? Оказался ли признак полезным?\n",
    "\n",
    "\n",
    "*Подсказка:* используйте параметр `categories` в энкодере."
   ]
  },
  {
   "cell_type": "code",
   "execution_count": 85,
   "metadata": {
    "id": "EO1jNPeeim7A"
   },
   "outputs": [
    {
     "ename": "ValueError",
     "evalue": "Mismatching dimensions along axis 0: {23410, 14390}",
     "output_type": "error",
     "traceback": [
      "\u001b[0;31m---------------------------------------------------------------------------\u001b[0m",
      "\u001b[0;31mValueError\u001b[0m                                Traceback (most recent call last)",
      "\u001b[0;32m/var/folders/vw/j2t_ls8d2_n0z8_4yyzcrl640000gn/T/ipykernel_4378/4215786113.py\u001b[0m in \u001b[0;36m<module>\u001b[0;34m\u001b[0m\n\u001b[0;32m----> 1\u001b[0;31m \u001b[0mX_train_combined_new\u001b[0m \u001b[0;34m=\u001b[0m \u001b[0mhstack\u001b[0m\u001b[0;34m(\u001b[0m\u001b[0;34m[\u001b[0m\u001b[0mX_train_combined\u001b[0m\u001b[0;34m,\u001b[0m \u001b[0mencoded_features\u001b[0m\u001b[0;34m]\u001b[0m\u001b[0;34m)\u001b[0m\u001b[0;34m\u001b[0m\u001b[0;34m\u001b[0m\u001b[0m\n\u001b[0m\u001b[1;32m      2\u001b[0m \u001b[0mX_test_combined_new\u001b[0m \u001b[0;34m=\u001b[0m \u001b[0mhstack\u001b[0m\u001b[0;34m(\u001b[0m\u001b[0;34m[\u001b[0m\u001b[0mX_test_comnbined\u001b[0m\u001b[0;34m,\u001b[0m \u001b[0mencoded_features_test\u001b[0m\u001b[0;34m]\u001b[0m\u001b[0;34m)\u001b[0m\u001b[0;34m\u001b[0m\u001b[0;34m\u001b[0m\u001b[0m\n\u001b[1;32m      3\u001b[0m \u001b[0;34m\u001b[0m\u001b[0m\n\u001b[1;32m      4\u001b[0m \u001b[0mlogistic_regression_combined_new\u001b[0m \u001b[0;34m=\u001b[0m \u001b[0mLogisticRegression\u001b[0m\u001b[0;34m(\u001b[0m\u001b[0;34m)\u001b[0m\u001b[0;34m\u001b[0m\u001b[0;34m\u001b[0m\u001b[0m\n\u001b[1;32m      5\u001b[0m \u001b[0mlogistic_regression_combined_new\u001b[0m\u001b[0;34m.\u001b[0m\u001b[0mfit\u001b[0m\u001b[0;34m(\u001b[0m\u001b[0mX_train_combined_new\u001b[0m\u001b[0;34m,\u001b[0m \u001b[0my_train\u001b[0m\u001b[0;34m)\u001b[0m\u001b[0;34m\u001b[0m\u001b[0;34m\u001b[0m\u001b[0m\n",
      "\u001b[0;32m~/opt/anaconda3/lib/python3.9/site-packages/scipy/sparse/_construct.py\u001b[0m in \u001b[0;36mhstack\u001b[0;34m(blocks, format, dtype)\u001b[0m\n\u001b[1;32m    523\u001b[0m \u001b[0;34m\u001b[0m\u001b[0m\n\u001b[1;32m    524\u001b[0m     \"\"\"\n\u001b[0;32m--> 525\u001b[0;31m     \u001b[0;32mreturn\u001b[0m \u001b[0mbmat\u001b[0m\u001b[0;34m(\u001b[0m\u001b[0;34m[\u001b[0m\u001b[0mblocks\u001b[0m\u001b[0;34m]\u001b[0m\u001b[0;34m,\u001b[0m \u001b[0mformat\u001b[0m\u001b[0;34m=\u001b[0m\u001b[0mformat\u001b[0m\u001b[0;34m,\u001b[0m \u001b[0mdtype\u001b[0m\u001b[0;34m=\u001b[0m\u001b[0mdtype\u001b[0m\u001b[0;34m)\u001b[0m\u001b[0;34m\u001b[0m\u001b[0;34m\u001b[0m\u001b[0m\n\u001b[0m\u001b[1;32m    526\u001b[0m \u001b[0;34m\u001b[0m\u001b[0m\n\u001b[1;32m    527\u001b[0m \u001b[0;34m\u001b[0m\u001b[0m\n",
      "\u001b[0;32m~/opt/anaconda3/lib/python3.9/site-packages/scipy/sparse/_construct.py\u001b[0m in \u001b[0;36mbmat\u001b[0;34m(blocks, format, dtype)\u001b[0m\n\u001b[1;32m    615\u001b[0m         \u001b[0;32mif\u001b[0m \u001b[0mN\u001b[0m \u001b[0;34m>\u001b[0m \u001b[0;36m1\u001b[0m\u001b[0;34m:\u001b[0m\u001b[0;34m\u001b[0m\u001b[0;34m\u001b[0m\u001b[0m\n\u001b[1;32m    616\u001b[0m             \u001b[0;31m# stack along columns (axis 1):\u001b[0m\u001b[0;34m\u001b[0m\u001b[0;34m\u001b[0m\u001b[0m\n\u001b[0;32m--> 617\u001b[0;31m             blocks = [[_stack_along_minor_axis(blocks[b, :], 1)]\n\u001b[0m\u001b[1;32m    618\u001b[0m                       for b in range(M)]   # must have shape: (M, 1)\n\u001b[1;32m    619\u001b[0m             \u001b[0mblocks\u001b[0m \u001b[0;34m=\u001b[0m \u001b[0mnp\u001b[0m\u001b[0;34m.\u001b[0m\u001b[0masarray\u001b[0m\u001b[0;34m(\u001b[0m\u001b[0mblocks\u001b[0m\u001b[0;34m,\u001b[0m \u001b[0mdtype\u001b[0m\u001b[0;34m=\u001b[0m\u001b[0;34m'object'\u001b[0m\u001b[0;34m)\u001b[0m\u001b[0;34m\u001b[0m\u001b[0;34m\u001b[0m\u001b[0m\n",
      "\u001b[0;32m~/opt/anaconda3/lib/python3.9/site-packages/scipy/sparse/_construct.py\u001b[0m in \u001b[0;36m<listcomp>\u001b[0;34m(.0)\u001b[0m\n\u001b[1;32m    615\u001b[0m         \u001b[0;32mif\u001b[0m \u001b[0mN\u001b[0m \u001b[0;34m>\u001b[0m \u001b[0;36m1\u001b[0m\u001b[0;34m:\u001b[0m\u001b[0;34m\u001b[0m\u001b[0;34m\u001b[0m\u001b[0m\n\u001b[1;32m    616\u001b[0m             \u001b[0;31m# stack along columns (axis 1):\u001b[0m\u001b[0;34m\u001b[0m\u001b[0;34m\u001b[0m\u001b[0m\n\u001b[0;32m--> 617\u001b[0;31m             blocks = [[_stack_along_minor_axis(blocks[b, :], 1)]\n\u001b[0m\u001b[1;32m    618\u001b[0m                       for b in range(M)]   # must have shape: (M, 1)\n\u001b[1;32m    619\u001b[0m             \u001b[0mblocks\u001b[0m \u001b[0;34m=\u001b[0m \u001b[0mnp\u001b[0m\u001b[0;34m.\u001b[0m\u001b[0masarray\u001b[0m\u001b[0;34m(\u001b[0m\u001b[0mblocks\u001b[0m\u001b[0;34m,\u001b[0m \u001b[0mdtype\u001b[0m\u001b[0;34m=\u001b[0m\u001b[0;34m'object'\u001b[0m\u001b[0;34m)\u001b[0m\u001b[0;34m\u001b[0m\u001b[0;34m\u001b[0m\u001b[0m\n",
      "\u001b[0;32m~/opt/anaconda3/lib/python3.9/site-packages/scipy/sparse/_construct.py\u001b[0m in \u001b[0;36m_stack_along_minor_axis\u001b[0;34m(blocks, axis)\u001b[0m\n\u001b[1;32m    459\u001b[0m     \u001b[0mother_axis_dims\u001b[0m \u001b[0;34m=\u001b[0m \u001b[0mset\u001b[0m\u001b[0;34m(\u001b[0m\u001b[0mb\u001b[0m\u001b[0;34m.\u001b[0m\u001b[0mshape\u001b[0m\u001b[0;34m[\u001b[0m\u001b[0mother_axis\u001b[0m\u001b[0;34m]\u001b[0m \u001b[0;32mfor\u001b[0m \u001b[0mb\u001b[0m \u001b[0;32min\u001b[0m \u001b[0mblocks\u001b[0m\u001b[0;34m)\u001b[0m\u001b[0;34m\u001b[0m\u001b[0;34m\u001b[0m\u001b[0m\n\u001b[1;32m    460\u001b[0m     \u001b[0;32mif\u001b[0m \u001b[0mlen\u001b[0m\u001b[0;34m(\u001b[0m\u001b[0mother_axis_dims\u001b[0m\u001b[0;34m)\u001b[0m \u001b[0;34m>\u001b[0m \u001b[0;36m1\u001b[0m\u001b[0;34m:\u001b[0m\u001b[0;34m\u001b[0m\u001b[0;34m\u001b[0m\u001b[0m\n\u001b[0;32m--> 461\u001b[0;31m         raise ValueError(f'Mismatching dimensions along axis {other_axis}: '\n\u001b[0m\u001b[1;32m    462\u001b[0m                          f'{other_axis_dims}')\n\u001b[1;32m    463\u001b[0m     \u001b[0mconstant_dim\u001b[0m\u001b[0;34m,\u001b[0m \u001b[0;34m=\u001b[0m \u001b[0mother_axis_dims\u001b[0m\u001b[0;34m\u001b[0m\u001b[0;34m\u001b[0m\u001b[0m\n",
      "\u001b[0;31mValueError\u001b[0m: Mismatching dimensions along axis 0: {23410, 14390}"
     ]
    }
   ],
   "source": [
    "X_train_combined_new = hstack([X_train_combined, encoded_features])\n",
    "X_test_combined_new = hstack([X_test_comnbined, encoded_features_test])\n",
    "\n",
    "logistic_regression_combined_new = LogisticRegression()\n",
    "logistic_regression_combined_new.fit(X_train_combined_new, y_train)\n",
    "\n",
    "accuracy_combined_new = logistic_regression_combined_new.score(X_test_combined_new, y_test)\n",
    "print(accuracy_combined_new)"
   ]
  },
  {
   "cell_type": "markdown",
   "metadata": {
    "id": "7dHsGlDRYUQt"
   },
   "source": [
    "**Ответ:** # -- YOUR ANSWER HERE --"
   ]
  },
  {
   "cell_type": "markdown",
   "metadata": {
    "id": "IWn6h4W9eD3S"
   },
   "source": [
    "## Задание 8 Хорошее качество (Бонус 1 балл)"
   ]
  },
  {
   "cell_type": "markdown",
   "metadata": {
    "id": "-HDI0SU6eLgi"
   },
   "source": [
    "Добейтесь accuracy=0.9 на тестовой выборке (можно сменить токенайзер, векторайзер, модель и т.д.)"
   ]
  },
  {
   "cell_type": "code",
   "execution_count": null,
   "metadata": {
    "id": "k3WMbE8edhlW"
   },
   "outputs": [],
   "source": [
    "# -- YOUR CODE HERE --"
   ]
  },
  {
   "cell_type": "markdown",
   "metadata": {},
   "source": [
    "**Традиционный мэм:**"
   ]
  },
  {
   "cell_type": "markdown",
   "metadata": {},
   "source": [
    "![alternatvie text](https://www.qualicen.de/wp-content/uploads/2021/03/TokenizerMeme.png)"
   ]
  },
  {
   "cell_type": "code",
   "execution_count": null,
   "metadata": {},
   "outputs": [],
   "source": []
  }
 ],
 "metadata": {
  "colab": {
   "provenance": [],
   "toc_visible": true
  },
  "kernelspec": {
   "display_name": "Python 3 (ipykernel)",
   "language": "python",
   "name": "python3"
  },
  "language_info": {
   "codemirror_mode": {
    "name": "ipython",
    "version": 3
   },
   "file_extension": ".py",
   "mimetype": "text/x-python",
   "name": "python",
   "nbconvert_exporter": "python",
   "pygments_lexer": "ipython3",
   "version": "3.9.13"
  }
 },
 "nbformat": 4,
 "nbformat_minor": 1
}
