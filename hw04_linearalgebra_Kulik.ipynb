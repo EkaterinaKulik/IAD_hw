{
 "cells": [
  {
   "cell_type": "markdown",
   "id": "0c294b71",
   "metadata": {},
   "source": [
    "# Домашнее задание №2 по линейной алгебре #"
   ]
  },
  {
   "cell_type": "markdown",
   "id": "d37dd7ed",
   "metadata": {},
   "source": [
    "*Выполнила Кулик Екатерина*"
   ]
  },
  {
   "cell_type": "code",
   "execution_count": 29,
   "id": "7660b7b6",
   "metadata": {},
   "outputs": [],
   "source": [
    "import numpy as np"
   ]
  },
  {
   "cell_type": "markdown",
   "id": "50a2f29e",
   "metadata": {},
   "source": [
    "## Задание 1"
   ]
  },
  {
   "cell_type": "code",
   "execution_count": 3,
   "id": "3d2a3706",
   "metadata": {},
   "outputs": [
    {
     "data": {
      "text/plain": [
       "array([[1. , 0.8, 0.7, 0.5, 0.4, 0.3, 0.2, 0.1, 0.1, 0. ],\n",
       "       [0.8, 1. , 0.7, 0.5, 0.4, 0.3, 0.2, 0.1, 0.1, 0. ],\n",
       "       [0.7, 0.7, 1. , 0.7, 0.6, 0.5, 0.4, 0.3, 0.3, 0.2],\n",
       "       [0.5, 0.5, 0.7, 1. , 0.7, 0.6, 0.5, 0.4, 0.4, 0.3],\n",
       "       [0.4, 0.4, 0.6, 0.7, 1. , 0.8, 0.7, 0.6, 0.6, 0.5],\n",
       "       [0.3, 0.3, 0.5, 0.6, 0.8, 1. , 0.8, 0.7, 0.7, 0.6],\n",
       "       [0.2, 0.2, 0.4, 0.5, 0.7, 0.8, 1. , 0.8, 0.8, 0.7],\n",
       "       [0.1, 0.1, 0.3, 0.4, 0.6, 0.7, 0.8, 1. , 0.9, 0.8],\n",
       "       [0.1, 0.1, 0.3, 0.4, 0.6, 0.7, 0.8, 0.9, 1. , 0.9],\n",
       "       [0. , 0. , 0.2, 0.3, 0.5, 0.6, 0.7, 0.8, 0.9, 1. ]])"
      ]
     },
     "execution_count": 3,
     "metadata": {},
     "output_type": "execute_result"
    }
   ],
   "source": [
    "legislators = [\"A\", \"C\", \"B\", \"D\", \"F\", \"E\", \"G\", \"I\", \"H\", \"J\"]\n",
    "\n",
    "bills = [\n",
    "    (\"C\", \"B\"),  \n",
    "    (\"B\", \"D\"),  \n",
    "    (\"F\", \"E\"),  \n",
    "    (\"A\", \"C\"),  \n",
    "    (\"B\", \"D\"),  \n",
    "    (\"H\", \"J\"), \n",
    "    (\"E\", \"G\"),  \n",
    "    (\"D\", \"F\"),  \n",
    "    (\"G\", \"I\"),  \n",
    "    (\"A\", \"C\")   \n",
    "]\n",
    "\n",
    "\n",
    "positions = {legislator: index for index, legislator in enumerate(legislators)}\n",
    "\n",
    "\n",
    "def get_votes(bill, positions):\n",
    "    left = positions[bill[0]]\n",
    "    right = positions[bill[1]]\n",
    "    votes = []\n",
    "    for legislator in legislators:\n",
    "        if positions[legislator] <= left:\n",
    "            votes.append(\"Против\")\n",
    "        elif positions[legislator] > right:\n",
    "            votes.append(\"За\")\n",
    "        else:\n",
    "            votes.append(\"Не голосовал\")\n",
    "    return votes\n",
    "\n",
    "\n",
    "\n",
    "num_legislators = len(legislators)\n",
    "num_bills = len(bills)\n",
    "agreement_matrix = np.zeros((num_legislators, num_legislators))\n",
    "\n",
    "for bill in bills:\n",
    "    votes = get_votes(bill, positions)\n",
    "    for i in range(num_legislators):\n",
    "        for j in range(num_legislators):\n",
    "            if votes[i] == votes[j]:\n",
    "                agreement_matrix[i][j] += 1\n",
    "\n",
    "\n",
    "agreement_matrix /= num_bills\n",
    "\n",
    "\n",
    "\n",
    "agreement_matrix"
   ]
  },
  {
   "cell_type": "markdown",
   "id": "03d98905",
   "metadata": {},
   "source": [
    "## Задание 2"
   ]
  },
  {
   "cell_type": "code",
   "execution_count": 4,
   "id": "045f10e5",
   "metadata": {},
   "outputs": [
    {
     "name": "stdout",
     "output_type": "stream",
     "text": [
      "След матрицы: 10.0\n"
     ]
    }
   ],
   "source": [
    "print(\"След матрицы:\", np.trace(agreement_matrix))"
   ]
  },
  {
   "cell_type": "code",
   "execution_count": 5,
   "id": "6c703b02",
   "metadata": {},
   "outputs": [
    {
     "name": "stdout",
     "output_type": "stream",
     "text": [
      "Определитель матрицы: 5.152319999999997e-05\n"
     ]
    }
   ],
   "source": [
    "print(\"Определитель матрицы:\", np.linalg.det(agreement_matrix))"
   ]
  },
  {
   "cell_type": "code",
   "execution_count": 6,
   "id": "8f288a7c",
   "metadata": {},
   "outputs": [
    {
     "name": "stdout",
     "output_type": "stream",
     "text": [
      "Норма Фробениуса: 6.138403701289122\n"
     ]
    }
   ],
   "source": [
    "print(\"Норма Фробениуса:\", np.linalg.norm(agreement_matrix, 'fro'))"
   ]
  },
  {
   "cell_type": "markdown",
   "id": "ca8ccd93",
   "metadata": {},
   "source": [
    "## Задание 3 ##"
   ]
  },
  {
   "cell_type": "code",
   "execution_count": 7,
   "id": "c6534618",
   "metadata": {},
   "outputs": [
    {
     "data": {
      "text/plain": [
       "array([[0.  , 0.04, 0.09, 0.25, 0.36, 0.49, 0.64, 0.81, 0.81, 1.  ],\n",
       "       [0.04, 0.  , 0.09, 0.25, 0.36, 0.49, 0.64, 0.81, 0.81, 1.  ],\n",
       "       [0.09, 0.09, 0.  , 0.09, 0.16, 0.25, 0.36, 0.49, 0.49, 0.64],\n",
       "       [0.25, 0.25, 0.09, 0.  , 0.09, 0.16, 0.25, 0.36, 0.36, 0.49],\n",
       "       [0.36, 0.36, 0.16, 0.09, 0.  , 0.04, 0.09, 0.16, 0.16, 0.25],\n",
       "       [0.49, 0.49, 0.25, 0.16, 0.04, 0.  , 0.04, 0.09, 0.09, 0.16],\n",
       "       [0.64, 0.64, 0.36, 0.25, 0.09, 0.04, 0.  , 0.04, 0.04, 0.09],\n",
       "       [0.81, 0.81, 0.49, 0.36, 0.16, 0.09, 0.04, 0.  , 0.01, 0.04],\n",
       "       [0.81, 0.81, 0.49, 0.36, 0.16, 0.09, 0.04, 0.01, 0.  , 0.01],\n",
       "       [1.  , 1.  , 0.64, 0.49, 0.25, 0.16, 0.09, 0.04, 0.01, 0.  ]])"
      ]
     },
     "execution_count": 7,
     "metadata": {},
     "output_type": "execute_result"
    }
   ],
   "source": [
    "D2 = (1 - agreement_matrix) ** 2\n",
    "D2"
   ]
  },
  {
   "cell_type": "markdown",
   "id": "f766808e",
   "metadata": {},
   "source": [
    "## Задание 4 ##"
   ]
  },
  {
   "cell_type": "code",
   "execution_count": 23,
   "id": "ec01dfaa",
   "metadata": {},
   "outputs": [
    {
     "data": {
      "text/plain": [
       "array([[-0.544, -0.283, -0.405, -0.12 ,  0.064, -0.048,  0.184,  0.284,\n",
       "         0.384,  0.484],\n",
       "       [-0.283, -0.202, -0.264, -0.069,  0.035, -0.037,  0.115,  0.175,\n",
       "         0.235,  0.295],\n",
       "       [-0.405, -0.264, -0.346, -0.091,  0.053, -0.039,  0.153,  0.233,\n",
       "         0.313,  0.393],\n",
       "       [-0.12 , -0.069, -0.091, -0.016,  0.008, -0.024,  0.048,  0.068,\n",
       "         0.088,  0.108],\n",
       "       [ 0.064,  0.035,  0.053,  0.008, -0.048, -0.04 , -0.018, -0.018,\n",
       "        -0.018, -0.018],\n",
       "       [-0.048, -0.037, -0.039, -0.024, -0.04 , -0.052,  0.03 ,  0.05 ,\n",
       "         0.07 ,  0.09 ],\n",
       "       [ 0.184,  0.115,  0.153,  0.048, -0.018,  0.03 , -0.068, -0.108,\n",
       "        -0.148, -0.188],\n",
       "       [ 0.284,  0.175,  0.233,  0.068, -0.018,  0.05 , -0.108, -0.168,\n",
       "        -0.228, -0.288],\n",
       "       [ 0.384,  0.235,  0.313,  0.088, -0.018,  0.07 , -0.148, -0.228,\n",
       "        -0.308, -0.388],\n",
       "       [ 0.484,  0.295,  0.393,  0.108, -0.018,  0.09 , -0.188, -0.288,\n",
       "        -0.388, -0.488]])"
      ]
     },
     "execution_count": 23,
     "metadata": {},
     "output_type": "execute_result"
    }
   ],
   "source": [
    "mean_row = np.mean(D2, axis=1, keepdims=True)\n",
    "mean_col = np.mean(D2, axis=0, keepdims=True)\n",
    "mean_all = np.mean(D2)\n",
    "\n",
    "C = D2 - mean_row - mean_col + mean_all\n",
    "C"
   ]
  },
  {
   "cell_type": "markdown",
   "id": "5205f361",
   "metadata": {},
   "source": [
    "## Задание 5"
   ]
  },
  {
   "cell_type": "code",
   "execution_count": 24,
   "id": "a183f561",
   "metadata": {},
   "outputs": [
    {
     "data": {
      "text/plain": [
       "array([[ 0.272 ,  0.1415,  0.2025,  0.06  , -0.032 ,  0.024 , -0.092 ,\n",
       "        -0.142 , -0.192 , -0.242 ],\n",
       "       [ 0.1415,  0.101 ,  0.132 ,  0.0345, -0.0175,  0.0185, -0.0575,\n",
       "        -0.0875, -0.1175, -0.1475],\n",
       "       [ 0.2025,  0.132 ,  0.173 ,  0.0455, -0.0265,  0.0195, -0.0765,\n",
       "        -0.1165, -0.1565, -0.1965],\n",
       "       [ 0.06  ,  0.0345,  0.0455,  0.008 , -0.004 ,  0.012 , -0.024 ,\n",
       "        -0.034 , -0.044 , -0.054 ],\n",
       "       [-0.032 , -0.0175, -0.0265, -0.004 ,  0.024 ,  0.02  ,  0.009 ,\n",
       "         0.009 ,  0.009 ,  0.009 ],\n",
       "       [ 0.024 ,  0.0185,  0.0195,  0.012 ,  0.02  ,  0.026 , -0.015 ,\n",
       "        -0.025 , -0.035 , -0.045 ],\n",
       "       [-0.092 , -0.0575, -0.0765, -0.024 ,  0.009 , -0.015 ,  0.034 ,\n",
       "         0.054 ,  0.074 ,  0.094 ],\n",
       "       [-0.142 , -0.0875, -0.1165, -0.034 ,  0.009 , -0.025 ,  0.054 ,\n",
       "         0.084 ,  0.114 ,  0.144 ],\n",
       "       [-0.192 , -0.1175, -0.1565, -0.044 ,  0.009 , -0.035 ,  0.074 ,\n",
       "         0.114 ,  0.154 ,  0.194 ],\n",
       "       [-0.242 , -0.1475, -0.1965, -0.054 ,  0.009 , -0.045 ,  0.094 ,\n",
       "         0.144 ,  0.194 ,  0.244 ]])"
      ]
     },
     "execution_count": 24,
     "metadata": {},
     "output_type": "execute_result"
    }
   ],
   "source": [
    "Y = -0.5 * C\n",
    "Y"
   ]
  },
  {
   "cell_type": "code",
   "execution_count": 26,
   "id": "6ba9a2f6",
   "metadata": {},
   "outputs": [
    {
     "name": "stdout",
     "output_type": "stream",
     "text": [
      "Первый собственный вектор:[ 0.49258373  0.29688638  0.39999353  0.11194396 -0.04182487  0.06930789\n",
      " -0.18425695 -0.28290075 -0.38154456 -0.48018836]\n"
     ]
    }
   ],
   "source": [
    "eigenvalues, eigenvectors = np.linalg.eig(Y)\n",
    "max_eigenvalue_index = np.argmax(eigenvalues)\n",
    "first_eigenvector = eigenvectors[:, max_eigenvalue_index]\n",
    "\n",
    "print(f\"Первый собственный вектор:{first_eigenvector}\")"
   ]
  },
  {
   "cell_type": "code",
   "execution_count": 28,
   "id": "053bf830",
   "metadata": {},
   "outputs": [
    {
     "name": "stdout",
     "output_type": "stream",
     "text": [
      "\n",
      "Истинное упорядочение:\n",
      "J - H - I - G - E - F - D - B - C - A\n",
      "\n",
      "Упорядочение по собственному вектору:\n",
      "J - I - H - G - E - F - D - B - C - A\n"
     ]
    }
   ],
   "source": [
    "legislator_positions = list(zip(legislators, first_eigenvector))\n",
    "\n",
    "\n",
    "sorted_legislators = sorted(legislator_positions, key=lambda x: x[1])\n",
    "\n",
    "true_order = ['A', 'C', 'B', 'D', 'F', 'E', 'G', 'I', 'H', 'J']\n",
    "true_order_reversed = true_order[::-1]\n",
    "\n",
    "\n",
    "print(\"\\nИстинное упорядочение:\")\n",
    "print(\" - \".join(true_order_reversed))\n",
    "\n",
    "\n",
    "sorted_legislators_only = [legislator for legislator, position in sorted_legislators]\n",
    "print(\"\\nУпорядочение по собственному вектору:\")\n",
    "print(\" - \".join(sorted_legislators_only))"
   ]
  },
  {
   "cell_type": "markdown",
   "id": "3d69c167",
   "metadata": {},
   "source": [
    "**Вывод:**"
   ]
  },
  {
   "cell_type": "markdown",
   "id": "0101aa77",
   "metadata": {},
   "source": [
    "Упорядочение, полученное по первому собственному вектору, приблизительно соответствует истинному упорядочению законодателей. Это подтверждает, что метод нахождения первого собственного вектора успешно восстанавливает истинное взаимное расположение законодателей на политической шкале."
   ]
  }
 ],
 "metadata": {
  "kernelspec": {
   "display_name": "Python 3 (ipykernel)",
   "language": "python",
   "name": "python3"
  },
  "language_info": {
   "codemirror_mode": {
    "name": "ipython",
    "version": 3
   },
   "file_extension": ".py",
   "mimetype": "text/x-python",
   "name": "python",
   "nbconvert_exporter": "python",
   "pygments_lexer": "ipython3",
   "version": "3.9.13"
  }
 },
 "nbformat": 4,
 "nbformat_minor": 5
}
