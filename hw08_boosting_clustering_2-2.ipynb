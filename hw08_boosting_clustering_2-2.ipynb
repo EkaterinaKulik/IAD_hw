{
 "cells": [
  {
   "cell_type": "markdown",
   "id": "047674ee",
   "metadata": {
    "id": "047674ee"
   },
   "source": [
    "# Часть 1 Бустинг (5 баллов)"
   ]
  },
  {
   "cell_type": "markdown",
   "id": "d8461109",
   "metadata": {
    "id": "d8461109"
   },
   "source": [
    "В этой части будем предсказывать зарплату data scientist-ов в зависимости  от ряда факторов с помощью градиентного бустинга."
   ]
  },
  {
   "cell_type": "markdown",
   "id": "1651e8dd",
   "metadata": {
    "id": "1651e8dd"
   },
   "source": [
    "В датасете есть следующие признаки:\n",
    "\n",
    "\n",
    "\n",
    "* work_year: The number of years of work experience in the field of data science.\n",
    "\n",
    "* experience_level: The level of experience, such as Junior, Senior, or Lead.\n",
    "\n",
    "* employment_type: The type of employment, such as Full-time or Contract.\n",
    "\n",
    "* job_title: The specific job title or role, such as Data Analyst or Data Scientist.\n",
    "\n",
    "* salary: The salary amount for the given job.\n",
    "\n",
    "* salary_currency: The currency in which the salary is denoted.\n",
    "\n",
    "* salary_in_usd: The equivalent salary amount converted to US dollars (USD) for comparison purposes.\n",
    "\n",
    "* employee_residence: The country or region where the employee resides.\n",
    "\n",
    "* remote_ratio: The percentage of remote work offered in the job.\n",
    "\n",
    "* company_location: The location of the company or organization.\n",
    "\n",
    "* company_size: The company's size is categorized as Small, Medium, or Large."
   ]
  },
  {
   "cell_type": "code",
   "execution_count": 1,
   "id": "dbf7595c",
   "metadata": {
    "colab": {
     "base_uri": "https://localhost:8080/",
     "height": 206
    },
    "id": "dbf7595c",
    "outputId": "2b6b72da-4332-443c-8564-f67511ae8008"
   },
   "outputs": [
    {
     "data": {
      "application/vnd.google.colaboratory.intrinsic+json": {
       "summary": "{\n  \"name\": \"df\",\n  \"rows\": 3755,\n  \"fields\": [\n    {\n      \"column\": \"work_year\",\n      \"properties\": {\n        \"dtype\": \"number\",\n        \"std\": 0,\n        \"min\": 2020,\n        \"max\": 2023,\n        \"num_unique_values\": 4,\n        \"samples\": [\n          2022,\n          2021,\n          2023\n        ],\n        \"semantic_type\": \"\",\n        \"description\": \"\"\n      }\n    },\n    {\n      \"column\": \"experience_level\",\n      \"properties\": {\n        \"dtype\": \"category\",\n        \"num_unique_values\": 4,\n        \"samples\": [\n          \"MI\",\n          \"EX\",\n          \"SE\"\n        ],\n        \"semantic_type\": \"\",\n        \"description\": \"\"\n      }\n    },\n    {\n      \"column\": \"employment_type\",\n      \"properties\": {\n        \"dtype\": \"category\",\n        \"num_unique_values\": 4,\n        \"samples\": [\n          \"CT\",\n          \"PT\",\n          \"FT\"\n        ],\n        \"semantic_type\": \"\",\n        \"description\": \"\"\n      }\n    },\n    {\n      \"column\": \"job_title\",\n      \"properties\": {\n        \"dtype\": \"category\",\n        \"num_unique_values\": 93,\n        \"samples\": [\n          \"Cloud Database Engineer\",\n          \"Staff Data Analyst\",\n          \"Insight Analyst\"\n        ],\n        \"semantic_type\": \"\",\n        \"description\": \"\"\n      }\n    },\n    {\n      \"column\": \"salary\",\n      \"properties\": {\n        \"dtype\": \"number\",\n        \"std\": 671676,\n        \"min\": 6000,\n        \"max\": 30400000,\n        \"num_unique_values\": 815,\n        \"samples\": [\n          84570,\n          138000,\n          370000\n        ],\n        \"semantic_type\": \"\",\n        \"description\": \"\"\n      }\n    },\n    {\n      \"column\": \"salary_currency\",\n      \"properties\": {\n        \"dtype\": \"category\",\n        \"num_unique_values\": 20,\n        \"samples\": [\n          \"EUR\",\n          \"MXN\",\n          \"DKK\"\n        ],\n        \"semantic_type\": \"\",\n        \"description\": \"\"\n      }\n    },\n    {\n      \"column\": \"salary_in_usd\",\n      \"properties\": {\n        \"dtype\": \"number\",\n        \"std\": 63055,\n        \"min\": 5132,\n        \"max\": 450000,\n        \"num_unique_values\": 1035,\n        \"samples\": [\n          205600,\n          375000,\n          140700\n        ],\n        \"semantic_type\": \"\",\n        \"description\": \"\"\n      }\n    },\n    {\n      \"column\": \"employee_residence\",\n      \"properties\": {\n        \"dtype\": \"category\",\n        \"num_unique_values\": 78,\n        \"samples\": [\n          \"AR\",\n          \"ES\",\n          \"AM\"\n        ],\n        \"semantic_type\": \"\",\n        \"description\": \"\"\n      }\n    },\n    {\n      \"column\": \"remote_ratio\",\n      \"properties\": {\n        \"dtype\": \"number\",\n        \"std\": 48,\n        \"min\": 0,\n        \"max\": 100,\n        \"num_unique_values\": 3,\n        \"samples\": [\n          100,\n          0,\n          50\n        ],\n        \"semantic_type\": \"\",\n        \"description\": \"\"\n      }\n    },\n    {\n      \"column\": \"company_location\",\n      \"properties\": {\n        \"dtype\": \"category\",\n        \"num_unique_values\": 72,\n        \"samples\": [\n          \"GB\",\n          \"MY\",\n          \"SG\"\n        ],\n        \"semantic_type\": \"\",\n        \"description\": \"\"\n      }\n    },\n    {\n      \"column\": \"company_size\",\n      \"properties\": {\n        \"dtype\": \"category\",\n        \"num_unique_values\": 3,\n        \"samples\": [\n          \"L\",\n          \"S\",\n          \"M\"\n        ],\n        \"semantic_type\": \"\",\n        \"description\": \"\"\n      }\n    }\n  ]\n}",
       "type": "dataframe",
       "variable_name": "df"
      },
      "text/html": [
       "\n",
       "  <div id=\"df-595b4ddd-33f2-4330-a5ad-2dbe6865201a\" class=\"colab-df-container\">\n",
       "    <div>\n",
       "<style scoped>\n",
       "    .dataframe tbody tr th:only-of-type {\n",
       "        vertical-align: middle;\n",
       "    }\n",
       "\n",
       "    .dataframe tbody tr th {\n",
       "        vertical-align: top;\n",
       "    }\n",
       "\n",
       "    .dataframe thead th {\n",
       "        text-align: right;\n",
       "    }\n",
       "</style>\n",
       "<table border=\"1\" class=\"dataframe\">\n",
       "  <thead>\n",
       "    <tr style=\"text-align: right;\">\n",
       "      <th></th>\n",
       "      <th>work_year</th>\n",
       "      <th>experience_level</th>\n",
       "      <th>employment_type</th>\n",
       "      <th>job_title</th>\n",
       "      <th>salary</th>\n",
       "      <th>salary_currency</th>\n",
       "      <th>salary_in_usd</th>\n",
       "      <th>employee_residence</th>\n",
       "      <th>remote_ratio</th>\n",
       "      <th>company_location</th>\n",
       "      <th>company_size</th>\n",
       "    </tr>\n",
       "  </thead>\n",
       "  <tbody>\n",
       "    <tr>\n",
       "      <th>0</th>\n",
       "      <td>2023</td>\n",
       "      <td>SE</td>\n",
       "      <td>FT</td>\n",
       "      <td>Principal Data Scientist</td>\n",
       "      <td>80000</td>\n",
       "      <td>EUR</td>\n",
       "      <td>85847</td>\n",
       "      <td>ES</td>\n",
       "      <td>100</td>\n",
       "      <td>ES</td>\n",
       "      <td>L</td>\n",
       "    </tr>\n",
       "    <tr>\n",
       "      <th>1</th>\n",
       "      <td>2023</td>\n",
       "      <td>MI</td>\n",
       "      <td>CT</td>\n",
       "      <td>ML Engineer</td>\n",
       "      <td>30000</td>\n",
       "      <td>USD</td>\n",
       "      <td>30000</td>\n",
       "      <td>US</td>\n",
       "      <td>100</td>\n",
       "      <td>US</td>\n",
       "      <td>S</td>\n",
       "    </tr>\n",
       "    <tr>\n",
       "      <th>2</th>\n",
       "      <td>2023</td>\n",
       "      <td>MI</td>\n",
       "      <td>CT</td>\n",
       "      <td>ML Engineer</td>\n",
       "      <td>25500</td>\n",
       "      <td>USD</td>\n",
       "      <td>25500</td>\n",
       "      <td>US</td>\n",
       "      <td>100</td>\n",
       "      <td>US</td>\n",
       "      <td>S</td>\n",
       "    </tr>\n",
       "    <tr>\n",
       "      <th>3</th>\n",
       "      <td>2023</td>\n",
       "      <td>SE</td>\n",
       "      <td>FT</td>\n",
       "      <td>Data Scientist</td>\n",
       "      <td>175000</td>\n",
       "      <td>USD</td>\n",
       "      <td>175000</td>\n",
       "      <td>CA</td>\n",
       "      <td>100</td>\n",
       "      <td>CA</td>\n",
       "      <td>M</td>\n",
       "    </tr>\n",
       "    <tr>\n",
       "      <th>4</th>\n",
       "      <td>2023</td>\n",
       "      <td>SE</td>\n",
       "      <td>FT</td>\n",
       "      <td>Data Scientist</td>\n",
       "      <td>120000</td>\n",
       "      <td>USD</td>\n",
       "      <td>120000</td>\n",
       "      <td>CA</td>\n",
       "      <td>100</td>\n",
       "      <td>CA</td>\n",
       "      <td>M</td>\n",
       "    </tr>\n",
       "  </tbody>\n",
       "</table>\n",
       "</div>\n",
       "    <div class=\"colab-df-buttons\">\n",
       "\n",
       "  <div class=\"colab-df-container\">\n",
       "    <button class=\"colab-df-convert\" onclick=\"convertToInteractive('df-595b4ddd-33f2-4330-a5ad-2dbe6865201a')\"\n",
       "            title=\"Convert this dataframe to an interactive table.\"\n",
       "            style=\"display:none;\">\n",
       "\n",
       "  <svg xmlns=\"http://www.w3.org/2000/svg\" height=\"24px\" viewBox=\"0 -960 960 960\">\n",
       "    <path d=\"M120-120v-720h720v720H120Zm60-500h600v-160H180v160Zm220 220h160v-160H400v160Zm0 220h160v-160H400v160ZM180-400h160v-160H180v160Zm440 0h160v-160H620v160ZM180-180h160v-160H180v160Zm440 0h160v-160H620v160Z\"/>\n",
       "  </svg>\n",
       "    </button>\n",
       "\n",
       "  <style>\n",
       "    .colab-df-container {\n",
       "      display:flex;\n",
       "      gap: 12px;\n",
       "    }\n",
       "\n",
       "    .colab-df-convert {\n",
       "      background-color: #E8F0FE;\n",
       "      border: none;\n",
       "      border-radius: 50%;\n",
       "      cursor: pointer;\n",
       "      display: none;\n",
       "      fill: #1967D2;\n",
       "      height: 32px;\n",
       "      padding: 0 0 0 0;\n",
       "      width: 32px;\n",
       "    }\n",
       "\n",
       "    .colab-df-convert:hover {\n",
       "      background-color: #E2EBFA;\n",
       "      box-shadow: 0px 1px 2px rgba(60, 64, 67, 0.3), 0px 1px 3px 1px rgba(60, 64, 67, 0.15);\n",
       "      fill: #174EA6;\n",
       "    }\n",
       "\n",
       "    .colab-df-buttons div {\n",
       "      margin-bottom: 4px;\n",
       "    }\n",
       "\n",
       "    [theme=dark] .colab-df-convert {\n",
       "      background-color: #3B4455;\n",
       "      fill: #D2E3FC;\n",
       "    }\n",
       "\n",
       "    [theme=dark] .colab-df-convert:hover {\n",
       "      background-color: #434B5C;\n",
       "      box-shadow: 0px 1px 3px 1px rgba(0, 0, 0, 0.15);\n",
       "      filter: drop-shadow(0px 1px 2px rgba(0, 0, 0, 0.3));\n",
       "      fill: #FFFFFF;\n",
       "    }\n",
       "  </style>\n",
       "\n",
       "    <script>\n",
       "      const buttonEl =\n",
       "        document.querySelector('#df-595b4ddd-33f2-4330-a5ad-2dbe6865201a button.colab-df-convert');\n",
       "      buttonEl.style.display =\n",
       "        google.colab.kernel.accessAllowed ? 'block' : 'none';\n",
       "\n",
       "      async function convertToInteractive(key) {\n",
       "        const element = document.querySelector('#df-595b4ddd-33f2-4330-a5ad-2dbe6865201a');\n",
       "        const dataTable =\n",
       "          await google.colab.kernel.invokeFunction('convertToInteractive',\n",
       "                                                    [key], {});\n",
       "        if (!dataTable) return;\n",
       "\n",
       "        const docLinkHtml = 'Like what you see? Visit the ' +\n",
       "          '<a target=\"_blank\" href=https://colab.research.google.com/notebooks/data_table.ipynb>data table notebook</a>'\n",
       "          + ' to learn more about interactive tables.';\n",
       "        element.innerHTML = '';\n",
       "        dataTable['output_type'] = 'display_data';\n",
       "        await google.colab.output.renderOutput(dataTable, element);\n",
       "        const docLink = document.createElement('div');\n",
       "        docLink.innerHTML = docLinkHtml;\n",
       "        element.appendChild(docLink);\n",
       "      }\n",
       "    </script>\n",
       "  </div>\n",
       "\n",
       "\n",
       "<div id=\"df-e46e008f-7f73-4cf8-9119-88b00c954308\">\n",
       "  <button class=\"colab-df-quickchart\" onclick=\"quickchart('df-e46e008f-7f73-4cf8-9119-88b00c954308')\"\n",
       "            title=\"Suggest charts\"\n",
       "            style=\"display:none;\">\n",
       "\n",
       "<svg xmlns=\"http://www.w3.org/2000/svg\" height=\"24px\"viewBox=\"0 0 24 24\"\n",
       "     width=\"24px\">\n",
       "    <g>\n",
       "        <path d=\"M19 3H5c-1.1 0-2 .9-2 2v14c0 1.1.9 2 2 2h14c1.1 0 2-.9 2-2V5c0-1.1-.9-2-2-2zM9 17H7v-7h2v7zm4 0h-2V7h2v10zm4 0h-2v-4h2v4z\"/>\n",
       "    </g>\n",
       "</svg>\n",
       "  </button>\n",
       "\n",
       "<style>\n",
       "  .colab-df-quickchart {\n",
       "      --bg-color: #E8F0FE;\n",
       "      --fill-color: #1967D2;\n",
       "      --hover-bg-color: #E2EBFA;\n",
       "      --hover-fill-color: #174EA6;\n",
       "      --disabled-fill-color: #AAA;\n",
       "      --disabled-bg-color: #DDD;\n",
       "  }\n",
       "\n",
       "  [theme=dark] .colab-df-quickchart {\n",
       "      --bg-color: #3B4455;\n",
       "      --fill-color: #D2E3FC;\n",
       "      --hover-bg-color: #434B5C;\n",
       "      --hover-fill-color: #FFFFFF;\n",
       "      --disabled-bg-color: #3B4455;\n",
       "      --disabled-fill-color: #666;\n",
       "  }\n",
       "\n",
       "  .colab-df-quickchart {\n",
       "    background-color: var(--bg-color);\n",
       "    border: none;\n",
       "    border-radius: 50%;\n",
       "    cursor: pointer;\n",
       "    display: none;\n",
       "    fill: var(--fill-color);\n",
       "    height: 32px;\n",
       "    padding: 0;\n",
       "    width: 32px;\n",
       "  }\n",
       "\n",
       "  .colab-df-quickchart:hover {\n",
       "    background-color: var(--hover-bg-color);\n",
       "    box-shadow: 0 1px 2px rgba(60, 64, 67, 0.3), 0 1px 3px 1px rgba(60, 64, 67, 0.15);\n",
       "    fill: var(--button-hover-fill-color);\n",
       "  }\n",
       "\n",
       "  .colab-df-quickchart-complete:disabled,\n",
       "  .colab-df-quickchart-complete:disabled:hover {\n",
       "    background-color: var(--disabled-bg-color);\n",
       "    fill: var(--disabled-fill-color);\n",
       "    box-shadow: none;\n",
       "  }\n",
       "\n",
       "  .colab-df-spinner {\n",
       "    border: 2px solid var(--fill-color);\n",
       "    border-color: transparent;\n",
       "    border-bottom-color: var(--fill-color);\n",
       "    animation:\n",
       "      spin 1s steps(1) infinite;\n",
       "  }\n",
       "\n",
       "  @keyframes spin {\n",
       "    0% {\n",
       "      border-color: transparent;\n",
       "      border-bottom-color: var(--fill-color);\n",
       "      border-left-color: var(--fill-color);\n",
       "    }\n",
       "    20% {\n",
       "      border-color: transparent;\n",
       "      border-left-color: var(--fill-color);\n",
       "      border-top-color: var(--fill-color);\n",
       "    }\n",
       "    30% {\n",
       "      border-color: transparent;\n",
       "      border-left-color: var(--fill-color);\n",
       "      border-top-color: var(--fill-color);\n",
       "      border-right-color: var(--fill-color);\n",
       "    }\n",
       "    40% {\n",
       "      border-color: transparent;\n",
       "      border-right-color: var(--fill-color);\n",
       "      border-top-color: var(--fill-color);\n",
       "    }\n",
       "    60% {\n",
       "      border-color: transparent;\n",
       "      border-right-color: var(--fill-color);\n",
       "    }\n",
       "    80% {\n",
       "      border-color: transparent;\n",
       "      border-right-color: var(--fill-color);\n",
       "      border-bottom-color: var(--fill-color);\n",
       "    }\n",
       "    90% {\n",
       "      border-color: transparent;\n",
       "      border-bottom-color: var(--fill-color);\n",
       "    }\n",
       "  }\n",
       "</style>\n",
       "\n",
       "  <script>\n",
       "    async function quickchart(key) {\n",
       "      const quickchartButtonEl =\n",
       "        document.querySelector('#' + key + ' button');\n",
       "      quickchartButtonEl.disabled = true;  // To prevent multiple clicks.\n",
       "      quickchartButtonEl.classList.add('colab-df-spinner');\n",
       "      try {\n",
       "        const charts = await google.colab.kernel.invokeFunction(\n",
       "            'suggestCharts', [key], {});\n",
       "      } catch (error) {\n",
       "        console.error('Error during call to suggestCharts:', error);\n",
       "      }\n",
       "      quickchartButtonEl.classList.remove('colab-df-spinner');\n",
       "      quickchartButtonEl.classList.add('colab-df-quickchart-complete');\n",
       "    }\n",
       "    (() => {\n",
       "      let quickchartButtonEl =\n",
       "        document.querySelector('#df-e46e008f-7f73-4cf8-9119-88b00c954308 button');\n",
       "      quickchartButtonEl.style.display =\n",
       "        google.colab.kernel.accessAllowed ? 'block' : 'none';\n",
       "    })();\n",
       "  </script>\n",
       "</div>\n",
       "    </div>\n",
       "  </div>\n"
      ],
      "text/plain": [
       "   work_year experience_level employment_type                 job_title  \\\n",
       "0       2023               SE              FT  Principal Data Scientist   \n",
       "1       2023               MI              CT               ML Engineer   \n",
       "2       2023               MI              CT               ML Engineer   \n",
       "3       2023               SE              FT            Data Scientist   \n",
       "4       2023               SE              FT            Data Scientist   \n",
       "\n",
       "   salary salary_currency  salary_in_usd employee_residence  remote_ratio  \\\n",
       "0   80000             EUR          85847                 ES           100   \n",
       "1   30000             USD          30000                 US           100   \n",
       "2   25500             USD          25500                 US           100   \n",
       "3  175000             USD         175000                 CA           100   \n",
       "4  120000             USD         120000                 CA           100   \n",
       "\n",
       "  company_location company_size  \n",
       "0               ES            L  \n",
       "1               US            S  \n",
       "2               US            S  \n",
       "3               CA            M  \n",
       "4               CA            M  "
      ]
     },
     "execution_count": 1,
     "metadata": {},
     "output_type": "execute_result"
    }
   ],
   "source": [
    "import pandas as pd\n",
    "\n",
    "df = pd.read_csv(\"ds_salaries.csv\")\n",
    "df.head()"
   ]
  },
  {
   "cell_type": "markdown",
   "id": "6696e77a",
   "metadata": {
    "id": "6696e77a"
   },
   "source": [
    "## Задание 1 (0.5 балла) Подготовка"
   ]
  },
  {
   "cell_type": "markdown",
   "id": "0cb13dc7",
   "metadata": {
    "id": "0cb13dc7"
   },
   "source": [
    "\n",
    "\n",
    "*   Разделите выборку на train, val, test (80%, 10%, 10%)\n",
    "*   Выдерите salary_in_usd в качестве таргета\n",
    "*   Найдите и удалите признак, из-за которого возможен лик в данных\n"
   ]
  },
  {
   "cell_type": "code",
   "execution_count": 2,
   "id": "5M9xDWnu7Q8k",
   "metadata": {
    "id": "5M9xDWnu7Q8k"
   },
   "outputs": [],
   "source": [
    "X = df.drop(['salary_in_usd'], axis = 1)\n",
    "y = df['salary_in_usd']"
   ]
  },
  {
   "cell_type": "code",
   "execution_count": 3,
   "id": "Wp6ILkA17_fe",
   "metadata": {
    "id": "Wp6ILkA17_fe"
   },
   "outputs": [],
   "source": [
    "X = X.drop(['salary'], axis = 1) #удаляем признак, из-за которого возможен лик в данных"
   ]
  },
  {
   "cell_type": "markdown",
   "id": "i9X0fvnLlTgv",
   "metadata": {
    "id": "i9X0fvnLlTgv"
   },
   "source": []
  },
  {
   "cell_type": "code",
   "execution_count": 4,
   "id": "zzlnxu-t8M6e",
   "metadata": {
    "id": "zzlnxu-t8M6e"
   },
   "outputs": [],
   "source": [
    "from sklearn.model_selection import train_test_split\n",
    "\n",
    "X_train, X_test, y_train, y_test = train_test_split(X, y, test_size=0.2, random_state=42)\n",
    "X_test, X_val, y_test, y_val = train_test_split(X_train, y_train, test_size=0.5, random_state=42)"
   ]
  },
  {
   "cell_type": "markdown",
   "id": "f63cb01a",
   "metadata": {
    "id": "f63cb01a"
   },
   "source": [
    "## Задание 2 (0.5 балла) Линейная модель"
   ]
  },
  {
   "cell_type": "markdown",
   "id": "647a5cad",
   "metadata": {
    "id": "647a5cad"
   },
   "source": [
    "\n",
    "*   Закодируйте категориальные  признаки с помощью OneHotEncoder\n",
    "*   Обучите модель линейной регрессии\n",
    "*   Оцените  качество через MAPE и RMSE\n"
   ]
  },
  {
   "cell_type": "code",
   "execution_count": 5,
   "id": "DcfWqlvYk0ru",
   "metadata": {
    "id": "DcfWqlvYk0ru"
   },
   "outputs": [],
   "source": [
    "from sklearn.linear_model import LinearRegression\n",
    "from sklearn.metrics import mean_absolute_percentage_error, mean_squared_error\n",
    "from sklearn.preprocessing import OneHotEncoder, StandardScaler\n",
    "import numpy as np\n",
    "\n",
    "columns_to_scale  = X_train.select_dtypes(np.number).columns\n",
    "columns_to_encode = X_train.select_dtypes(include=['object']).columns\n",
    "\n",
    "scaler = StandardScaler()\n",
    "ohe = OneHotEncoder(sparse_output = False)\n",
    "\n",
    "scaled_train  = scaler.fit_transform(X_train[columns_to_scale])\n",
    "scaled_test  = scaler.transform(X_test[columns_to_scale])\n",
    "\n",
    "encoded_train = ohe.fit_transform(X_train[columns_to_encode])\n",
    "encoded_test = ohe.transform(X_test[columns_to_encode])\n",
    "\n",
    "final_train = np.concatenate([scaled_train, encoded_train], axis = 1)\n",
    "final_test = np.concatenate([scaled_test, encoded_test], axis=1)\n",
    "\n"
   ]
  },
  {
   "cell_type": "code",
   "execution_count": 6,
   "id": "dqa2PIDaBgTM",
   "metadata": {
    "id": "dqa2PIDaBgTM"
   },
   "outputs": [],
   "source": [
    "model = LinearRegression()\n",
    "\n",
    "model.fit(final_train, y_train)\n",
    "y_pred = model.predict(final_test)\n",
    "y_train_pred = model.predict(final_train)"
   ]
  },
  {
   "cell_type": "code",
   "execution_count": 7,
   "id": "3ksZmhdt9yIU",
   "metadata": {
    "colab": {
     "base_uri": "https://localhost:8080/"
    },
    "id": "3ksZmhdt9yIU",
    "outputId": "bd6c2790-778c-462f-b027-049cda87273a"
   },
   "outputs": [
    {
     "name": "stdout",
     "output_type": "stream",
     "text": [
      "MAPE:  0.29349617570232334\n",
      "RMSE:  45590.56479439181\n"
     ]
    }
   ],
   "source": [
    "print('MAPE: ', mean_absolute_percentage_error(y_test, y_pred))\n",
    "print('RMSE: ', mean_squared_error(y_test, y_pred, squared=False))"
   ]
  },
  {
   "cell_type": "markdown",
   "id": "3578292c",
   "metadata": {
    "id": "3578292c"
   },
   "source": [
    "## Задание 3 (0.5 балла) XGboost"
   ]
  },
  {
   "cell_type": "markdown",
   "id": "3RJuwwoty9w1",
   "metadata": {
    "id": "3RJuwwoty9w1"
   },
   "source": [
    "Начнем с библиотеки xgboost.\n",
    "\n",
    "Обучите модель `XGBRegressor` на тех же данных, что линейную модель, подобрав оптимальные гиперпараметры (`max_depth, learning_rate, n_estimators, gamma`, etc.) по валидационной выборке. Оцените качество итоговой модели (MAPE, RMSE), скорость обучения и скорость предсказания."
   ]
  },
  {
   "cell_type": "code",
   "execution_count": 10,
   "id": "Xuqh2ExRLuWw",
   "metadata": {
    "id": "Xuqh2ExRLuWw"
   },
   "outputs": [],
   "source": [
    "from xgboost.sklearn import XGBRegressor"
   ]
  },
  {
   "cell_type": "code",
   "execution_count": 11,
   "id": "_18EEGeLMmTb",
   "metadata": {
    "id": "_18EEGeLMmTb"
   },
   "outputs": [],
   "source": [
    "columns_to_scale  = X_val.select_dtypes(np.number).columns\n",
    "columns_to_encode = X_val.select_dtypes(include=['object']).columns\n",
    "\n",
    "scaler = StandardScaler()\n",
    "ohe = OneHotEncoder(sparse_output = False)\n",
    "\n",
    "scaled_val  = scaler.fit_transform(X_val[columns_to_scale])\n",
    "\n",
    "encoded_val = ohe.fit_transform(X_val[columns_to_encode])\n",
    "\n",
    "final_val = np.concatenate([scaled_val, encoded_val], axis = 1)"
   ]
  },
  {
   "cell_type": "code",
   "execution_count": 12,
   "id": "qafqCyE6zGpE",
   "metadata": {
    "id": "qafqCyE6zGpE"
   },
   "outputs": [],
   "source": [
    "from sklearn.model_selection import RandomizedSearchCV, GridSearchCV\n",
    "import numpy as np\n",
    "\n",
    "\n",
    "params = {\n",
    "    'max_depth' : [5, 7, 9, 12, 15],\n",
    "    'learning_rate' : np.arange(0.01,0.2,0.005),\n",
    "    'n_estimators' : np.arange(1, 50, 5),\n",
    "    'gamma' : np.arange(0, 1, 0.1)\n",
    "\n",
    "}\n",
    "\n",
    "model = XGBRegressor()\n",
    "\n",
    "cv = [(slice(None), slice(None))]\n",
    "\n",
    "grid_search = RandomizedSearchCV(model, params, scoring='neg_root_mean_squared_error', n_iter = 30, cv = cv)\n",
    "grid_result = grid_search.fit(final_val,y_val)"
   ]
  },
  {
   "cell_type": "code",
   "execution_count": 13,
   "id": "NyJRlt2_LJ1t",
   "metadata": {
    "colab": {
     "base_uri": "https://localhost:8080/"
    },
    "id": "NyJRlt2_LJ1t",
    "outputId": "e3986324-7556-4bb3-aad5-df0b3beb0324"
   },
   "outputs": [
    {
     "name": "stdout",
     "output_type": "stream",
     "text": [
      "Best Hyperparameters: {'n_estimators': 46, 'max_depth': 15, 'learning_rate': 0.18, 'gamma': 0.0}\n"
     ]
    }
   ],
   "source": [
    "print(\"Best Hyperparameters:\", grid_search.best_params_)"
   ]
  },
  {
   "cell_type": "code",
   "execution_count": 14,
   "id": "hvQr6Sw3VpbW",
   "metadata": {
    "colab": {
     "base_uri": "https://localhost:8080/"
    },
    "id": "hvQr6Sw3VpbW",
    "outputId": "6f20ddcb-a319-4cb2-a1dc-fb94b4a319d8"
   },
   "outputs": [
    {
     "name": "stdout",
     "output_type": "stream",
     "text": [
      "MAPE:  0.23140465010646127\n",
      "RMSE:  40224.15555899208\n"
     ]
    }
   ],
   "source": [
    "model = XGBRegressor(n_estimators = 46, max_depth = 15, learning_rate = 0.18, gamma = 0.0)\n",
    "\n",
    "model.fit(final_train, y_train)\n",
    "y_pred = model.predict(final_test)\n",
    "y_train_pred = model.predict(final_train)\n",
    "\n",
    "print('MAPE: ', mean_absolute_percentage_error(y_test, y_pred))\n",
    "print('RMSE: ', mean_squared_error(y_test, y_pred, squared=False))"
   ]
  },
  {
   "cell_type": "markdown",
   "id": "RmWp9wxu318i",
   "metadata": {
    "id": "RmWp9wxu318i"
   },
   "source": [
    "## Задание 4 (1 балл) CatBoost"
   ]
  },
  {
   "cell_type": "markdown",
   "id": "bDWqieZk3-rv",
   "metadata": {
    "id": "bDWqieZk3-rv"
   },
   "source": [
    "Теперь библиотека CatBoost.\n",
    "\n",
    "Обучите модель `CatBoostRegressor`, подобрав оптимальные гиперпараметры (`depth, learning_rate, iterations`, etc.) по валидационной выборке. Оцените качество итоговой модели (MAPE, RMSE), скорость обучения и скорость предсказания."
   ]
  },
  {
   "cell_type": "code",
   "execution_count": 16,
   "id": "99jISiIdlzrJ",
   "metadata": {
    "colab": {
     "base_uri": "https://localhost:8080/"
    },
    "id": "99jISiIdlzrJ",
    "outputId": "11ac4ef8-2998-4fc8-9ed8-c2b853da09ed"
   },
   "outputs": [
    {
     "name": "stdout",
     "output_type": "stream",
     "text": [
      "Collecting catboost\n",
      "  Downloading catboost-1.2.5-cp310-cp310-manylinux2014_x86_64.whl (98.2 MB)\n",
      "\u001b[2K     \u001b[90m━━━━━━━━━━━━━━━━━━━━━━━━━━━━━━━━━━━━━━━━\u001b[0m \u001b[32m98.2/98.2 MB\u001b[0m \u001b[31m8.8 MB/s\u001b[0m eta \u001b[36m0:00:00\u001b[0m\n",
      "\u001b[?25hRequirement already satisfied: graphviz in /usr/local/lib/python3.10/dist-packages (from catboost) (0.20.3)\n",
      "Requirement already satisfied: matplotlib in /usr/local/lib/python3.10/dist-packages (from catboost) (3.7.1)\n",
      "Requirement already satisfied: numpy>=1.16.0 in /usr/local/lib/python3.10/dist-packages (from catboost) (1.25.2)\n",
      "Requirement already satisfied: pandas>=0.24 in /usr/local/lib/python3.10/dist-packages (from catboost) (2.0.3)\n",
      "Requirement already satisfied: scipy in /usr/local/lib/python3.10/dist-packages (from catboost) (1.11.4)\n",
      "Requirement already satisfied: plotly in /usr/local/lib/python3.10/dist-packages (from catboost) (5.15.0)\n",
      "Requirement already satisfied: six in /usr/local/lib/python3.10/dist-packages (from catboost) (1.16.0)\n",
      "Requirement already satisfied: python-dateutil>=2.8.2 in /usr/local/lib/python3.10/dist-packages (from pandas>=0.24->catboost) (2.8.2)\n",
      "Requirement already satisfied: pytz>=2020.1 in /usr/local/lib/python3.10/dist-packages (from pandas>=0.24->catboost) (2023.4)\n",
      "Requirement already satisfied: tzdata>=2022.1 in /usr/local/lib/python3.10/dist-packages (from pandas>=0.24->catboost) (2024.1)\n",
      "Requirement already satisfied: contourpy>=1.0.1 in /usr/local/lib/python3.10/dist-packages (from matplotlib->catboost) (1.2.1)\n",
      "Requirement already satisfied: cycler>=0.10 in /usr/local/lib/python3.10/dist-packages (from matplotlib->catboost) (0.12.1)\n",
      "Requirement already satisfied: fonttools>=4.22.0 in /usr/local/lib/python3.10/dist-packages (from matplotlib->catboost) (4.53.0)\n",
      "Requirement already satisfied: kiwisolver>=1.0.1 in /usr/local/lib/python3.10/dist-packages (from matplotlib->catboost) (1.4.5)\n",
      "Requirement already satisfied: packaging>=20.0 in /usr/local/lib/python3.10/dist-packages (from matplotlib->catboost) (24.0)\n",
      "Requirement already satisfied: pillow>=6.2.0 in /usr/local/lib/python3.10/dist-packages (from matplotlib->catboost) (9.4.0)\n",
      "Requirement already satisfied: pyparsing>=2.3.1 in /usr/local/lib/python3.10/dist-packages (from matplotlib->catboost) (3.1.2)\n",
      "Requirement already satisfied: tenacity>=6.2.0 in /usr/local/lib/python3.10/dist-packages (from plotly->catboost) (8.3.0)\n",
      "Installing collected packages: catboost\n",
      "Successfully installed catboost-1.2.5\n"
     ]
    }
   ],
   "source": [
    "!pip3 install catboost"
   ]
  },
  {
   "cell_type": "code",
   "execution_count": 17,
   "id": "mbhrOOPJ4X9C",
   "metadata": {
    "id": "mbhrOOPJ4X9C"
   },
   "outputs": [],
   "source": [
    "from catboost import CatBoostRegressor\n",
    "\n",
    "params = {\n",
    "    'depth' : [5, 7, 9, 12, 15],\n",
    "    'learning_rate' : np.arange(0.01,0.2,0.005),\n",
    "    'iterations' :  [300, 400, 500],\n",
    "\n",
    "}\n",
    "\n",
    "model = CatBoostRegressor(verbose = False)\n",
    "\n",
    "cv = [(slice(None), slice(None))]\n",
    "\n",
    "#kfold = KFold(n_splits=10, shuffle=True, random_state=42)\n",
    "grid_search = RandomizedSearchCV(model, params, scoring='neg_root_mean_squared_error', n_iter = 30, cv = cv)\n",
    "grid_result = grid_search.fit(final_val,y_val)"
   ]
  },
  {
   "cell_type": "code",
   "execution_count": 18,
   "id": "n1oGuN8ORyWh",
   "metadata": {
    "colab": {
     "base_uri": "https://localhost:8080/"
    },
    "id": "n1oGuN8ORyWh",
    "outputId": "17012bd2-7b99-4ec1-eefe-9f08c96ec2ca"
   },
   "outputs": [
    {
     "name": "stdout",
     "output_type": "stream",
     "text": [
      "Best Hyperparameters: {'learning_rate': 0.12999999999999998, 'iterations': 500, 'depth': 15}\n"
     ]
    }
   ],
   "source": [
    "print(\"Best Hyperparameters:\", grid_search.best_params_)"
   ]
  },
  {
   "cell_type": "code",
   "execution_count": 19,
   "id": "Ztdt39FZVruJ",
   "metadata": {
    "colab": {
     "base_uri": "https://localhost:8080/"
    },
    "id": "Ztdt39FZVruJ",
    "outputId": "a2b14ee0-9354-48fe-a5e7-b0fd140bae36"
   },
   "outputs": [
    {
     "name": "stdout",
     "output_type": "stream",
     "text": [
      "MAPE:  0.21822351248615787\n",
      "RMSE:  39944.335072719994\n"
     ]
    }
   ],
   "source": [
    "model = CatBoostRegressor(learning_rate = 0.13, iterations = 500, depth = 15, verbose = False)\n",
    "\n",
    "model.fit(final_train, y_train)\n",
    "y_pred = model.predict(final_test)\n",
    "y_train_pred = model.predict(final_train)\n",
    "\n",
    "print('MAPE: ', mean_absolute_percentage_error(y_test, y_pred))\n",
    "print('RMSE: ', mean_squared_error(y_test, y_pred, squared=False))"
   ]
  },
  {
   "cell_type": "markdown",
   "id": "ruUNeGOk4lho",
   "metadata": {
    "id": "ruUNeGOk4lho"
   },
   "source": [
    "Для применения catboost моделей не обязательно сначала кодировать категориальные признаки, модель может кодировать их сама. Обучите catboost с подбором оптимальных гиперпараметров снова, используя pool для передачи данных в модель с указанием какие признаки категориальные, а какие нет с помощью параметра cat_features. Оцените качество и время. Стало ли лучше?"
   ]
  },
  {
   "cell_type": "code",
   "execution_count": 25,
   "id": "5vQr1f9P6cQ5",
   "metadata": {
    "colab": {
     "base_uri": "https://localhost:8080/",
     "height": 1000
    },
    "id": "5vQr1f9P6cQ5",
    "outputId": "fa3c7709-e1f8-49d3-c555-cf7a61accab0"
   },
   "outputs": [
    {
     "name": "stdout",
     "output_type": "stream",
     "text": [
      "Training on fold [0/3]\n",
      "\n",
      "bestTest = 46289.98267\n",
      "bestIteration = 382\n",
      "\n",
      "Training on fold [1/3]\n",
      "\n",
      "bestTest = 48538.38053\n",
      "bestIteration = 397\n",
      "\n",
      "Training on fold [2/3]\n",
      "\n",
      "bestTest = 49670.49258\n",
      "bestIteration = 399\n",
      "\n",
      "Training on fold [0/3]\n",
      "\n",
      "bestTest = 46256.99609\n",
      "bestIteration = 163\n",
      "\n",
      "Training on fold [1/3]\n",
      "\n",
      "bestTest = 48573.66938\n",
      "bestIteration = 265\n",
      "\n",
      "Training on fold [2/3]\n",
      "\n",
      "bestTest = 49623.02065\n",
      "bestIteration = 398\n",
      "\n",
      "Training on fold [0/3]\n",
      "\n",
      "bestTest = 46465.76569\n",
      "bestIteration = 87\n",
      "\n",
      "Training on fold [1/3]\n",
      "\n",
      "bestTest = 48779.26309\n",
      "bestIteration = 184\n",
      "\n",
      "Training on fold [2/3]\n",
      "\n",
      "bestTest = 49125.35213\n",
      "bestIteration = 207\n",
      "\n",
      "Training on fold [0/3]\n",
      "\n",
      "bestTest = 46129.36884\n",
      "bestIteration = 115\n",
      "\n",
      "Training on fold [1/3]\n",
      "\n",
      "bestTest = 48193.11641\n",
      "bestIteration = 276\n",
      "\n",
      "Training on fold [2/3]\n",
      "\n",
      "bestTest = 49488.49815\n",
      "bestIteration = 453\n",
      "\n",
      "Training on fold [0/3]\n",
      "\n",
      "bestTest = 46383.54775\n",
      "bestIteration = 172\n",
      "\n",
      "Training on fold [1/3]\n",
      "\n",
      "bestTest = 48299.6678\n",
      "bestIteration = 137\n",
      "\n",
      "Training on fold [2/3]\n",
      "\n",
      "bestTest = 49583.23589\n",
      "bestIteration = 110\n",
      "\n",
      "Training on fold [0/3]\n",
      "\n",
      "bestTest = 45796.57267\n",
      "bestIteration = 488\n",
      "\n",
      "Training on fold [1/3]\n",
      "\n",
      "bestTest = 48536.23298\n",
      "bestIteration = 365\n",
      "\n",
      "Training on fold [2/3]\n",
      "\n",
      "bestTest = 49366.20246\n",
      "bestIteration = 467\n",
      "\n",
      "Training on fold [0/3]\n",
      "\n",
      "bestTest = 46116.83098\n",
      "bestIteration = 169\n",
      "\n",
      "Training on fold [1/3]\n",
      "\n",
      "bestTest = 48624.91877\n",
      "bestIteration = 277\n",
      "\n",
      "Training on fold [2/3]\n",
      "\n",
      "bestTest = 49352.76181\n",
      "bestIteration = 275\n",
      "\n",
      "Training on fold [0/3]\n",
      "\n",
      "bestTest = 45890.904\n",
      "bestIteration = 353\n",
      "\n",
      "Training on fold [1/3]\n",
      "\n",
      "bestTest = 48658.51306\n",
      "bestIteration = 392\n",
      "\n",
      "Training on fold [2/3]\n",
      "\n",
      "bestTest = 49384.41309\n",
      "bestIteration = 495\n",
      "\n",
      "Training on fold [0/3]\n",
      "\n",
      "bestTest = 45874.30869\n",
      "bestIteration = 172\n",
      "\n",
      "Training on fold [1/3]\n",
      "\n",
      "bestTest = 48550.78831\n",
      "bestIteration = 279\n",
      "\n",
      "Training on fold [2/3]\n",
      "\n",
      "bestTest = 49494.90219\n",
      "bestIteration = 149\n",
      "\n",
      "Training on fold [0/3]\n",
      "\n",
      "bestTest = 45844.72813\n",
      "bestIteration = 146\n",
      "\n",
      "Training on fold [1/3]\n",
      "\n",
      "bestTest = 48709.49024\n",
      "bestIteration = 177\n",
      "\n",
      "Training on fold [2/3]\n",
      "\n",
      "bestTest = 49571.79622\n",
      "bestIteration = 176\n",
      "\n",
      "Training on fold [0/3]\n",
      "\n",
      "bestTest = 45958.25365\n",
      "bestIteration = 75\n",
      "\n",
      "Training on fold [1/3]\n",
      "\n",
      "bestTest = 48901.432\n",
      "bestIteration = 155\n",
      "\n",
      "Training on fold [2/3]\n",
      "\n",
      "bestTest = 49602.64946\n",
      "bestIteration = 107\n",
      "\n",
      "Training on fold [0/3]\n",
      "\n",
      "bestTest = 46175.65084\n",
      "bestIteration = 135\n",
      "\n",
      "Training on fold [1/3]\n",
      "\n",
      "bestTest = 48563.76507\n",
      "bestIteration = 137\n",
      "\n",
      "Training on fold [2/3]\n",
      "\n",
      "bestTest = 49478.67369\n",
      "bestIteration = 164\n",
      "\n",
      "Training on fold [0/3]\n",
      "\n",
      "bestTest = 46375.30266\n",
      "bestIteration = 38\n",
      "\n",
      "Training on fold [1/3]\n",
      "\n",
      "bestTest = 49069.74606\n",
      "bestIteration = 38\n",
      "\n",
      "Training on fold [2/3]\n",
      "\n",
      "bestTest = 49802.58555\n",
      "bestIteration = 35\n",
      "\n",
      "Training on fold [0/3]\n",
      "\n",
      "bestTest = 46063.39003\n",
      "bestIteration = 39\n",
      "\n",
      "Training on fold [1/3]\n",
      "\n",
      "bestTest = 48837.37055\n",
      "bestIteration = 45\n",
      "\n",
      "Training on fold [2/3]\n",
      "\n",
      "bestTest = 49751.31788\n",
      "bestIteration = 51\n",
      "\n",
      "Training on fold [0/3]\n",
      "\n",
      "bestTest = 46361.0811\n",
      "bestIteration = 28\n",
      "\n",
      "Training on fold [1/3]\n",
      "\n",
      "bestTest = 48894.25593\n",
      "bestIteration = 55\n",
      "\n",
      "Training on fold [2/3]\n",
      "\n",
      "bestTest = 50045.36841\n",
      "bestIteration = 40\n",
      "\n",
      "Training on fold [0/3]\n"
     ]
    },
    {
     "ename": "KeyboardInterrupt",
     "evalue": "",
     "output_type": "error",
     "traceback": [
      "\u001b[0;31m---------------------------------------------------------------------------\u001b[0m",
      "\u001b[0;31mKeyboardInterrupt\u001b[0m                         Traceback (most recent call last)",
      "\u001b[0;32m<ipython-input-25-0a88c9d65728>\u001b[0m in \u001b[0;36m<cell line: 19>\u001b[0;34m()\u001b[0m\n\u001b[1;32m     17\u001b[0m \u001b[0;34m\u001b[0m\u001b[0m\n\u001b[1;32m     18\u001b[0m \u001b[0;34m\u001b[0m\u001b[0m\n\u001b[0;32m---> 19\u001b[0;31m \u001b[0mgrid_search\u001b[0m \u001b[0;34m=\u001b[0m \u001b[0mmodel\u001b[0m\u001b[0;34m.\u001b[0m\u001b[0mrandomized_search\u001b[0m\u001b[0;34m(\u001b[0m\u001b[0mparams\u001b[0m\u001b[0;34m,\u001b[0m \u001b[0mpool\u001b[0m\u001b[0;34m,\u001b[0m \u001b[0mn_iter\u001b[0m \u001b[0;34m=\u001b[0m \u001b[0;36m20\u001b[0m\u001b[0;34m,\u001b[0m \u001b[0mverbose\u001b[0m \u001b[0;34m=\u001b[0m \u001b[0;32mFalse\u001b[0m\u001b[0;34m,\u001b[0m \u001b[0msearch_by_train_test_split\u001b[0m \u001b[0;34m=\u001b[0m \u001b[0;32mFalse\u001b[0m\u001b[0;34m,\u001b[0m \u001b[0mcalc_cv_statistics\u001b[0m \u001b[0;34m=\u001b[0m \u001b[0;32mFalse\u001b[0m\u001b[0;34m)\u001b[0m\u001b[0;34m\u001b[0m\u001b[0;34m\u001b[0m\u001b[0m\n\u001b[0m",
      "\u001b[0;32m/usr/local/lib/python3.10/dist-packages/catboost/core.py\u001b[0m in \u001b[0;36mrandomized_search\u001b[0;34m(self, param_distributions, X, y, cv, n_iter, partition_random_seed, calc_cv_statistics, search_by_train_test_split, refit, shuffle, stratified, train_size, verbose, plot, plot_file, log_cout, log_cerr)\u001b[0m\n\u001b[1;32m   4301\u001b[0m                 \u001b[0;32mraise\u001b[0m \u001b[0mTypeError\u001b[0m\u001b[0;34m(\u001b[0m\u001b[0;34m'Parameter grid value is not iterable and do not have \\'rvs\\' method (key={!r}, value={!r})'\u001b[0m\u001b[0;34m.\u001b[0m\u001b[0mformat\u001b[0m\u001b[0;34m(\u001b[0m\u001b[0mkey\u001b[0m\u001b[0;34m,\u001b[0m \u001b[0mparam_distributions\u001b[0m\u001b[0;34m[\u001b[0m\u001b[0mkey\u001b[0m\u001b[0;34m]\u001b[0m\u001b[0;34m)\u001b[0m\u001b[0;34m)\u001b[0m\u001b[0;34m\u001b[0m\u001b[0;34m\u001b[0m\u001b[0m\n\u001b[1;32m   4302\u001b[0m \u001b[0;34m\u001b[0m\u001b[0m\n\u001b[0;32m-> 4303\u001b[0;31m         return self._tune_hyperparams(\n\u001b[0m\u001b[1;32m   4304\u001b[0m             \u001b[0mparam_grid\u001b[0m\u001b[0;34m=\u001b[0m\u001b[0mparam_distributions\u001b[0m\u001b[0;34m,\u001b[0m \u001b[0mX\u001b[0m\u001b[0;34m=\u001b[0m\u001b[0mX\u001b[0m\u001b[0;34m,\u001b[0m \u001b[0my\u001b[0m\u001b[0;34m=\u001b[0m\u001b[0my\u001b[0m\u001b[0;34m,\u001b[0m \u001b[0mcv\u001b[0m\u001b[0;34m=\u001b[0m\u001b[0mcv\u001b[0m\u001b[0;34m,\u001b[0m \u001b[0mn_iter\u001b[0m\u001b[0;34m=\u001b[0m\u001b[0mn_iter\u001b[0m\u001b[0;34m,\u001b[0m\u001b[0;34m\u001b[0m\u001b[0;34m\u001b[0m\u001b[0m\n\u001b[1;32m   4305\u001b[0m             \u001b[0mpartition_random_seed\u001b[0m\u001b[0;34m=\u001b[0m\u001b[0mpartition_random_seed\u001b[0m\u001b[0;34m,\u001b[0m \u001b[0mcalc_cv_statistics\u001b[0m\u001b[0;34m=\u001b[0m\u001b[0mcalc_cv_statistics\u001b[0m\u001b[0;34m,\u001b[0m\u001b[0;34m\u001b[0m\u001b[0;34m\u001b[0m\u001b[0m\n",
      "\u001b[0;32m/usr/local/lib/python3.10/dist-packages/catboost/core.py\u001b[0m in \u001b[0;36m_tune_hyperparams\u001b[0;34m(self, param_grid, X, y, cv, n_iter, partition_random_seed, calc_cv_statistics, search_by_train_test_split, refit, shuffle, stratified, train_size, verbose, plot, plot_file, log_cout, log_cerr)\u001b[0m\n\u001b[1;32m   4077\u001b[0m \u001b[0;34m\u001b[0m\u001b[0m\n\u001b[1;32m   4078\u001b[0m             \u001b[0;32mwith\u001b[0m \u001b[0mplot_wrapper\u001b[0m\u001b[0;34m(\u001b[0m\u001b[0mplot\u001b[0m\u001b[0;34m,\u001b[0m \u001b[0mplot_file\u001b[0m\u001b[0;34m,\u001b[0m \u001b[0;34m'Hyperparameters search plot'\u001b[0m\u001b[0;34m,\u001b[0m \u001b[0;34m[\u001b[0m\u001b[0m_get_train_dir\u001b[0m\u001b[0;34m(\u001b[0m\u001b[0mparams\u001b[0m\u001b[0;34m)\u001b[0m\u001b[0;34m]\u001b[0m\u001b[0;34m)\u001b[0m\u001b[0;34m:\u001b[0m\u001b[0;34m\u001b[0m\u001b[0;34m\u001b[0m\u001b[0m\n\u001b[0;32m-> 4079\u001b[0;31m                 cv_result = self._object._tune_hyperparams(\n\u001b[0m\u001b[1;32m   4080\u001b[0m                     \u001b[0mparam_grid\u001b[0m\u001b[0;34m,\u001b[0m \u001b[0mtrain_params\u001b[0m\u001b[0;34m[\u001b[0m\u001b[0;34m\"train_pool\"\u001b[0m\u001b[0;34m]\u001b[0m\u001b[0;34m,\u001b[0m \u001b[0mparams\u001b[0m\u001b[0;34m,\u001b[0m \u001b[0mn_iter\u001b[0m\u001b[0;34m,\u001b[0m\u001b[0;34m\u001b[0m\u001b[0;34m\u001b[0m\u001b[0m\n\u001b[1;32m   4081\u001b[0m                     \u001b[0mfold_count\u001b[0m\u001b[0;34m,\u001b[0m \u001b[0mpartition_random_seed\u001b[0m\u001b[0;34m,\u001b[0m \u001b[0mshuffle\u001b[0m\u001b[0;34m,\u001b[0m \u001b[0mstratified\u001b[0m\u001b[0;34m,\u001b[0m \u001b[0mtrain_size\u001b[0m\u001b[0;34m,\u001b[0m\u001b[0;34m\u001b[0m\u001b[0;34m\u001b[0m\u001b[0m\n",
      "\u001b[0;32m_catboost.pyx\u001b[0m in \u001b[0;36m_catboost._CatBoost._tune_hyperparams\u001b[0;34m()\u001b[0m\n",
      "\u001b[0;32m_catboost.pyx\u001b[0m in \u001b[0;36m_catboost._CatBoost._tune_hyperparams\u001b[0;34m()\u001b[0m\n",
      "\u001b[0;31mKeyboardInterrupt\u001b[0m: "
     ]
    }
   ],
   "source": [
    "from catboost import Pool, cv\n",
    "\n",
    "\n",
    "pool = Pool(X_train, y_train, cat_features = list(columns_to_encode))\n",
    "\n",
    "params = {\n",
    "    'depth' : [5, 7, 9, 12, 15],\n",
    "    'learning_rate' : np.arange(0.01,0.2,0.005),\n",
    "    'iterations' :  [300, 400, 500],\n",
    "\n",
    "}\n",
    "\n",
    "model = CatBoostRegressor(verbose = False)\n",
    "\n",
    "#cv = [(slice(None), slice(None))]\n",
    "\n",
    "\n",
    "\n",
    "grid_search = model.randomized_search(params, pool, n_iter = 20, verbose = False, search_by_train_test_split = False, calc_cv_statistics = False)\n"
   ]
  },
  {
   "cell_type": "code",
   "execution_count": 21,
   "id": "ViqQ2HhHWj_t",
   "metadata": {
    "colab": {
     "base_uri": "https://localhost:8080/"
    },
    "id": "ViqQ2HhHWj_t",
    "outputId": "8e915c32-a264-4f0d-cd81-2b091cfe4a11"
   },
   "outputs": [
    {
     "name": "stdout",
     "output_type": "stream",
     "text": [
      "{'params': {'depth': 12, 'learning_rate': 0.28850000000000003, 'iterations': 9}}\n"
     ]
    }
   ],
   "source": [
    "print(grid_search)"
   ]
  },
  {
   "cell_type": "code",
   "execution_count": null,
   "id": "laTSg3ULXG63",
   "metadata": {
    "colab": {
     "base_uri": "https://localhost:8080/"
    },
    "id": "laTSg3ULXG63",
    "outputId": "beba0c96-f1a5-4b16-83e0-e8df84a7d4f2"
   },
   "outputs": [
    {
     "name": "stdout",
     "output_type": "stream",
     "text": [
      "MAPE:  0.3738283073435365\n",
      "RMSE:  47556.92689417931\n"
     ]
    }
   ],
   "source": [
    "model = CatBoostRegressor(learning_rate = 0.28850000000000003, iterations = 9, depth = 12, verbose = False)\n",
    "\n",
    "model.fit(final_train, y_train)\n",
    "y_pred = model.predict(final_test)\n",
    "y_train_pred = model.predict(final_train)\n",
    "\n",
    "print('MAPE: ', mean_absolute_percentage_error(y_test, y_pred))\n",
    "print('RMSE: ', mean_squared_error(y_test, y_pred, squared=False))"
   ]
  },
  {
   "cell_type": "markdown",
   "id": "eA0djixU7L8c",
   "metadata": {
    "id": "eA0djixU7L8c"
   },
   "source": [
    "**Ответ:** # -- YOUR ANSWER HERE --"
   ]
  },
  {
   "cell_type": "markdown",
   "id": "a881ad9d",
   "metadata": {
    "id": "a881ad9d"
   },
   "source": [
    "## Задание 5 (0.5 балла) LightGBM"
   ]
  },
  {
   "cell_type": "markdown",
   "id": "a35f87a6",
   "metadata": {
    "id": "a35f87a6"
   },
   "source": [
    "И наконец библиотека LightGBM - используйте `LGBMRegressor`, снова подберите гиперпараметры, оцените качество и скорость.\n"
   ]
  },
  {
   "cell_type": "code",
   "execution_count": 38,
   "id": "pMxY8Owp78Ow",
   "metadata": {
    "id": "pMxY8Owp78Ow"
   },
   "outputs": [],
   "source": [
    "from lightgbm import LGBMRegressor\n",
    "\n",
    "\n",
    "params = {\n",
    "    'max_depth' : [25, 50, 75],\n",
    "    'learning_rate' : [0.01,0.05,0.1],\n",
    "    'n_estimators' : [300, 400, 500],\n",
    "    \"num_leaves\": [300,900,1200]\n",
    "}\n",
    "\n",
    "model = LGBMRegressor(verbose = -1)\n",
    "\n",
    "cv = [(slice(None), slice(None))]\n",
    "\n",
    "\n",
    "grid_search = RandomizedSearchCV(model, params, scoring='neg_root_mean_squared_error', n_iter = 30, cv = cv)\n",
    "grid_result = grid_search.fit(final_val,y_val)"
   ]
  },
  {
   "cell_type": "code",
   "execution_count": 39,
   "id": "E5f6MCVnbUtq",
   "metadata": {
    "colab": {
     "base_uri": "https://localhost:8080/"
    },
    "id": "E5f6MCVnbUtq",
    "outputId": "b98734c2-5053-40c0-cb4b-82e2a2f68136"
   },
   "outputs": [
    {
     "name": "stdout",
     "output_type": "stream",
     "text": [
      "Best Hyperparameters: {'num_leaves': 300, 'n_estimators': 500, 'max_depth': 25, 'learning_rate': 0.1}\n"
     ]
    }
   ],
   "source": [
    "print(\"Best Hyperparameters:\", grid_search.best_params_)"
   ]
  },
  {
   "cell_type": "code",
   "execution_count": 40,
   "id": "M2-WvfIrV556",
   "metadata": {
    "colab": {
     "base_uri": "https://localhost:8080/"
    },
    "id": "M2-WvfIrV556",
    "outputId": "62400f6a-a0e0-4244-8493-26f379356b34"
   },
   "outputs": [
    {
     "name": "stdout",
     "output_type": "stream",
     "text": [
      "MAPE:  0.26686299920145234\n",
      "RMSE:  42525.521322811655\n"
     ]
    }
   ],
   "source": [
    "model = LGBMRegressor(n_estimators = 500, max_depth = 25, learning_rate = 0.1, num_leaves = 300, verbose = -1)\n",
    "\n",
    "model.fit(final_train, y_train)\n",
    "y_pred = model.predict(final_test)\n",
    "y_train_pred = model.predict(final_train)\n",
    "\n",
    "print('MAPE: ', mean_absolute_percentage_error(y_test, y_pred))\n",
    "print('RMSE: ', mean_squared_error(y_test, y_pred, squared=False))"
   ]
  },
  {
   "cell_type": "code",
   "execution_count": 34,
   "id": "-uVjHa81cCaM",
   "metadata": {
    "colab": {
     "base_uri": "https://localhost:8080/",
     "height": 76
    },
    "id": "-uVjHa81cCaM",
    "outputId": "e991400f-d074-4201-e326-2d7f6ab643bf"
   },
   "outputs": [
    {
     "data": {
      "text/html": [
       "<style>#sk-container-id-1 {color: black;background-color: white;}#sk-container-id-1 pre{padding: 0;}#sk-container-id-1 div.sk-toggleable {background-color: white;}#sk-container-id-1 label.sk-toggleable__label {cursor: pointer;display: block;width: 100%;margin-bottom: 0;padding: 0.3em;box-sizing: border-box;text-align: center;}#sk-container-id-1 label.sk-toggleable__label-arrow:before {content: \"▸\";float: left;margin-right: 0.25em;color: #696969;}#sk-container-id-1 label.sk-toggleable__label-arrow:hover:before {color: black;}#sk-container-id-1 div.sk-estimator:hover label.sk-toggleable__label-arrow:before {color: black;}#sk-container-id-1 div.sk-toggleable__content {max-height: 0;max-width: 0;overflow: hidden;text-align: left;background-color: #f0f8ff;}#sk-container-id-1 div.sk-toggleable__content pre {margin: 0.2em;color: black;border-radius: 0.25em;background-color: #f0f8ff;}#sk-container-id-1 input.sk-toggleable__control:checked~div.sk-toggleable__content {max-height: 200px;max-width: 100%;overflow: auto;}#sk-container-id-1 input.sk-toggleable__control:checked~label.sk-toggleable__label-arrow:before {content: \"▾\";}#sk-container-id-1 div.sk-estimator input.sk-toggleable__control:checked~label.sk-toggleable__label {background-color: #d4ebff;}#sk-container-id-1 div.sk-label input.sk-toggleable__control:checked~label.sk-toggleable__label {background-color: #d4ebff;}#sk-container-id-1 input.sk-hidden--visually {border: 0;clip: rect(1px 1px 1px 1px);clip: rect(1px, 1px, 1px, 1px);height: 1px;margin: -1px;overflow: hidden;padding: 0;position: absolute;width: 1px;}#sk-container-id-1 div.sk-estimator {font-family: monospace;background-color: #f0f8ff;border: 1px dotted black;border-radius: 0.25em;box-sizing: border-box;margin-bottom: 0.5em;}#sk-container-id-1 div.sk-estimator:hover {background-color: #d4ebff;}#sk-container-id-1 div.sk-parallel-item::after {content: \"\";width: 100%;border-bottom: 1px solid gray;flex-grow: 1;}#sk-container-id-1 div.sk-label:hover label.sk-toggleable__label {background-color: #d4ebff;}#sk-container-id-1 div.sk-serial::before {content: \"\";position: absolute;border-left: 1px solid gray;box-sizing: border-box;top: 0;bottom: 0;left: 50%;z-index: 0;}#sk-container-id-1 div.sk-serial {display: flex;flex-direction: column;align-items: center;background-color: white;padding-right: 0.2em;padding-left: 0.2em;position: relative;}#sk-container-id-1 div.sk-item {position: relative;z-index: 1;}#sk-container-id-1 div.sk-parallel {display: flex;align-items: stretch;justify-content: center;background-color: white;position: relative;}#sk-container-id-1 div.sk-item::before, #sk-container-id-1 div.sk-parallel-item::before {content: \"\";position: absolute;border-left: 1px solid gray;box-sizing: border-box;top: 0;bottom: 0;left: 50%;z-index: -1;}#sk-container-id-1 div.sk-parallel-item {display: flex;flex-direction: column;z-index: 1;position: relative;background-color: white;}#sk-container-id-1 div.sk-parallel-item:first-child::after {align-self: flex-end;width: 50%;}#sk-container-id-1 div.sk-parallel-item:last-child::after {align-self: flex-start;width: 50%;}#sk-container-id-1 div.sk-parallel-item:only-child::after {width: 0;}#sk-container-id-1 div.sk-dashed-wrapped {border: 1px dashed gray;margin: 0 0.4em 0.5em 0.4em;box-sizing: border-box;padding-bottom: 0.4em;background-color: white;}#sk-container-id-1 div.sk-label label {font-family: monospace;font-weight: bold;display: inline-block;line-height: 1.2em;}#sk-container-id-1 div.sk-label-container {text-align: center;}#sk-container-id-1 div.sk-container {/* jupyter's `normalize.less` sets `[hidden] { display: none; }` but bootstrap.min.css set `[hidden] { display: none !important; }` so we also need the `!important` here to be able to override the default hidden behavior on the sphinx rendered scikit-learn.org. See: https://github.com/scikit-learn/scikit-learn/issues/21755 */display: inline-block !important;position: relative;}#sk-container-id-1 div.sk-text-repr-fallback {display: none;}</style><div id=\"sk-container-id-1\" class=\"sk-top-container\"><div class=\"sk-text-repr-fallback\"><pre>LGBMRegressor(verbose=-1)</pre><b>In a Jupyter environment, please rerun this cell to show the HTML representation or trust the notebook. <br />On GitHub, the HTML representation is unable to render, please try loading this page with nbviewer.org.</b></div><div class=\"sk-container\" hidden><div class=\"sk-item\"><div class=\"sk-estimator sk-toggleable\"><input class=\"sk-toggleable__control sk-hidden--visually\" id=\"sk-estimator-id-1\" type=\"checkbox\" checked><label for=\"sk-estimator-id-1\" class=\"sk-toggleable__label sk-toggleable__label-arrow\">LGBMRegressor</label><div class=\"sk-toggleable__content\"><pre>LGBMRegressor(verbose=-1)</pre></div></div></div></div></div>"
      ],
      "text/plain": [
       "LGBMRegressor(verbose=-1)"
      ]
     },
     "execution_count": 34,
     "metadata": {},
     "output_type": "execute_result"
    }
   ],
   "source": [
    "model"
   ]
  },
  {
   "cell_type": "markdown",
   "id": "7c56d873",
   "metadata": {
    "id": "7c56d873"
   },
   "source": [
    "## Задание 6 (2 балла) Сравнение и выводы"
   ]
  },
  {
   "cell_type": "markdown",
   "id": "3a2c1148",
   "metadata": {
    "id": "3a2c1148"
   },
   "source": [
    "Сравните модели бустинга и сделайте про них выводы, какая из моделей показала лучший/худший результат по качеству, скорости обучения и скорости предсказания? Как отличаются гиперпараметры для разных моделей?"
   ]
  },
  {
   "cell_type": "markdown",
   "id": "gzelUdAl-V9u",
   "metadata": {
    "id": "gzelUdAl-V9u"
   },
   "source": [
    "**Ответ:** # -- YOUR ANSWER HERE --"
   ]
  },
  {
   "cell_type": "markdown",
   "id": "fokm4x1WmxQr",
   "metadata": {
    "id": "fokm4x1WmxQr"
   },
   "source": [
    "# Часть 2 Кластеризация (5 баллов)"
   ]
  },
  {
   "cell_type": "markdown",
   "id": "UZBpHMoNm1Sa",
   "metadata": {
    "id": "UZBpHMoNm1Sa"
   },
   "source": [
    "Будем работать с данными о том, каких исполнителей слушают пользователи музыкального сервиса.\n",
    "\n",
    "Каждая строка таблицы - информация об одном пользователе. Каждый столбец - это исполнитель (The Beatles, Radiohead, etc.)\n",
    "\n",
    "Для каждой пары (пользователь, исполнитель) в таблице стоит число - доля прослушивания этого исполнителя этим пользователем.\n"
   ]
  },
  {
   "cell_type": "code",
   "execution_count": null,
   "id": "nGa-xYikoogL",
   "metadata": {
    "id": "nGa-xYikoogL"
   },
   "outputs": [],
   "source": [
    "import pandas as pd\n",
    "ratings = pd.read_excel(\"https://github.com/evgpat/edu_stepik_rec_sys/blob/main/datasets/sample_matrix.xlsx?raw=true\", engine='openpyxl')\n",
    "ratings.head()"
   ]
  },
  {
   "cell_type": "markdown",
   "id": "sGeCPjTAoxWs",
   "metadata": {
    "id": "sGeCPjTAoxWs"
   },
   "source": [
    "Будем строить кластеризацию исполнителей: если двух исполнителей слушало много людей примерно одинаковую долю своего времени (то есть векторы близки в пространстве), то, возможно исполнители похожи. Эта информация может быть полезна при построении рекомендательных систем."
   ]
  },
  {
   "cell_type": "markdown",
   "id": "R37mE-R2_3Wj",
   "metadata": {
    "id": "R37mE-R2_3Wj"
   },
   "source": [
    "## Задание 1 (0.5 балла) Подготовка"
   ]
  },
  {
   "cell_type": "markdown",
   "id": "orn7K6q8plA5",
   "metadata": {
    "id": "orn7K6q8plA5"
   },
   "source": [
    "Транспонируем матрицу ratings, чтобы по строкам стояли исполнители."
   ]
  },
  {
   "cell_type": "code",
   "execution_count": null,
   "id": "KU6ljPlCpiwH",
   "metadata": {
    "id": "KU6ljPlCpiwH"
   },
   "outputs": [],
   "source": [
    "# -- YOUR CODE HERE --"
   ]
  },
  {
   "cell_type": "markdown",
   "id": "WEKrlEhMpkhF",
   "metadata": {
    "id": "WEKrlEhMpkhF"
   },
   "source": [
    "Выкиньте строку под названием `user`."
   ]
  },
  {
   "cell_type": "code",
   "execution_count": null,
   "id": "yAaV1q9TpuMh",
   "metadata": {
    "id": "yAaV1q9TpuMh"
   },
   "outputs": [],
   "source": [
    "# -- YOUR CODE HERE --"
   ]
  },
  {
   "cell_type": "markdown",
   "id": "Z823IqqPpv_s",
   "metadata": {
    "id": "Z823IqqPpv_s"
   },
   "source": [
    "В таблице много пропусков, так как пользователи слушают не всех-всех исполнителей, чья музыка представлена в сервисе, а некоторое подмножество (обычно около 30 исполнителей)\n",
    "\n",
    "\n",
    "Доля исполнителя в музыке, прослушанной  пользователем, равна 0, если пользователь никогда не слушал музыку данного музыканта, поэтому заполните пропуски нулями.\n",
    "\n"
   ]
  },
  {
   "cell_type": "code",
   "execution_count": null,
   "id": "XRdHzXJUsOeS",
   "metadata": {
    "id": "XRdHzXJUsOeS"
   },
   "outputs": [],
   "source": [
    "# -- YOUR CODE HERE --\n",
    "ratings.sample()"
   ]
  },
  {
   "cell_type": "markdown",
   "id": "0_1D0JnmAAjL",
   "metadata": {
    "id": "0_1D0JnmAAjL"
   },
   "source": [
    "## Задание 2 (0.5 балла) Первая кластеризация"
   ]
  },
  {
   "cell_type": "markdown",
   "id": "ARuDv5grstBl",
   "metadata": {
    "id": "ARuDv5grstBl"
   },
   "source": [
    "Примените KMeans с 5ю кластерами, сохраните полученные лейблы"
   ]
  },
  {
   "cell_type": "code",
   "execution_count": null,
   "id": "r2HxwIN5ssoO",
   "metadata": {
    "id": "r2HxwIN5ssoO"
   },
   "outputs": [],
   "source": [
    "from sklearn.cluster import KMeans\n",
    "\n",
    "# -- YOUR CODE HERE --"
   ]
  },
  {
   "cell_type": "markdown",
   "id": "aoWre3460SVi",
   "metadata": {
    "id": "aoWre3460SVi"
   },
   "source": [
    "Выведите размеры кластеров. Полезной ли получилась кластеризация? Почему KMeans может выдать такой результат?"
   ]
  },
  {
   "cell_type": "code",
   "execution_count": null,
   "id": "zsGGw7ha1OhP",
   "metadata": {
    "id": "zsGGw7ha1OhP"
   },
   "outputs": [],
   "source": [
    "# -- YOUR CODE HERE --"
   ]
  },
  {
   "cell_type": "markdown",
   "id": "lCcSpb2o11nZ",
   "metadata": {
    "id": "lCcSpb2o11nZ"
   },
   "source": [
    "**Ответ:** # -- YOUR ANSWER HERE --"
   ]
  },
  {
   "cell_type": "markdown",
   "id": "HDLIxdWBAMql",
   "metadata": {
    "id": "HDLIxdWBAMql"
   },
   "source": [
    "## Задание 3 (0.5 балла) Объяснение результатов"
   ]
  },
  {
   "cell_type": "markdown",
   "id": "Z0LPwxlK6PX3",
   "metadata": {
    "id": "Z0LPwxlK6PX3"
   },
   "source": [
    "При кластеризации получилось $\\geq 1$ кластера размера 1. Выведите исполнителей, которые составляют такие кластеры. Среди них должна быть группа The Beatles."
   ]
  },
  {
   "cell_type": "code",
   "execution_count": null,
   "id": "GpopP65iUXiJ",
   "metadata": {
    "id": "GpopP65iUXiJ"
   },
   "outputs": [],
   "source": [
    "# -- YOUR CODE HERE --"
   ]
  },
  {
   "cell_type": "markdown",
   "id": "brfvihta6yyG",
   "metadata": {
    "id": "brfvihta6yyG"
   },
   "source": [
    "Изучите данные, почему именно The Beatles выделяется?\n",
    "\n",
    "Подсказка: посмотрите на долю пользователей, которые слушают каждого исполнителя, среднюю долю прослушивания."
   ]
  },
  {
   "cell_type": "code",
   "execution_count": null,
   "id": "xnK6DL-aUdPi",
   "metadata": {
    "id": "xnK6DL-aUdPi"
   },
   "outputs": [],
   "source": [
    "# -- YOUR CODE HERE --"
   ]
  },
  {
   "cell_type": "markdown",
   "id": "QzYYFir870jG",
   "metadata": {
    "id": "QzYYFir870jG"
   },
   "source": [
    "**Ответ:** # -- YOUR ANSWER HERE --"
   ]
  },
  {
   "cell_type": "markdown",
   "id": "faW2kZFjAS9X",
   "metadata": {
    "id": "faW2kZFjAS9X"
   },
   "source": [
    "## Задание 4 (0.5 балла) Улучшение кластеризации"
   ]
  },
  {
   "cell_type": "markdown",
   "id": "Yzz3BbBw9KKt",
   "metadata": {
    "id": "Yzz3BbBw9KKt"
   },
   "source": [
    "Попытаемся избавиться от этой проблемы: нормализуйте данные при помощи `normalize`."
   ]
  },
  {
   "cell_type": "code",
   "execution_count": null,
   "id": "zg_crbGI9RNG",
   "metadata": {
    "id": "zg_crbGI9RNG"
   },
   "outputs": [],
   "source": [
    "from sklearn.preprocessing import normalize\n",
    "\n",
    "# -- YOUR CODE HERE --"
   ]
  },
  {
   "cell_type": "markdown",
   "id": "vFlwI4ec-SuY",
   "metadata": {
    "id": "vFlwI4ec-SuY"
   },
   "source": [
    "Примените KMeans с 5ю кластерами на преобразованной матрице, посмотрите на их размеры. Стало ли лучше? Может ли кластеризация быть полезной теперь?"
   ]
  },
  {
   "cell_type": "code",
   "execution_count": null,
   "id": "6ic3WvMdUfwb",
   "metadata": {
    "id": "6ic3WvMdUfwb"
   },
   "outputs": [],
   "source": [
    "# -- YOUR CODE HERE --"
   ]
  },
  {
   "cell_type": "markdown",
   "id": "Xj9fyDKd-bzk",
   "metadata": {
    "id": "Xj9fyDKd-bzk"
   },
   "source": [
    "**Ответ** # -- YOUR ANSWER HERE --"
   ]
  },
  {
   "cell_type": "markdown",
   "id": "zFsXACPxAhyv",
   "metadata": {
    "id": "zFsXACPxAhyv"
   },
   "source": [
    "## Задание 5 (1 балл) Центроиды"
   ]
  },
  {
   "cell_type": "markdown",
   "id": "qG5cISdzu7Jh",
   "metadata": {
    "id": "qG5cISdzu7Jh"
   },
   "source": [
    "Выведите для каждого кластера названия топ-10 исполнителей, ближайших к центроиду по косинусной мере. Проинтерпретируйте результат. Что можно сказать о смысле кластеров?"
   ]
  },
  {
   "cell_type": "code",
   "execution_count": null,
   "id": "Q3gI8OlKuCG6",
   "metadata": {
    "id": "Q3gI8OlKuCG6"
   },
   "outputs": [],
   "source": [
    "from scipy.spatial.distance import cosine\n",
    "\n",
    "\n",
    "centroids = km.cluster_centers_\n",
    "\n",
    "# -- YOUR CODE HERE --"
   ]
  },
  {
   "cell_type": "markdown",
   "id": "GwioYtvAxqxT",
   "metadata": {
    "id": "GwioYtvAxqxT"
   },
   "source": [
    "**Ответ:** # -- YOUR ANSWER HERE --"
   ]
  },
  {
   "cell_type": "markdown",
   "id": "TkBh9Dk2C_el",
   "metadata": {
    "id": "TkBh9Dk2C_el"
   },
   "source": [
    "## Задание 6 (1 балл) Визуализация"
   ]
  },
  {
   "cell_type": "markdown",
   "id": "GzP-OoAZDony",
   "metadata": {
    "id": "GzP-OoAZDony"
   },
   "source": [
    "Хотелось бы как-то визуализировать полученную кластеризацию. Постройте точечные графики `plt.scatter` для нескольких пар признаков исполнителей, покрасив точки в цвета кластеров. Почему визуализации получились такими? Хорошо ли они отражают разделение на кластеры? Почему?"
   ]
  },
  {
   "cell_type": "code",
   "execution_count": null,
   "id": "HyVqnEQ3DWgm",
   "metadata": {
    "id": "HyVqnEQ3DWgm"
   },
   "outputs": [],
   "source": [
    "import matplotlib.pyplot as plt\n",
    "\n",
    "# -- YOUR CODE HERE --"
   ]
  },
  {
   "cell_type": "markdown",
   "id": "O5t7YabAFPe4",
   "metadata": {
    "id": "O5t7YabAFPe4"
   },
   "source": [
    "**Ответ:** # -- YOUR ANSWER HERE --"
   ]
  },
  {
   "cell_type": "markdown",
   "id": "ZuPjFHu4GuHK",
   "metadata": {
    "id": "ZuPjFHu4GuHK"
   },
   "source": [
    "Для визуализации данных высокой размерности существует метод t-SNE (стохастическое вложение соседей с t-распределением). Данный метод является нелинейным методом снижения размерности: каждый объект высокой размерности будет моделироваться объектов более низкой (например, 2) размерности таким образом, чтобы похожие объекты моделировались близкими, непохожие - далекими с большой вероятностью.\n",
    "\n",
    "Примените `TSNE` из библиотеки `sklearn` и визуализируйте полученные объекты, покрасив их в цвета их кластеров"
   ]
  },
  {
   "cell_type": "code",
   "execution_count": null,
   "id": "CVNPXKvcH7uV",
   "metadata": {
    "id": "CVNPXKvcH7uV"
   },
   "outputs": [],
   "source": [
    "from sklearn.manifold import TSNE\n",
    "\n",
    "# -- YOUR CODE HERE --"
   ]
  },
  {
   "cell_type": "markdown",
   "id": "Mi1frYgFJCrT",
   "metadata": {
    "id": "Mi1frYgFJCrT"
   },
   "source": [
    "## Задание 7 (1 балл) Подбор гиперпараметров"
   ]
  },
  {
   "cell_type": "markdown",
   "id": "7UKDZt-bAokD",
   "metadata": {
    "id": "7UKDZt-bAokD"
   },
   "source": [
    "Подберите оптимальное количество кластеров (максимум 100 кластеров) с использованием индекса Силуэта. Зафиксируйте `random_state=42`"
   ]
  },
  {
   "cell_type": "code",
   "execution_count": null,
   "id": "S4CxV_XJAy0A",
   "metadata": {
    "id": "S4CxV_XJAy0A"
   },
   "outputs": [],
   "source": [
    "from sklearn.metrics import silhouette_score\n",
    "\n",
    "# -- YOUR CODE HERE --"
   ]
  },
  {
   "cell_type": "markdown",
   "id": "J81KdOFtJORV",
   "metadata": {
    "id": "J81KdOFtJORV"
   },
   "source": [
    "Выведите исполнителей, ближайших с центроидам (аналогично заданию 5). Как соотносятся результаты? Остался ли смысл кластеров прежним? Расскажите про смысл 1-2 интересных кластеров, если он изменился и кластеров слишком много, чтобы рассказать про все."
   ]
  },
  {
   "cell_type": "code",
   "execution_count": null,
   "id": "HMY-058kBqO0",
   "metadata": {
    "id": "HMY-058kBqO0"
   },
   "outputs": [],
   "source": [
    "# -- YOUR CODE HERE --"
   ]
  },
  {
   "cell_type": "markdown",
   "id": "LeWEK2QsJkiX",
   "metadata": {
    "id": "LeWEK2QsJkiX"
   },
   "source": [
    "**Ответ:** # -- YOUR ANSWER HERE --"
   ]
  },
  {
   "cell_type": "markdown",
   "id": "YluT0kiGPe4j",
   "metadata": {
    "id": "YluT0kiGPe4j"
   },
   "source": [
    "Сделайте t-SNE визуализацию полученной кластеризации."
   ]
  },
  {
   "cell_type": "code",
   "execution_count": null,
   "id": "00rY7Z6XPfPa",
   "metadata": {
    "id": "00rY7Z6XPfPa"
   },
   "outputs": [],
   "source": [
    "# -- YOUR CODE HERE --"
   ]
  },
  {
   "cell_type": "markdown",
   "id": "Eo8H1sNqQqiF",
   "metadata": {
    "id": "Eo8H1sNqQqiF"
   },
   "source": [
    "Если кластеров получилось слишком много и визуально цвета плохо отличаются, покрасьте только какой-нибудь интересный кластер из задания выше (`c = (labels == i)`). Хорошо ли этот кластер отражается в визуализации?"
   ]
  },
  {
   "cell_type": "code",
   "execution_count": null,
   "id": "E4oXA3qTQwWT",
   "metadata": {
    "id": "E4oXA3qTQwWT"
   },
   "outputs": [],
   "source": [
    "# -- YOUR CODE HERE --"
   ]
  },
  {
   "cell_type": "markdown",
   "id": "SHxur6z7Q0fu",
   "metadata": {
    "id": "SHxur6z7Q0fu"
   },
   "source": [
    "**Ответ:** # -- YOUR ANSWER HERE --"
   ]
  }
 ],
 "metadata": {
  "colab": {
   "provenance": []
  },
  "kernelspec": {
   "display_name": "Python 3 (ipykernel)",
   "language": "python",
   "name": "python3"
  },
  "language_info": {
   "codemirror_mode": {
    "name": "ipython",
    "version": 3
   },
   "file_extension": ".py",
   "mimetype": "text/x-python",
   "name": "python",
   "nbconvert_exporter": "python",
   "pygments_lexer": "ipython3",
   "version": "3.9.13"
  }
 },
 "nbformat": 4,
 "nbformat_minor": 5
}
